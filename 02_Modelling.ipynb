{
 "cells": [
  {
   "cell_type": "markdown",
   "metadata": {
    "application/vnd.databricks.v1+cell": {
     "cellMetadata": {},
     "inputWidgets": {},
     "nuid": "7e635356-ad60-428d-937e-9a5eb96d8cb5",
     "showTitle": false,
     "tableResultSettingsMap": {},
     "title": ""
    }
   },
   "source": [
    "## Setup and Imports\n",
    "\n",
    "First, let's set up our Spark environment and import the necessary libraries."
   ]
  },
  {
   "cell_type": "code",
   "execution_count": 0,
   "metadata": {
    "application/vnd.databricks.v1+cell": {
     "cellMetadata": {
      "byteLimit": 2048000,
      "rowLimit": 10000
     },
     "inputWidgets": {},
     "nuid": "7a88606d-214c-4e4c-90f3-e10373f97e98",
     "showTitle": false,
     "tableResultSettingsMap": {},
     "title": ""
    }
   },
   "outputs": [
    {
     "output_type": "stream",
     "name": "stdout",
     "output_type": "stream",
     "text": [
      "Requirement already satisfied: matplotlib in /databricks/python3/lib/python3.9/site-packages (3.5.1)\r\nRequirement already satisfied: pyparsing>=2.2.1 in /databricks/python3/lib/python3.9/site-packages (from matplotlib) (3.0.4)\r\nRequirement already satisfied: packaging>=20.0 in /databricks/python3/lib/python3.9/site-packages (from matplotlib) (21.3)\r\nRequirement already satisfied: numpy>=1.17 in /databricks/python3/lib/python3.9/site-packages (from matplotlib) (1.21.5)\r\nRequirement already satisfied: cycler>=0.10 in /databricks/python3/lib/python3.9/site-packages (from matplotlib) (0.11.0)\r\nRequirement already satisfied: kiwisolver>=1.0.1 in /databricks/python3/lib/python3.9/site-packages (from matplotlib) (1.3.2)\r\nRequirement already satisfied: pillow>=6.2.0 in /databricks/python3/lib/python3.9/site-packages (from matplotlib) (9.0.1)\r\nRequirement already satisfied: python-dateutil>=2.7 in /databricks/python3/lib/python3.9/site-packages (from matplotlib) (2.8.2)\r\nRequirement already satisfied: fonttools>=4.22.0 in /databricks/python3/lib/python3.9/site-packages (from matplotlib) (4.25.0)\r\nRequirement already satisfied: six>=1.5 in /databricks/python3/lib/python3.9/site-packages (from python-dateutil>=2.7->matplotlib) (1.16.0)\r\n\u001B[33mWARNING: You are using pip version 21.2.4; however, version 25.1.1 is available.\r\nYou should consider upgrading via the '/local_disk0/.ephemeral_nfs/envs/pythonEnv-2f8c94d1-a34b-4ec7-9b1b-b4fc2730208f/bin/python -m pip install --upgrade pip' command.\u001B[0m\r\n"
     ]
    }
   ],
   "source": [
    "!pip install matplotlib\n",
    "\n",
    "from pyspark.ml.feature import StringIndexer, OneHotEncoder, VectorAssembler\n",
    "from pyspark.ml.feature import Tokenizer, StopWordsRemover, HashingTF, IDF\n",
    "from pyspark.ml import Pipeline\n",
    "from pyspark.ml.classification import NaiveBayes \n",
    "from pyspark.sql.functions import col, when, count, lit\n",
    "from pyspark.ml.evaluation import MulticlassClassificationEvaluator, BinaryClassificationEvaluator\n",
    "from pyspark.ml.classification import RandomForestClassifier\n",
    "\n",
    "from pyspark.sql import DataFrame\n",
    "from pyspark.sql.functions import col, udf\n",
    "from pyspark.sql.types import DoubleType\n",
    "import matplotlib.pyplot as plt\n",
    "import pandas as pd\n",
    "\n",
    "from sklearn.metrics import roc_curve, auc\n",
    "\n"
   ]
  },
  {
   "cell_type": "markdown",
   "metadata": {
    "application/vnd.databricks.v1+cell": {
     "cellMetadata": {},
     "inputWidgets": {},
     "nuid": "f69f7b92-0396-4973-b40c-90fca37f11e8",
     "showTitle": false,
     "tableResultSettingsMap": {},
     "title": ""
    }
   },
   "source": [
    "## Custom function"
   ]
  },
  {
   "cell_type": "markdown",
   "metadata": {
    "application/vnd.databricks.v1+cell": {
     "cellMetadata": {},
     "inputWidgets": {},
     "nuid": "bd86d748-961e-4dc6-9e54-b8d644148bdb",
     "showTitle": false,
     "tableResultSettingsMap": {},
     "title": ""
    }
   },
   "source": [
    "#### Plot score distributions"
   ]
  },
  {
   "cell_type": "code",
   "execution_count": 0,
   "metadata": {
    "application/vnd.databricks.v1+cell": {
     "cellMetadata": {
      "byteLimit": 2048000,
      "rowLimit": 10000
     },
     "inputWidgets": {},
     "nuid": "c7a107fd-bd11-4601-9e5e-3ae04e5d28b5",
     "showTitle": false,
     "tableResultSettingsMap": {},
     "title": ""
    }
   },
   "outputs": [],
   "source": [
    "def plot_score_distributions(\n",
    "    predictions_df: DataFrame,\n",
    "    label_col: str = \"label\",\n",
    "    probability_col: str = \"probability\", # Assumes this is a vector like [prob_class_0, prob_class_1]\n",
    "    positive_class_index: int = 1,      # Index of the positive class's probability in the vector\n",
    "    positive_label_value = 1.0,         # The actual value in label_col for the positive class\n",
    "    negative_label_value = 0.0          # The actual value in label_col for the negative class\n",
    "):\n",
    "    \"\"\"\n",
    "    Plots the distribution of predicted scores (probabilities of the positive class)\n",
    "    for the actual positive and negative classes.\n",
    "\n",
    "    Args:\n",
    "        predictions_df (DataFrame): DataFrame containing true labels and predicted probabilities.\n",
    "                                    Must contain label_col and probability_col.\n",
    "        label_col (str): Name of the true label column.\n",
    "        probability_col (str): Name of the column containing probability vectors\n",
    "                               (e.g., [prob_class_0, prob_class_1] from NaiveBayes).\n",
    "        positive_class_index (int): Index in the probability_col vector that corresponds\n",
    "                                    to the probability of the positive class.\n",
    "        positive_label_value: The value in label_col representing the positive class.\n",
    "        negative_label_value: The value in label_col representing the negative class.\n",
    "    \"\"\"\n",
    "    print(f\"Plotting score distributions. Positive class label: {positive_label_value}, Negative class label: {negative_label_value}\")\n",
    "    print(f\"Extracting score for positive class from index {positive_class_index} of '{probability_col}'.\")\n",
    "\n",
    "    try:\n",
    "        # UDF to extract the probability of the positive class\n",
    "        extract_positive_prob_udf = udf(lambda prob_vector: float(prob_vector[positive_class_index]) if prob_vector else None, DoubleType())\n",
    "\n",
    "        temp_score_col = \"_positive_score_temp\"\n",
    "        df_with_scores = predictions_df.withColumn(temp_score_col, extract_positive_prob_udf(col(probability_col)))\n",
    "\n",
    "        # Collect scores for the positive class\n",
    "        positive_scores = df_with_scores.filter(col(label_col) == positive_label_value) \\\n",
    "                                        .select(temp_score_col).rdd.flatMap(lambda row: row).collect()\n",
    "        \n",
    "        # Collect scores for the negative class\n",
    "        negative_scores = df_with_scores.filter(col(label_col) == negative_label_value) \\\n",
    "                                        .select(temp_score_col).rdd.flatMap(lambda row: row).collect()\n",
    "        \n",
    "        # Remove None values that might result if original probability vector was null\n",
    "        positive_scores = [s for s in positive_scores if s is not None]\n",
    "        negative_scores = [s for s in negative_scores if s is not None]\n",
    "\n",
    "        if not positive_scores and not negative_scores:\n",
    "            print(\"No scores found to plot for either class.\")\n",
    "            return\n",
    "        if not positive_scores:\n",
    "            print(f\"No scores found for the positive class (label={positive_label_value}). Plotting only negative class scores.\")\n",
    "        if not negative_scores:\n",
    "            print(f\"No scores found for the negative class (label={negative_label_value}). Plotting only positive class scores.\")\n",
    "\n",
    "        # Plotting using matplotlib\n",
    "        import matplotlib.pyplot as plt\n",
    "        \n",
    "        plt.figure(figsize=(10, 6))\n",
    "        \n",
    "        if positive_scores:\n",
    "            plt.hist(positive_scores, bins=50, alpha=0.7, label=f'Actual Positive Class (Label={positive_label_value}) Scores', color='green')\n",
    "        if negative_scores:\n",
    "            plt.hist(negative_scores, bins=50, alpha=0.7, label=f'Actual Negative Class (Label={negative_label_value}) Scores', color='red')\n",
    "        \n",
    "        plt.title('Distribution of Predicted Scores for Positive Class by Actual Class')\n",
    "        plt.xlabel(f'Predicted Probability of Positive Class (Label={positive_label_value})')\n",
    "        plt.ylabel('Frequency')\n",
    "        plt.legend(loc='upper center')\n",
    "        plt.grid(True, linestyle='--', alpha=0.7)\n",
    "        plt.show() # Display the plot\n",
    "        print(\"Score distribution plot generated. Check your plotting output.\")\n",
    "\n",
    "    except ImportError:\n",
    "        print(\"Matplotlib is not installed. Please install it to plot ('pip install matplotlib').\")\n",
    "    except Exception as e:\n",
    "        print(f\"An error occurred while generating the score distribution plot: {e}\")\n",
    "        print(\"Ensure your DataFrame and column names are correct, and the probability column is a vector type.\")\n",
    "\n",
    "# --- Example Usage (Conceptual - adapt to your actual DataFrame and column names) ---\n",
    "# Assuming 'predictions_df' is available from your model:\n",
    "# predictions_df = pipeline_nb_fitted.transform(test_data)\n",
    "\n",
    "# Define which label value is \"fake\" (positive) and \"true\" (negative)\n",
    "# For example, if 'fake' is label 1 and 'true' is label 0,\n",
    "# and your NaiveBayes probability vector is [prob_of_label_0, prob_of_label_1]\n",
    "\n",
    "# plot_score_distributions(\n",
    "#     predictions_df,\n",
    "#     label_col=\"label\",\n",
    "#     probability_col=\"probability\",  # Column containing [prob_class_0, prob_class_1]\n",
    "#     positive_class_index=1,       # Index for P(label=1) in the probability vector\n",
    "#     positive_label_value=1.0,       # Value representing the \"fake\" class in 'label' column\n",
    "#     negative_label_value=0.0        # Value representing the \"true\" class in 'label' column\n",
    "# )\n"
   ]
  },
  {
   "cell_type": "markdown",
   "metadata": {
    "application/vnd.databricks.v1+cell": {
     "cellMetadata": {},
     "inputWidgets": {},
     "nuid": "f627de61-e317-4cca-9686-140cf5d237bd",
     "showTitle": false,
     "tableResultSettingsMap": {},
     "title": ""
    }
   },
   "source": [
    "#### Evaluate binary classification model"
   ]
  },
  {
   "cell_type": "code",
   "execution_count": 0,
   "metadata": {
    "application/vnd.databricks.v1+cell": {
     "cellMetadata": {
      "byteLimit": 2048000,
      "rowLimit": 10000
     },
     "inputWidgets": {},
     "nuid": "006392ff-599c-432d-b2b1-511c2ffdcb5c",
     "showTitle": false,
     "tableResultSettingsMap": {},
     "title": ""
    }
   },
   "outputs": [],
   "source": [
    "from pyspark.ml.evaluation import MulticlassClassificationEvaluator, BinaryClassificationEvaluator\n",
    "from pyspark.sql import DataFrame # For type hinting\n",
    "\n",
    "def evaluate_binary_classification_model(\n",
    "    predictions_df: DataFrame,\n",
    "    label_col: str = \"label\",\n",
    "    prediction_col: str = \"prediction\",\n",
    "    raw_prediction_col: str = \"rawPrediction\"\n",
    "):\n",
    "    \"\"\"\n",
    "    Evaluates a binary classification model and prints common metrics.\n",
    "\n",
    "    Args:\n",
    "        predictions_df (DataFrame): DataFrame containing true labels and model predictions.\n",
    "                                    Expected to have columns specified by label_col,\n",
    "                                    prediction_col, and raw_prediction_col.\n",
    "        label_col (str): Name of the true label column.\n",
    "        prediction_col (str): Name of the column with the model's final hard predictions.\n",
    "        raw_prediction_col (str): Name of the column with raw prediction scores,\n",
    "                                  typically used for AUC ROC and AUC PR.\n",
    "    Returns:\n",
    "        dict: A dictionary containing the calculated metrics.\n",
    "    \"\"\"\n",
    "    print(\"\\nEvaluating model performance for Binary Classification...\")\n",
    "\n",
    "    metrics = {}\n",
    "\n",
    "    # --- Metrics using MulticlassClassificationEvaluator (still valid for binary cases) ---\n",
    "    print(\"\\n--- Threshold-based Metrics (Accuracy, F1, Precision, Recall) ---\")\n",
    "    # Accuracy\n",
    "    accuracy_evaluator = MulticlassClassificationEvaluator(\n",
    "        labelCol=label_col,\n",
    "        predictionCol=prediction_col,\n",
    "        metricName=\"accuracy\"\n",
    "    )\n",
    "    accuracy = accuracy_evaluator.evaluate(predictions_df)\n",
    "    metrics[\"accuracy\"] = accuracy\n",
    "    print(f\"Accuracy = {accuracy:.4f}\")\n",
    "\n",
    "    # F1-Score\n",
    "    f1_evaluator = MulticlassClassificationEvaluator(\n",
    "        labelCol=label_col,\n",
    "        predictionCol=prediction_col,\n",
    "        metricName=\"f1\"\n",
    "    )\n",
    "    f1_score = f1_evaluator.evaluate(predictions_df)\n",
    "    metrics[\"f1_score\"] = f1_score\n",
    "    print(f\"F1 Score = {f1_score:.4f}\")\n",
    "\n",
    "    # Weighted Precision\n",
    "    precision_evaluator = MulticlassClassificationEvaluator(\n",
    "        labelCol=label_col,\n",
    "        predictionCol=prediction_col,\n",
    "        metricName=\"weightedPrecision\"\n",
    "    )\n",
    "    weighted_precision = precision_evaluator.evaluate(predictions_df)\n",
    "    metrics[\"weighted_precision\"] = weighted_precision\n",
    "    print(f\"Weighted Precision = {weighted_precision:.4f}\")\n",
    "\n",
    "    # Weighted Recall\n",
    "    recall_evaluator = MulticlassClassificationEvaluator(\n",
    "        labelCol=label_col,\n",
    "        predictionCol=prediction_col,\n",
    "        metricName=\"weightedRecall\"\n",
    "    )\n",
    "    weighted_recall = recall_evaluator.evaluate(predictions_df)\n",
    "    metrics[\"weighted_recall\"] = weighted_recall\n",
    "    print(f\"Weighted Recall = {weighted_recall:.4f}\")\n",
    "\n",
    "    # --- Metrics using BinaryClassificationEvaluator (Specific to Binary) ---\n",
    "    print(\"\\n--- Ranking-based Metrics (AUC ROC, AUC PR) ---\")\n",
    "    # Area Under ROC Curve (AUC ROC)\n",
    "    try:\n",
    "        roc_auc_evaluator = BinaryClassificationEvaluator(\n",
    "            labelCol=label_col,\n",
    "            rawPredictionCol=raw_prediction_col, # Uses raw scores or probabilities\n",
    "            metricName=\"areaUnderROC\"\n",
    "        )\n",
    "        auc_roc = roc_auc_evaluator.evaluate(predictions_df)\n",
    "        metrics[\"auc_roc\"] = auc_roc\n",
    "        print(f\"Area Under ROC (AUC ROC) = {auc_roc:.4f}\")\n",
    "    except Exception as e:\n",
    "        print(f\"Could not calculate AUC ROC. Error: {e}\")\n",
    "        print(f\"Ensure '{raw_prediction_col}' column exists and is in the correct format (double or vector for label 1 probability).\")\n",
    "        metrics[\"auc_roc\"] = None\n",
    "\n",
    "    # Area Under Precision-Recall Curve (AUC PR)\n",
    "    try:\n",
    "        pr_auc_evaluator = BinaryClassificationEvaluator(\n",
    "            labelCol=label_col,\n",
    "            rawPredictionCol=raw_prediction_col, # Uses raw scores or probabilities\n",
    "            metricName=\"areaUnderPR\"\n",
    "        )\n",
    "        auc_pr = pr_auc_evaluator.evaluate(predictions_df)\n",
    "        metrics[\"auc_pr\"] = auc_pr\n",
    "        print(f\"Area Under Precision-Recall Curve (AUC PR) = {auc_pr:.4f}\")\n",
    "    except Exception as e:\n",
    "        print(f\"Could not calculate AUC PR. Error: {e}\")\n",
    "        print(f\"Ensure '{raw_prediction_col}' column exists and is in the correct format.\")\n",
    "        metrics[\"auc_pr\"] = None\n",
    "        \n",
    "    print(\"\\nEvaluation complete.\")\n",
    "    return metrics"
   ]
  },
  {
   "cell_type": "markdown",
   "metadata": {
    "application/vnd.databricks.v1+cell": {
     "cellMetadata": {},
     "inputWidgets": {},
     "nuid": "168f7d50-3694-4ea6-a08c-ee8c66d9d2c5",
     "showTitle": false,
     "tableResultSettingsMap": {},
     "title": ""
    }
   },
   "source": [
    "#### Compare mode metrics"
   ]
  },
  {
   "cell_type": "code",
   "execution_count": 0,
   "metadata": {
    "application/vnd.databricks.v1+cell": {
     "cellMetadata": {
      "byteLimit": 2048000,
      "rowLimit": 10000
     },
     "inputWidgets": {},
     "nuid": "d0c70ca5-c2f2-48a7-af8a-f8ea1f6f46c0",
     "showTitle": false,
     "tableResultSettingsMap": {},
     "title": ""
    }
   },
   "outputs": [],
   "source": [
    "import pandas as pd\n",
    "\n",
    "def compare_model_metrics(model_metrics_list, model_names_list):\n",
    "    \"\"\"\n",
    "    Creates and displays a comparison table for metrics from multiple models.\n",
    "\n",
    "    Args:\n",
    "        model_metrics_list (list): A list of dictionaries, where each dictionary\n",
    "                                   contains the metrics for a model.\n",
    "                                   Example: [{'accuracy': 0.9, 'f1_score': 0.89, ...}, {...}]\n",
    "        model_names_list (list): A list of strings, representing the names of the models,\n",
    "                                 corresponding to the order in model_metrics_list.\n",
    "\n",
    "    Returns:\n",
    "        pandas.DataFrame: A DataFrame containing the comparison of metrics.\n",
    "                          Returns None if inputs are invalid.\n",
    "    \"\"\"\n",
    "    if not isinstance(model_metrics_list, list) or not isinstance(model_names_list, list):\n",
    "        print(\"Error: model_metrics_list and model_names_list must be lists.\")\n",
    "        return None\n",
    "    if len(model_metrics_list) != len(model_names_list):\n",
    "        print(\"Error: The list of metrics and the list of model names must have the same length.\")\n",
    "        return None\n",
    "    if not model_metrics_list:\n",
    "        print(\"Error: The model_metrics_list is empty.\")\n",
    "        return None\n",
    "\n",
    "    # Prepare data for Pandas DataFrame\n",
    "    # We'll create a list of dictionaries, where each dictionary is a row (a model's metrics)\n",
    "    data_for_df = []\n",
    "    for i, metrics_dict in enumerate(model_metrics_list):\n",
    "        if not isinstance(metrics_dict, dict):\n",
    "            print(f\"Warning: Item at index {i} in model_metrics_list is not a dictionary. Skipping.\")\n",
    "            continue\n",
    "        \n",
    "        # Create a new dictionary that includes the model name and then the metrics\n",
    "        row_data = {'Model Name': model_names_list[i]}\n",
    "        row_data.update(metrics_dict) # Add all metrics from the input dictionary\n",
    "        data_for_df.append(row_data)\n",
    "\n",
    "    if not data_for_df:\n",
    "        print(\"No valid data to create comparison table.\")\n",
    "        return None\n",
    "\n",
    "    # Create Pandas DataFrame\n",
    "    comparison_df = pd.DataFrame(data_for_df)\n",
    "\n",
    "    # Define a preferred order for metric columns if possible, others will be appended\n",
    "    # Based on your example output:\n",
    "    preferred_metric_order = [\n",
    "        'accuracy', 'f1_score', 'weighted_precision',\n",
    "        'weighted_recall', 'auc_roc', 'auc_pr'\n",
    "    ]\n",
    "    \n",
    "    # Start with 'Model Name'\n",
    "    ordered_columns = ['Model Name']\n",
    "    \n",
    "    # Add preferred metrics if they exist in the DataFrame\n",
    "    for metric in preferred_metric_order:\n",
    "        if metric in comparison_df.columns:\n",
    "            ordered_columns.append(metric)\n",
    "            \n",
    "    # Add any other metric columns that might exist but weren't in the preferred list\n",
    "    for col in comparison_df.columns:\n",
    "        if col not in ordered_columns:\n",
    "            ordered_columns.append(col)\n",
    "            \n",
    "    comparison_df = comparison_df[ordered_columns]\n",
    "\n",
    "    print(\"\\n--- Model Performance Comparison ---\")\n",
    "    # For better display in environments like Jupyter/Databricks,\n",
    "    # just returning the DataFrame and letting the environment display it is often best.\n",
    "    # print(comparison_df.to_string()) # .to_string() ensures it prints well in most consoles\n",
    "    \n",
    "    return comparison_df\n"
   ]
  },
  {
   "cell_type": "markdown",
   "metadata": {
    "application/vnd.databricks.v1+cell": {
     "cellMetadata": {},
     "inputWidgets": {},
     "nuid": "62730d1e-0aab-441b-970c-a66c2e8b9159",
     "showTitle": false,
     "tableResultSettingsMap": {},
     "title": ""
    }
   },
   "source": [
    "## Data processing functions"
   ]
  },
  {
   "cell_type": "markdown",
   "metadata": {
    "application/vnd.databricks.v1+cell": {
     "cellMetadata": {},
     "inputWidgets": {},
     "nuid": "1949f4e4-38e7-49b8-b749-e61090584862",
     "showTitle": false,
     "tableResultSettingsMap": {},
     "title": ""
    }
   },
   "source": [
    "#### Tokenize text"
   ]
  },
  {
   "cell_type": "code",
   "execution_count": 0,
   "metadata": {
    "application/vnd.databricks.v1+cell": {
     "cellMetadata": {
      "byteLimit": 2048000,
      "rowLimit": 10000
     },
     "inputWidgets": {},
     "nuid": "2079aa61-a9a6-405c-bb03-89d7e50064bb",
     "showTitle": false,
     "tableResultSettingsMap": {},
     "title": ""
    }
   },
   "outputs": [],
   "source": [
    "def tokenize_text(df, text_column=\"text\", output_column=\"tokens\"):\n",
    "    \"\"\"\n",
    "    Tokenize text into words.\n",
    "    \n",
    "    Args:\n",
    "        df: DataFrame with text column\n",
    "        text_column (str): Name of the text column\n",
    "        output_column (str): Name of the output column for tokens\n",
    "        \n",
    "    Returns:\n",
    "        DataFrame: DataFrame with tokenized text\n",
    "    \"\"\"\n",
    "    print(\"Tokenizing text...\")\n",
    "    \n",
    "    # Create a tokenizer\n",
    "    tokenizer = Tokenizer(inputCol=text_column, outputCol=output_column)\n",
    "    \n",
    "    # Apply tokenization\n",
    "    tokenized_df = tokenizer.transform(df)\n",
    "    \n",
    "    return tokenized_df\n"
   ]
  },
  {
   "cell_type": "markdown",
   "metadata": {
    "application/vnd.databricks.v1+cell": {
     "cellMetadata": {},
     "inputWidgets": {},
     "nuid": "f5ebb944-5619-491f-805f-9b8bff67f202",
     "showTitle": false,
     "tableResultSettingsMap": {},
     "title": ""
    }
   },
   "source": [
    "#### Remove stopwords"
   ]
  },
  {
   "cell_type": "code",
   "execution_count": 0,
   "metadata": {
    "application/vnd.databricks.v1+cell": {
     "cellMetadata": {
      "byteLimit": 2048000,
      "rowLimit": 10000
     },
     "inputWidgets": {},
     "nuid": "b9375bc8-d27f-49ed-a10a-2ed3bc5978a3",
     "showTitle": false,
     "tableResultSettingsMap": {},
     "title": ""
    }
   },
   "outputs": [],
   "source": [
    "def remove_stopwords(df, tokens_column=\"tokens\", output_column=\"filtered_tokens\"):\n",
    "    \"\"\"\n",
    "    Remove stopwords from tokenized text.\n",
    "    \n",
    "    Args:\n",
    "        df: DataFrame with tokens column\n",
    "        tokens_column (str): Name of the tokens column\n",
    "        output_column (str): Name of the output column for filtered tokens\n",
    "        \n",
    "    Returns:\n",
    "        DataFrame: DataFrame with stopwords removed\n",
    "    \"\"\"\n",
    "    print(\"Removing stopwords...\")\n",
    "    \n",
    "    # Create a stopwords remover\n",
    "    remover = StopWordsRemover(inputCol=tokens_column, outputCol=output_column)\n",
    "    \n",
    "    # Apply stopwords removal\n",
    "    filtered_df = remover.transform(df)\n",
    "    \n",
    "    return filtered_df"
   ]
  },
  {
   "cell_type": "markdown",
   "metadata": {
    "application/vnd.databricks.v1+cell": {
     "cellMetadata": {},
     "inputWidgets": {},
     "nuid": "050b504c-19a5-4054-aedd-8d62c259b151",
     "showTitle": false,
     "tableResultSettingsMap": {},
     "title": ""
    }
   },
   "source": [
    "## Get data from Parquet"
   ]
  },
  {
   "cell_type": "code",
   "execution_count": 0,
   "metadata": {
    "application/vnd.databricks.v1+cell": {
     "cellMetadata": {
      "byteLimit": 2048000,
      "rowLimit": 10000
     },
     "inputWidgets": {},
     "nuid": "23c6749a-753b-4826-89d5-b08bd13910de",
     "showTitle": false,
     "tableResultSettingsMap": {},
     "title": ""
    }
   },
   "outputs": [],
   "source": [
    "df = spark.read.parquet(\"/dbfs/FileStore/fake_news_detection/data/processed/combined_news.parquet\")"
   ]
  },
  {
   "cell_type": "code",
   "execution_count": 0,
   "metadata": {
    "application/vnd.databricks.v1+cell": {
     "cellMetadata": {
      "byteLimit": 2048000,
      "rowLimit": 10000
     },
     "inputWidgets": {},
     "nuid": "b1692447-9943-45c1-b6a2-0e5b5f5b4a6d",
     "showTitle": false,
     "tableResultSettingsMap": {},
     "title": ""
    }
   },
   "outputs": [
    {
     "output_type": "stream",
     "name": "stdout",
     "output_type": "stream",
     "text": [
      "Out[110]: ['title', 'text', 'location', 'news_source', 'label']"
     ]
    }
   ],
   "source": [
    "df.columns"
   ]
  },
  {
   "cell_type": "code",
   "execution_count": 0,
   "metadata": {
    "application/vnd.databricks.v1+cell": {
     "cellMetadata": {
      "byteLimit": 2048000,
      "rowLimit": 10000
     },
     "inputWidgets": {},
     "nuid": "d67a5871-bd32-4fdf-8f12-b999f85b9132",
     "showTitle": false,
     "tableResultSettingsMap": {},
     "title": ""
    }
   },
   "outputs": [],
   "source": [
    "# impute unknown location and source if null\n",
    "from pyspark.sql.functions import col, when\n",
    "\n",
    "df = df.withColumn(\"location\", \\\n",
    "          when(col(\"location\").isNull(), \"Unknown_Location\") \\\n",
    "               .otherwise(col(\"location\"))) \\\n",
    "          .withColumn(\"news_source\", \\\n",
    "               when(col(\"news_source\").isNull(), \"Unknown_Source\") \\\n",
    "          .otherwise(col(\"news_source\")))"
   ]
  },
  {
   "cell_type": "code",
   "execution_count": 0,
   "metadata": {
    "application/vnd.databricks.v1+cell": {
     "cellMetadata": {
      "byteLimit": 2048000,
      "rowLimit": 10000
     },
     "inputWidgets": {},
     "nuid": "afd5a7a4-98cb-40d9-b208-38043ecaef88",
     "showTitle": false,
     "tableResultSettingsMap": {},
     "title": ""
    }
   },
   "outputs": [
    {
     "output_type": "display_data",
     "data": {
      "text/html": [
       "<style scoped>\n",
       "  .table-result-container {\n",
       "    max-height: 300px;\n",
       "    overflow: auto;\n",
       "  }\n",
       "  table, th, td {\n",
       "    border: 1px solid black;\n",
       "    border-collapse: collapse;\n",
       "  }\n",
       "  th, td {\n",
       "    padding: 5px;\n",
       "  }\n",
       "  th {\n",
       "    text-align: left;\n",
       "  }\n",
       "</style><div class='table-result-container'><table class='table-result'><thead style='background-color: white'><tr><th>title</th><th>text</th><th>location</th><th>news_source</th><th>label</th></tr></thead><tbody><tr><td>abc news emails show hillary s top aide arranged special seating at state dinner for top clinton donors video</td><td>this woman should be in a jail cell not sitting around laughing and opening pickle jars on the jimmy fallon show judicial watch s release this week of 725 pages of state department emails involving hillary clinton aide huma abedin demonstrates the obama administration considers a large percentage of the emails sent through clinton s private server too sensitive for congress or the american public to read of the 725 pages more than 250 pages were 100 percent redacted many with page denied stamped in bold judicial watch said the new cache includes previously unreleased email exchanges in which former abedin provided influential clinton foundation donors special expedited access to the secretary of state judicial watch added that in many instances the preferential treatment provided to donors was at the specific request of clinton foundation executive douglas band the abedin emails reveal that the longtime clinton aide apparently served as a conduit between clinton foundation donors and hillary clinton while clinton served as secretary of state in more than a dozen email exchanges abedin provided expedited direct access to clinton for donors who had contributed from 25 000 to 10 million to the clinton foundation judicial watch said in a statement announcing the release wndwatch #crookedhillary scandal #9 999 and counting</td><td>Unknown_Location</td><td>Unknown_Source</td><td>0</td></tr><tr><td>black men for bernie founder campaigns in swing states for trump bill and hillary did major damage to our communities last time in white house video</td><td>apparently using thug michael ferguson s mom as a prop at black functions was not enough to be granted the black vote black men for bernie founder bruce carter s mission to restore black communities didn t end when vermont senator bernie sanders lost to hillary clinton in the democratic primary he opposed hillary clinton and the democratic establishment then because he knew that they didn t represent the minority communities he engaged in politics to fight for after the leak of internal dnc emails carter is convinced that the democratic party rigged the primary against his candidate and that hillary clinton s democratic party has no intention of changing the policies that led to the destruction of the communities he s working to improve bruce carter still believes that hillary clinton is the poster child for the kind of cronyism corruption and evil that the bernie revolution was built to overthrow he doesn t believe hillary clinton when she labels donald trump and his supporters as racists because he knows she falsely labeled her opponents in the primary as sexist bernie bros carter s preparing to take the experience knowledge and contacts his group built during the primary to campaign against hillary clinton and for donald trump and other republicans in battleground states across the country bruce carter and black men for bernie are at war with the democratic establishment whom he says pander for votes but haven t delivered meaningful results to minority communities for decades carter became politically active to support bernie sanders who taught him how the establishment s only real constituency was the donor class when he paired that knowledge with what he knew about the decline in the black and minority neighborhoods he loves he realized democratic politicians and the media had been lying bernie inspired us to disrupt the status quo because it only works for the elites and not regular people who are struggling carter told breitbart news if black communities vote for hillary clinton and democrats in november nothing will change because democrats will continue to believe they don t have to do anything to earn our votes carter became one of the most prominent and recognizable supporters of the sanders campaign by traveling the country in a tour bus and fleet of vehicles wrapped with the black men for bernie logo and a picture of sanders being arrested during the civil rights movement his online videos received millions of views and featured celebrities like mark ruffalo and ice cream makers ben and jerry this guy knows what he s doing when it comes to rallying the troops to get behind his candidate watch carter organizing supporters for bernie before hillary cheated him out of the chance to become the democrat party candidate carter told breitbart news that his greatest awakening of how democrats exploit minority voters came when he learned from the washington post that the democratic party spends less than 2 percent of its campaign resources with minority owned companies even though they get better than 90 percent of the black vote it is a practice that carter calls political slavery now black men for bernie are rebranding and again planning to tour the country with an emphasis on battleground states carter says he s going to organize black and minority communities to vote against hillary clinton and the democratic establishment donald trump is a business man and a real estate mogul who could provide knowledge and resources to transform urban communities through the development of minority owned businesses carter said with this tour we re going to show mr trump and republicans that the black and minority communities are ready to work with anyone willing to work with us to build opportunities in businesses employment and housing we don t want welfare we need opportunity carter had a lot of ideas when asked about what trump could do to help him win black votes away from the democrats when donald trump tells black people what do you have to lose by voting for me he s getting close to a message that will work but it s not quite there yet carter explained we re going to go back to these communities in florida ohio pennsylvania michigan and across the country to lead people to the facts about the clintons and democrats failures with our struggling communities carter said for carter and the black men for bernie they can t unlearn what they discovered about hillary during the primary we know that hillary clinton is for hillary clinton and the rich donors of the clinton foundation carter said we know that bill and hillary did major damage to our communities the last time they were in the white house we know they will lie about their opponents by unfairly labeling them sexists and racists and radicals donald trump isn t a typical politician and he isn t beholden to the same old political powers carter continued we want to earn our seat at the table in his administration and i think he and the republicans are smart enough to realize that when we deliver them a historic number of minority votes they better do a better job than the democrats have done or they re never going to get an opportunity like this again for entire story breitbart news</td><td>Unknown_Location</td><td>Unknown_Source</td><td>0</td></tr><tr><td>mn why did police stand down grotesque video shows male hillary supporter punching elderly trump supporter several times other trump supporters spit on assaulted and robbed</td><td>republican presidential nominee donald trump was in minneapolis friday night for a fundraiser held at the city s convention city that was besieged outside by violent liberal protesters trump supporters attending the rally were punched spit on and robbed while trump s secret service motorcade was blocked by protesters who jumped on one of the vehicles update protests at donald trump event turn unruly late police no arrests minor damage https t co t6ft3a7dk1 pic twitter com rbjlbzk024 star tribune @startribune august 20 2016now this the trump supporters said the police stood back at they were assaulted robbed and spit on no arrests were made pj media reported a week ago in minneapolis republican donors attending a trump fundraiser were assaulted robbed and spat upon by a violent leftist mob as they were leaving the event attendees say that even though there was a strong law enforcement presence at the convention center downtown where the fundraiser was held they were not afforded any police protection when coming to and leaving the event and even more incredibly there were no arrests many people who attended the event told fox 9 that police seemed to back down from intervening but the minneapolis police department insists there was no stand down order gp</td><td>Unknown_Location</td><td>Unknown_Source</td><td>0</td></tr><tr><td>actor tim allen hillary isn t capable of being funny bill clinton creepily checked out his wife when they met video</td><td>megyn what about tim allen you re one of the few conservatives in hollywood you re out of the closet as a conservative who do you like for president megyn what about hillary clinton tim allen all my staff we asked the girl writers the females the women they said it s about time so one of us said if it was sarah palin would it still be about time tim allen did she hillary actually bark like a dog did i actually see that she doesn t have a skill set for jokes she s just not her husband who i ve met and is actually kind of a neat guy although he was eyeballing my wife the entire time we were talking i think this guy he really was and he kept looking at me but he kept looking at her heh heh how you doing it s nice talking to ya i really love your show</td><td>Unknown_Location</td><td>Unknown_Source</td><td>0</td></tr><tr><td>hill arious video hillary takes break from seizures coughing fits 3 naps a day to slam trump and alt right</td><td>this video brilliantly dispels every one of hillary s false claims and throws them right back in her face absolutely brilliant</td><td>Unknown_Location</td><td>Unknown_Source</td><td>0</td></tr><tr><td>eric trump says political correctness motivated his dad to run renaming of christmas tree forcing firemen to remove american flag from trucks</td><td>millennial propaganda tool for the democrat party buzzfeed news publication attempted to do a hit piece on eric trump they claim that when eric was giving his list of reasons his father chose to run for office which included the insanity of the political correctness we see today that he incorrectly stated the white house christmas tree is called a holiday tree but did he really misspeak buzzfeed never addressed the core of eric trump s comments which were really about the ruin of our nation over political correctness instead buzzfeed chose to dissect one small part of what eric trump said about the white house christmas tree which as it turns out was actually mostly accurate the white house christmas tree was renamed the holiday tree in the 1990 s republican house speaker denny hastert changed the name back to christmas tree in 2005 this is the garbage young americans are reading every day in their social media newsfeed it s one of the primary reasons we see so many young people walking around in a stupor with bernie sanders or hillary bumper stickers on their prius from buzzfeed eric trump listing off reasons his father is running for president said in an interview this week that one of the motivations was the renaming of the white house christmas tree to holiday tree the tree placed on the white house lawn during the holiday season is still called the national christmas tree he opens up the paper each morning and sees our nation s leaders giving a hundred billion dollars to iran or he opens the paper and some new school district has just eliminated the ability for its students to say the pledge of allegiance or some fire department in some town is ordered by the mayor to no longer fly the american flag on the back of a fire truck trump told james robison in an interview posted this week buzzfeed never questioned the validity of the ransom money our president covertly paid to iran they never questioned whether or not schools and local governments are attempting to eliminate the pledge of allegiance so as not to offend immigrants or refugees it s funny how they never suggested the story about the firemen being forced to remove the american flag from the back of their trucks was not 100 accurate nope just the accuracy of the christmas tree comment or he sees the tree on the white house lawn has been renamed holiday tree instead of christmas tree continued trump i could go on and on for hours those are the very things that made my father run and those are the very things he cares about chain emails that began when president obama took office falsely claimed that tree had been renamed a tree on capitol hill was briefly called a holiday tree in the 1990s but the name was changed in 2005 at the direction of then speaker dennis hastert watch eric trump s awesome speech at the rnc where he talks about why his dad is running and why he s the most qualified man in america to step in and assume the office of president of the united states</td><td>Unknown_Location</td><td>Unknown_Source</td><td>0</td></tr><tr><td>offending the globalists teen kicked out of un building for wearing bill clinton rape shirt video</td><td>freedom of speech is not a universally accepted right which is just one more reason the us has no business funding the globalist un and their activities when you re visiting the un building in nyc it might be a good idea not to offend the globalists or anyone in a leadership role with the globalists https youtu be yvlrss1h4g8the bill clinton rape shirt can be purchased at infowars at this link we are in no way affiliated or benefitting from the sale of this t shirt we just thought you might like to know where you can pick one up and spread the truth about the sexual predator husband hillary has enabled for decades</td><td>Unknown_Location</td><td>Unknown_Source</td><td>0</td></tr><tr><td>cnn cancels popular dr drew show after he tells viewers he s gravely concerned about hillary s health video</td><td>another stunning cover up for #unfit hillary by her most committed media cheerleader one week ago board certified medicine specialist tv personality and cnn employee dr drew pinsky broke the mold of conformity when he said that he is gravely concerned about presidential candidate hillary clinton s health pointing out that treatment she is receiving could be the result of her bizarre behaviors appearing on kabc s mcintyre in the morning pinsky said he and his colleague dr robert huizenga became gravely concerned not just about her health but her health care after analyzing what medical records on hillary had been released pinsky pointed out that after clinton fainted and fell in late 2012 she suffered from a transverse sinus thrombosis an exceedingly rare clot that virtually guarantees somebody has something wrong with their coagulation system what s wrong with her coagulation system has that been evaluated asked dr drew pinsky described the situation as bizarre and said that hillary s medical condition was dangerous and concerning dr drew also went on to add that it was a sign of brain damage when hillary had to wear prism glasses after her fall just as stunning as pinsky s assessment which promptly went viral and led to the immediate takedown of the original interview webpage by kabc am radio was that it came from an employee of hln which is part of the pro clinton cnn network as such it is probably not surprising that earlier today just one week later cnn executive vice president ken jautz announced thursday that dr drew and i have mutually agreed to air the final episode of his show on september 22 zero hedge</td><td>Unknown_Location</td><td>Unknown_Source</td><td>0</td></tr><tr><td>#crookedhillary uses twitter to accuse trump of being a racist forgets to mention 20k in donations from kkk in 2016 video</td><td>hillary clinton is bending over backwards to convince american voters that donald trump is a racist because a white supremacist and a kkk member said they plan to vote for him who eulogized kkk leader mentor and close friend robert c byrd and about the 20 000 donation she accepted from the kkk just this year here s a tweet from the woman who refuses to speak to reporters after being caught in yet another scandal this time its been revealed that hillary and her grifter and serial rapist husband have been selling our nation for favors through their pay to play slush fund the clinton foundation criminal piggy bank oh yeah about that tweet it s not a coincidence that white supremacists proudly support trump pic twitter com 3ox4i1gskr hillary clinton @hillaryclinton august 25 2016hillary clinton s presidential campaign has received more than 20 000 in donations contributed by members of the ku klux klan a prominent member of the hate group said monday mr quigg the leader of the klan s california chapter announced last month that he had abandoned supporting republican presidential front runner donald trump in lieu of backing his likely democratic opponent the klansman claims that members have raised more than 20 000 for mrs clinton and have donated it anonymously to her campaign clinton campaign spokesman josh schwerin disputed the grand dragon s claim and said the former secretary of state has rejected the group s endorsement washington timeswatch hillary s praise for kkk leader senator robert c byrd</td><td>Unknown_Location</td><td>Unknown_Source</td><td>0</td></tr><tr><td>when #blacklivesmatter golf take priority over our vets 76 yr old vet kills himself in va parking lot after er allegedly denied appointment with doctor for mental problems</td><td>there aren t too many stories that are more shameful or disturbing than this one what has been done to fix the horrible quality of care our veterans have been receiving during obama s eight years in office what would the va look like today if obama spent as much time trying to fix this broken health care system for our veterans as he spent trying to improve his golf swing or organizing with black lives matter terrorists if anyone thinks hillary would do a better job with our vets and their health care they only need to do is look at benghazi to see how much she cares about members of our us military hillary continues to brag about her failed efforts to inflict a similar government run health care system on every american a veteran took his own life in the parking lot of a va hospital in long island new york over the weekend after he was allegedly denied an appointment with an er doctor for his mental problems peter kaisen 76 of islip was pronounced dead from a self inflicted gunshot wound outside building 92 at the northport veterans affairs medical center on sunday according to a note posted on a funeral home s website kaisen was married had children and grandchildren the suffolk county police department has confirmed that kaisen had been a patient at the va hospital but said nothing about a possible motive behind the suicide however two hospital employees talking anonymously to the new york times which broke the story revealed that kaisen had been frustrated that he could not see a doctor in the emergency room where he went to seek help related to his mental health one of the sources told the paper that the 76 year old veteran shot himself inside his car after being denied service in the er the source wondered why kaisen had not been sent to the hospital s mental health center or put in contact with a psychologist by phone someone dropped the ball the unnamed hospital staffer told the times they should not have turned him away the va medical system which serves nine million servicemen has been under scrutiny since 2014 when it was revealed in a scathing report from the inspector general s office that about 1 700 veterans at a phoenix hospital faced chronic wait times and were at risk of being lost or forgotten the va later confirmed that at least 35 veterans died while awaiting treatment in phoenix va officials in phoenix were also accused of falsifying records to cover up the long wait times for medical appointments entire story daily mail</td><td>Unknown_Location</td><td>Unknown_Source</td><td>0</td></tr></tbody></table></div>"
      ]
     },
     "metadata": {
      "application/vnd.databricks.v1+output": {
       "addedWidgets": {},
       "aggData": [],
       "aggError": "",
       "aggOverflow": false,
       "aggSchema": [],
       "aggSeriesLimitReached": false,
       "aggType": "",
       "arguments": {},
       "columnCustomDisplayInfos": {},
       "data": [
        [
         "abc news emails show hillary s top aide arranged special seating at state dinner for top clinton donors video",
         "this woman should be in a jail cell not sitting around laughing and opening pickle jars on the jimmy fallon show judicial watch s release this week of 725 pages of state department emails involving hillary clinton aide huma abedin demonstrates the obama administration considers a large percentage of the emails sent through clinton s private server too sensitive for congress or the american public to read of the 725 pages more than 250 pages were 100 percent redacted many with page denied stamped in bold judicial watch said the new cache includes previously unreleased email exchanges in which former abedin provided influential clinton foundation donors special expedited access to the secretary of state judicial watch added that in many instances the preferential treatment provided to donors was at the specific request of clinton foundation executive douglas band the abedin emails reveal that the longtime clinton aide apparently served as a conduit between clinton foundation donors and hillary clinton while clinton served as secretary of state in more than a dozen email exchanges abedin provided expedited direct access to clinton for donors who had contributed from 25 000 to 10 million to the clinton foundation judicial watch said in a statement announcing the release wndwatch #crookedhillary scandal #9 999 and counting",
         "Unknown_Location",
         "Unknown_Source",
         0
        ],
        [
         "black men for bernie founder campaigns in swing states for trump bill and hillary did major damage to our communities last time in white house video",
         "apparently using thug michael ferguson s mom as a prop at black functions was not enough to be granted the black vote black men for bernie founder bruce carter s mission to restore black communities didn t end when vermont senator bernie sanders lost to hillary clinton in the democratic primary he opposed hillary clinton and the democratic establishment then because he knew that they didn t represent the minority communities he engaged in politics to fight for after the leak of internal dnc emails carter is convinced that the democratic party rigged the primary against his candidate and that hillary clinton s democratic party has no intention of changing the policies that led to the destruction of the communities he s working to improve bruce carter still believes that hillary clinton is the poster child for the kind of cronyism corruption and evil that the bernie revolution was built to overthrow he doesn t believe hillary clinton when she labels donald trump and his supporters as racists because he knows she falsely labeled her opponents in the primary as sexist bernie bros carter s preparing to take the experience knowledge and contacts his group built during the primary to campaign against hillary clinton and for donald trump and other republicans in battleground states across the country bruce carter and black men for bernie are at war with the democratic establishment whom he says pander for votes but haven t delivered meaningful results to minority communities for decades carter became politically active to support bernie sanders who taught him how the establishment s only real constituency was the donor class when he paired that knowledge with what he knew about the decline in the black and minority neighborhoods he loves he realized democratic politicians and the media had been lying bernie inspired us to disrupt the status quo because it only works for the elites and not regular people who are struggling carter told breitbart news if black communities vote for hillary clinton and democrats in november nothing will change because democrats will continue to believe they don t have to do anything to earn our votes carter became one of the most prominent and recognizable supporters of the sanders campaign by traveling the country in a tour bus and fleet of vehicles wrapped with the black men for bernie logo and a picture of sanders being arrested during the civil rights movement his online videos received millions of views and featured celebrities like mark ruffalo and ice cream makers ben and jerry this guy knows what he s doing when it comes to rallying the troops to get behind his candidate watch carter organizing supporters for bernie before hillary cheated him out of the chance to become the democrat party candidate carter told breitbart news that his greatest awakening of how democrats exploit minority voters came when he learned from the washington post that the democratic party spends less than 2 percent of its campaign resources with minority owned companies even though they get better than 90 percent of the black vote it is a practice that carter calls political slavery now black men for bernie are rebranding and again planning to tour the country with an emphasis on battleground states carter says he s going to organize black and minority communities to vote against hillary clinton and the democratic establishment donald trump is a business man and a real estate mogul who could provide knowledge and resources to transform urban communities through the development of minority owned businesses carter said with this tour we re going to show mr trump and republicans that the black and minority communities are ready to work with anyone willing to work with us to build opportunities in businesses employment and housing we don t want welfare we need opportunity carter had a lot of ideas when asked about what trump could do to help him win black votes away from the democrats when donald trump tells black people what do you have to lose by voting for me he s getting close to a message that will work but it s not quite there yet carter explained we re going to go back to these communities in florida ohio pennsylvania michigan and across the country to lead people to the facts about the clintons and democrats failures with our struggling communities carter said for carter and the black men for bernie they can t unlearn what they discovered about hillary during the primary we know that hillary clinton is for hillary clinton and the rich donors of the clinton foundation carter said we know that bill and hillary did major damage to our communities the last time they were in the white house we know they will lie about their opponents by unfairly labeling them sexists and racists and radicals donald trump isn t a typical politician and he isn t beholden to the same old political powers carter continued we want to earn our seat at the table in his administration and i think he and the republicans are smart enough to realize that when we deliver them a historic number of minority votes they better do a better job than the democrats have done or they re never going to get an opportunity like this again for entire story breitbart news",
         "Unknown_Location",
         "Unknown_Source",
         0
        ],
        [
         "mn why did police stand down grotesque video shows male hillary supporter punching elderly trump supporter several times other trump supporters spit on assaulted and robbed",
         "republican presidential nominee donald trump was in minneapolis friday night for a fundraiser held at the city s convention city that was besieged outside by violent liberal protesters trump supporters attending the rally were punched spit on and robbed while trump s secret service motorcade was blocked by protesters who jumped on one of the vehicles update protests at donald trump event turn unruly late police no arrests minor damage https t co t6ft3a7dk1 pic twitter com rbjlbzk024 star tribune @startribune august 20 2016now this the trump supporters said the police stood back at they were assaulted robbed and spit on no arrests were made pj media reported a week ago in minneapolis republican donors attending a trump fundraiser were assaulted robbed and spat upon by a violent leftist mob as they were leaving the event attendees say that even though there was a strong law enforcement presence at the convention center downtown where the fundraiser was held they were not afforded any police protection when coming to and leaving the event and even more incredibly there were no arrests many people who attended the event told fox 9 that police seemed to back down from intervening but the minneapolis police department insists there was no stand down order gp",
         "Unknown_Location",
         "Unknown_Source",
         0
        ],
        [
         "actor tim allen hillary isn t capable of being funny bill clinton creepily checked out his wife when they met video",
         "megyn what about tim allen you re one of the few conservatives in hollywood you re out of the closet as a conservative who do you like for president megyn what about hillary clinton tim allen all my staff we asked the girl writers the females the women they said it s about time so one of us said if it was sarah palin would it still be about time tim allen did she hillary actually bark like a dog did i actually see that she doesn t have a skill set for jokes she s just not her husband who i ve met and is actually kind of a neat guy although he was eyeballing my wife the entire time we were talking i think this guy he really was and he kept looking at me but he kept looking at her heh heh how you doing it s nice talking to ya i really love your show",
         "Unknown_Location",
         "Unknown_Source",
         0
        ],
        [
         "hill arious video hillary takes break from seizures coughing fits 3 naps a day to slam trump and alt right",
         "this video brilliantly dispels every one of hillary s false claims and throws them right back in her face absolutely brilliant",
         "Unknown_Location",
         "Unknown_Source",
         0
        ],
        [
         "eric trump says political correctness motivated his dad to run renaming of christmas tree forcing firemen to remove american flag from trucks",
         "millennial propaganda tool for the democrat party buzzfeed news publication attempted to do a hit piece on eric trump they claim that when eric was giving his list of reasons his father chose to run for office which included the insanity of the political correctness we see today that he incorrectly stated the white house christmas tree is called a holiday tree but did he really misspeak buzzfeed never addressed the core of eric trump s comments which were really about the ruin of our nation over political correctness instead buzzfeed chose to dissect one small part of what eric trump said about the white house christmas tree which as it turns out was actually mostly accurate the white house christmas tree was renamed the holiday tree in the 1990 s republican house speaker denny hastert changed the name back to christmas tree in 2005 this is the garbage young americans are reading every day in their social media newsfeed it s one of the primary reasons we see so many young people walking around in a stupor with bernie sanders or hillary bumper stickers on their prius from buzzfeed eric trump listing off reasons his father is running for president said in an interview this week that one of the motivations was the renaming of the white house christmas tree to holiday tree the tree placed on the white house lawn during the holiday season is still called the national christmas tree he opens up the paper each morning and sees our nation s leaders giving a hundred billion dollars to iran or he opens the paper and some new school district has just eliminated the ability for its students to say the pledge of allegiance or some fire department in some town is ordered by the mayor to no longer fly the american flag on the back of a fire truck trump told james robison in an interview posted this week buzzfeed never questioned the validity of the ransom money our president covertly paid to iran they never questioned whether or not schools and local governments are attempting to eliminate the pledge of allegiance so as not to offend immigrants or refugees it s funny how they never suggested the story about the firemen being forced to remove the american flag from the back of their trucks was not 100 accurate nope just the accuracy of the christmas tree comment or he sees the tree on the white house lawn has been renamed holiday tree instead of christmas tree continued trump i could go on and on for hours those are the very things that made my father run and those are the very things he cares about chain emails that began when president obama took office falsely claimed that tree had been renamed a tree on capitol hill was briefly called a holiday tree in the 1990s but the name was changed in 2005 at the direction of then speaker dennis hastert watch eric trump s awesome speech at the rnc where he talks about why his dad is running and why he s the most qualified man in america to step in and assume the office of president of the united states",
         "Unknown_Location",
         "Unknown_Source",
         0
        ],
        [
         "offending the globalists teen kicked out of un building for wearing bill clinton rape shirt video",
         "freedom of speech is not a universally accepted right which is just one more reason the us has no business funding the globalist un and their activities when you re visiting the un building in nyc it might be a good idea not to offend the globalists or anyone in a leadership role with the globalists https youtu be yvlrss1h4g8the bill clinton rape shirt can be purchased at infowars at this link we are in no way affiliated or benefitting from the sale of this t shirt we just thought you might like to know where you can pick one up and spread the truth about the sexual predator husband hillary has enabled for decades",
         "Unknown_Location",
         "Unknown_Source",
         0
        ],
        [
         "cnn cancels popular dr drew show after he tells viewers he s gravely concerned about hillary s health video",
         "another stunning cover up for #unfit hillary by her most committed media cheerleader one week ago board certified medicine specialist tv personality and cnn employee dr drew pinsky broke the mold of conformity when he said that he is gravely concerned about presidential candidate hillary clinton s health pointing out that treatment she is receiving could be the result of her bizarre behaviors appearing on kabc s mcintyre in the morning pinsky said he and his colleague dr robert huizenga became gravely concerned not just about her health but her health care after analyzing what medical records on hillary had been released pinsky pointed out that after clinton fainted and fell in late 2012 she suffered from a transverse sinus thrombosis an exceedingly rare clot that virtually guarantees somebody has something wrong with their coagulation system what s wrong with her coagulation system has that been evaluated asked dr drew pinsky described the situation as bizarre and said that hillary s medical condition was dangerous and concerning dr drew also went on to add that it was a sign of brain damage when hillary had to wear prism glasses after her fall just as stunning as pinsky s assessment which promptly went viral and led to the immediate takedown of the original interview webpage by kabc am radio was that it came from an employee of hln which is part of the pro clinton cnn network as such it is probably not surprising that earlier today just one week later cnn executive vice president ken jautz announced thursday that dr drew and i have mutually agreed to air the final episode of his show on september 22 zero hedge",
         "Unknown_Location",
         "Unknown_Source",
         0
        ],
        [
         "#crookedhillary uses twitter to accuse trump of being a racist forgets to mention 20k in donations from kkk in 2016 video",
         "hillary clinton is bending over backwards to convince american voters that donald trump is a racist because a white supremacist and a kkk member said they plan to vote for him who eulogized kkk leader mentor and close friend robert c byrd and about the 20 000 donation she accepted from the kkk just this year here s a tweet from the woman who refuses to speak to reporters after being caught in yet another scandal this time its been revealed that hillary and her grifter and serial rapist husband have been selling our nation for favors through their pay to play slush fund the clinton foundation criminal piggy bank oh yeah about that tweet it s not a coincidence that white supremacists proudly support trump pic twitter com 3ox4i1gskr hillary clinton @hillaryclinton august 25 2016hillary clinton s presidential campaign has received more than 20 000 in donations contributed by members of the ku klux klan a prominent member of the hate group said monday mr quigg the leader of the klan s california chapter announced last month that he had abandoned supporting republican presidential front runner donald trump in lieu of backing his likely democratic opponent the klansman claims that members have raised more than 20 000 for mrs clinton and have donated it anonymously to her campaign clinton campaign spokesman josh schwerin disputed the grand dragon s claim and said the former secretary of state has rejected the group s endorsement washington timeswatch hillary s praise for kkk leader senator robert c byrd",
         "Unknown_Location",
         "Unknown_Source",
         0
        ],
        [
         "when #blacklivesmatter golf take priority over our vets 76 yr old vet kills himself in va parking lot after er allegedly denied appointment with doctor for mental problems",
         "there aren t too many stories that are more shameful or disturbing than this one what has been done to fix the horrible quality of care our veterans have been receiving during obama s eight years in office what would the va look like today if obama spent as much time trying to fix this broken health care system for our veterans as he spent trying to improve his golf swing or organizing with black lives matter terrorists if anyone thinks hillary would do a better job with our vets and their health care they only need to do is look at benghazi to see how much she cares about members of our us military hillary continues to brag about her failed efforts to inflict a similar government run health care system on every american a veteran took his own life in the parking lot of a va hospital in long island new york over the weekend after he was allegedly denied an appointment with an er doctor for his mental problems peter kaisen 76 of islip was pronounced dead from a self inflicted gunshot wound outside building 92 at the northport veterans affairs medical center on sunday according to a note posted on a funeral home s website kaisen was married had children and grandchildren the suffolk county police department has confirmed that kaisen had been a patient at the va hospital but said nothing about a possible motive behind the suicide however two hospital employees talking anonymously to the new york times which broke the story revealed that kaisen had been frustrated that he could not see a doctor in the emergency room where he went to seek help related to his mental health one of the sources told the paper that the 76 year old veteran shot himself inside his car after being denied service in the er the source wondered why kaisen had not been sent to the hospital s mental health center or put in contact with a psychologist by phone someone dropped the ball the unnamed hospital staffer told the times they should not have turned him away the va medical system which serves nine million servicemen has been under scrutiny since 2014 when it was revealed in a scathing report from the inspector general s office that about 1 700 veterans at a phoenix hospital faced chronic wait times and were at risk of being lost or forgotten the va later confirmed that at least 35 veterans died while awaiting treatment in phoenix va officials in phoenix were also accused of falsifying records to cover up the long wait times for medical appointments entire story daily mail",
         "Unknown_Location",
         "Unknown_Source",
         0
        ]
       ],
       "datasetInfos": [],
       "dbfsResultPath": null,
       "isJsonSchema": true,
       "metadata": {},
       "overflow": false,
       "plotOptions": {
        "customPlotOptions": {},
        "displayType": "table",
        "pivotAggregation": null,
        "pivotColumns": null,
        "xColumns": null,
        "yColumns": null
       },
       "removedWidgets": [],
       "schema": [
        {
         "metadata": "{}",
         "name": "title",
         "type": "\"string\""
        },
        {
         "metadata": "{}",
         "name": "text",
         "type": "\"string\""
        },
        {
         "metadata": "{}",
         "name": "location",
         "type": "\"string\""
        },
        {
         "metadata": "{}",
         "name": "news_source",
         "type": "\"string\""
        },
        {
         "metadata": "{}",
         "name": "label",
         "type": "\"integer\""
        }
       ],
       "type": "table"
      }
     },
     "output_type": "display_data"
    }
   ],
   "source": [
    "display(df.limit(10))"
   ]
  },
  {
   "cell_type": "code",
   "execution_count": 0,
   "metadata": {
    "application/vnd.databricks.v1+cell": {
     "cellMetadata": {
      "byteLimit": 2048000,
      "rowLimit": 10000
     },
     "inputWidgets": {},
     "nuid": "88ac7c0f-54cd-40a6-8f78-828f560113f7",
     "showTitle": false,
     "tableResultSettingsMap": {},
     "title": ""
    }
   },
   "outputs": [
    {
     "output_type": "stream",
     "name": "stdout",
     "output_type": "stream",
     "text": [
      "Number of records by label:\n+-----+-----+\n|label|count|\n+-----+-----+\n|    0|23489|\n|    1|21417|\n+-----+-----+\n\nOut[113]: DataFrame[label: int, count: bigint]"
     ]
    }
   ],
   "source": [
    "df_label = df.groupBy(\"label\").count()\n",
    "print(\"Number of records by label:\")\n",
    "df_label.show()\n",
    "df_label.unpersist()"
   ]
  },
  {
   "cell_type": "code",
   "execution_count": 0,
   "metadata": {
    "application/vnd.databricks.v1+cell": {
     "cellMetadata": {
      "byteLimit": 2048000,
      "rowLimit": 10000
     },
     "inputWidgets": {},
     "nuid": "23d2bfef-d2f7-4c78-a6ed-af81fa2a9a17",
     "showTitle": false,
     "tableResultSettingsMap": {},
     "title": ""
    }
   },
   "outputs": [
    {
     "output_type": "stream",
     "name": "stdout",
     "output_type": "stream",
     "text": [
      "+--------------------+--------------------+----------------+--------------+-----+\n|               title|                text|        location|   news_source|label|\n+--------------------+--------------------+----------------+--------------+-----+\n|abc news emails s...|this woman should...|Unknown_Location|Unknown_Source|    0|\n|black men for ber...|apparently using ...|Unknown_Location|Unknown_Source|    0|\n|mn why did police...|republican presid...|Unknown_Location|Unknown_Source|    0|\n|actor tim allen h...|megyn what about ...|Unknown_Location|Unknown_Source|    0|\n|hill arious video...|this video brilli...|Unknown_Location|Unknown_Source|    0|\n|eric trump says p...|millennial propag...|Unknown_Location|Unknown_Source|    0|\n|offending the glo...|freedom of speech...|Unknown_Location|Unknown_Source|    0|\n|cnn cancels popul...|another stunning ...|Unknown_Location|Unknown_Source|    0|\n|#crookedhillary u...|hillary clinton i...|Unknown_Location|Unknown_Source|    0|\n|when #blacklivesm...|there aren t too ...|Unknown_Location|Unknown_Source|    0|\n|unrecognizable af...|someone should fi...|Unknown_Location|Unknown_Source|    0|\n|incoming freshmen...|wow the universit...|Unknown_Location|Unknown_Source|    0|\n|trumpocrats speak...|unless the democr...|Unknown_Location|Unknown_Source|    0|\n|watch harry reid ...|harry reid s disr...|Unknown_Location|Unknown_Source|    0|\n|why did hillary u...|what a role model...|Unknown_Location|Unknown_Source|    0|\n|taxpayer funded c...|when the majority...|Unknown_Location|Unknown_Source|    0|\n|comrades in liber...|university of mic...|Unknown_Location|Unknown_Source|    0|\n|don t expect gove...|after obama was e...|Unknown_Location|Unknown_Source|    0|\n|hollywood libs ra...|the democratic pr...|Unknown_Location|Unknown_Source|    0|\n|hillary worker fr...|this video proves...|Unknown_Location|Unknown_Source|    0|\n+--------------------+--------------------+----------------+--------------+-----+\nonly showing top 20 rows\n\n"
     ]
    }
   ],
   "source": [
    "df.show()"
   ]
  },
  {
   "cell_type": "markdown",
   "metadata": {
    "application/vnd.databricks.v1+cell": {
     "cellMetadata": {},
     "inputWidgets": {},
     "nuid": "8bbdc4e8-bafd-4ac5-8797-69f10ee9d36b",
     "showTitle": false,
     "tableResultSettingsMap": {},
     "title": ""
    }
   },
   "source": [
    "## Split data for training"
   ]
  },
  {
   "cell_type": "code",
   "execution_count": 0,
   "metadata": {
    "application/vnd.databricks.v1+cell": {
     "cellMetadata": {
      "byteLimit": 2048000,
      "rowLimit": 10000
     },
     "inputWidgets": {},
     "nuid": "5f26df3d-d9a9-4629-8c13-9584831da44e",
     "showTitle": false,
     "tableResultSettingsMap": {},
     "title": ""
    }
   },
   "outputs": [],
   "source": [
    "train_data, test_data = df.randomSplit([0.8, 0.2], seed=42)"
   ]
  },
  {
   "cell_type": "markdown",
   "metadata": {
    "application/vnd.databricks.v1+cell": {
     "cellMetadata": {},
     "inputWidgets": {},
     "nuid": "62315313-a430-4787-82e4-9f2957a254b1",
     "showTitle": false,
     "tableResultSettingsMap": {},
     "title": ""
    }
   },
   "source": [
    "## Impute nulls"
   ]
  },
  {
   "cell_type": "code",
   "execution_count": 0,
   "metadata": {
    "application/vnd.databricks.v1+cell": {
     "cellMetadata": {
      "byteLimit": 2048000,
      "rowLimit": 10000
     },
     "inputWidgets": {},
     "nuid": "76701264-29ba-4b16-9b05-a99695951f32",
     "showTitle": false,
     "tableResultSettingsMap": {},
     "title": ""
    }
   },
   "outputs": [
    {
     "output_type": "stream",
     "name": "stdout",
     "output_type": "stream",
     "text": [
      "Original train_data schema:\nroot\n |-- title: string (nullable = true)\n |-- text: string (nullable = true)\n |-- location: string (nullable = true)\n |-- news_source: string (nullable = true)\n |-- label: integer (nullable = true)\n\nOriginal train_data null text count:\n+--------------------+----+----------------+--------------+-----+\n|               title|text|        location|   news_source|label|\n+--------------------+----+----------------+--------------+-----+\n|                    |null|Unknown_Location|Unknown_Source|    0|\n|                    |null|Unknown_Location|Unknown_Source|    0|\n|ex gop congressma...|null|Unknown_Location|Unknown_Source|    0|\n|watch democratic ...|null|Unknown_Location|Unknown_Source|    0|\n+--------------------+----+----------------+--------------+-----+\n\nImputing nulls in 'text' and 'title' columns for train_data...\nImputing nulls in 'text' and 'title' columns for test_data...\n"
     ]
    }
   ],
   "source": [
    "# Handle Nulls by imputing with empty strings\n",
    "\n",
    "print(\"Original train_data schema:\")\n",
    "train_data.printSchema()\n",
    "print(\"Original train_data null text count:\")\n",
    "train_data.filter(col(\"text\").isNull()).show()\n",
    "\n",
    "\n",
    "print(\"Imputing nulls in 'text' and 'title' columns for train_data...\")\n",
    "train_data = train_data.na.fill({\n",
    "    \"text\": \"\",  \n",
    "    \"title\": \"\"  \n",
    "})\n",
    "\n",
    "print(\"Imputing nulls in 'text' and 'title' columns for test_data...\")\n",
    "test_data = test_data.na.fill({\n",
    "    \"text\": \"\",\n",
    "    \"title\": \"\"\n",
    "})\n"
   ]
  },
  {
   "cell_type": "code",
   "execution_count": 0,
   "metadata": {
    "application/vnd.databricks.v1+cell": {
     "cellMetadata": {
      "byteLimit": 2048000,
      "rowLimit": 10000
     },
     "inputWidgets": {},
     "nuid": "61bbecc8-8278-452e-816a-b3fb3c91b5d7",
     "showTitle": false,
     "tableResultSettingsMap": {},
     "title": ""
    }
   },
   "outputs": [
    {
     "output_type": "stream",
     "name": "stdout",
     "output_type": "stream",
     "text": [
      "Null counts in train_data:\n+---------------+----------------+\n|null_text_train|null_title_train|\n+---------------+----------------+\n|              0|               0|\n+---------------+----------------+\n\nNull counts in test_data:\n+--------------+---------------+\n|null_text_test|null_title_test|\n+--------------+---------------+\n|             0|              0|\n+--------------+---------------+\n\n"
     ]
    }
   ],
   "source": [
    "print(\"Null counts in train_data:\")\n",
    "train_data.select(\n",
    "    count(when(col(\"text\").isNull(), \"text\")).alias(\"null_text_train\"),\n",
    "    count(when(col(\"title\").isNull(), \"title\")).alias(\"null_title_train\")\n",
    ").show()\n",
    "\n",
    "print(\"Null counts in test_data:\")\n",
    "test_data.select(\n",
    "    count(when(col(\"text\").isNull(), \"text\")).alias(\"null_text_test\"),\n",
    "    count(when(col(\"title\").isNull(), \"title\")).alias(\"null_title_test\")\n",
    ").show()"
   ]
  },
  {
   "cell_type": "markdown",
   "metadata": {
    "application/vnd.databricks.v1+cell": {
     "cellMetadata": {},
     "inputWidgets": {},
     "nuid": "7f2dd4ca-9507-445c-a87a-110138594873",
     "showTitle": false,
     "tableResultSettingsMap": {},
     "title": ""
    }
   },
   "source": [
    "## TF-IDF Model "
   ]
  },
  {
   "cell_type": "markdown",
   "metadata": {
    "application/vnd.databricks.v1+cell": {
     "cellMetadata": {},
     "inputWidgets": {},
     "nuid": "069dadf9-88f5-4a63-8c5e-e23337ef8ffb",
     "showTitle": false,
     "tableResultSettingsMap": {},
     "title": ""
    }
   },
   "source": [
    "### Model with all features (location, news_source, text, title)"
   ]
  },
  {
   "cell_type": "markdown",
   "metadata": {
    "application/vnd.databricks.v1+cell": {
     "cellMetadata": {},
     "inputWidgets": {},
     "nuid": "e9a8865b-dee9-4de7-9d64-23b975175328",
     "showTitle": false,
     "tableResultSettingsMap": {},
     "title": ""
    }
   },
   "source": [
    "##### Stages for Categorical Features ('location', 'news_source')"
   ]
  },
  {
   "cell_type": "code",
   "execution_count": 0,
   "metadata": {
    "application/vnd.databricks.v1+cell": {
     "cellMetadata": {
      "byteLimit": 2048000,
      "rowLimit": 10000
     },
     "inputWidgets": {},
     "nuid": "59ba1f64-03f4-4fdf-ae09-3d3b00c01a31",
     "showTitle": false,
     "tableResultSettingsMap": {},
     "title": ""
    }
   },
   "outputs": [],
   "source": [
    "indexer_location = StringIndexer(\n",
    "    inputCol=\"location\",\n",
    "    outputCol=\"location_index\",\n",
    "    handleInvalid=\"keep\",  # to handle unseen labels in test data\n",
    "    stringOrderType=\"frequencyDesc\"\n",
    ")\n",
    "\n",
    "# StringIndexer for 'news_source'\n",
    "indexer_news_source = StringIndexer(\n",
    "    inputCol=\"news_source\",\n",
    "    outputCol=\"news_source_index\",\n",
    "    handleInvalid=\"keep\",\n",
    "    stringOrderType=\"frequencyDesc\"\n",
    ")\n",
    "\n",
    "# OneHotEncoder for the indexed categorical columns\n",
    "# Takes the output of both StringIndexers\n",
    "encoder_categorical = OneHotEncoder(\n",
    "    inputCols=[\"location_index\", \"news_source_index\"],\n",
    "    outputCols=[\"location_vec\", \"news_source_vec\"],\n",
    "    dropLast=False  \n",
    ")"
   ]
  },
  {
   "cell_type": "markdown",
   "metadata": {
    "application/vnd.databricks.v1+cell": {
     "cellMetadata": {},
     "inputWidgets": {},
     "nuid": "3b014d73-4195-4837-b946-1bc98b1cffe2",
     "showTitle": false,
     "tableResultSettingsMap": {},
     "title": ""
    }
   },
   "source": [
    "##### Stages for 'text' Feature"
   ]
  },
  {
   "cell_type": "code",
   "execution_count": 0,
   "metadata": {
    "application/vnd.databricks.v1+cell": {
     "cellMetadata": {
      "byteLimit": 2048000,
      "rowLimit": 10000
     },
     "inputWidgets": {},
     "nuid": "25807530-967e-4233-900b-235f892b2431",
     "showTitle": false,
     "tableResultSettingsMap": {},
     "title": ""
    }
   },
   "outputs": [],
   "source": [
    "# Tokenizer for 'text'\n",
    "text_tokenizer = Tokenizer(inputCol=\"text\", outputCol=\"text_words\")\n",
    "\n",
    "# StopWordsRemover for 'text_words'\n",
    "text_stopwords_remover = StopWordsRemover(inputCol=\"text_words\", outputCol=\"filtered_text_words\")\n",
    "\n",
    "# HashingTF for 'filtered_text_words'\n",
    "text_hashing_tf = HashingTF(\n",
    "    inputCol=\"filtered_text_words\",\n",
    "    outputCol=\"text_tf_features\",\n",
    "    numFeatures=20000  # Number of features for the main text\n",
    ")\n",
    "\n",
    "# IDF for 'text_tf_features'\n",
    "text_idf = IDF(inputCol=\"text_tf_features\", outputCol=\"text_tfidf_features\")"
   ]
  },
  {
   "cell_type": "markdown",
   "metadata": {
    "application/vnd.databricks.v1+cell": {
     "cellMetadata": {
      "byteLimit": 2048000,
      "rowLimit": 10000
     },
     "inputWidgets": {},
     "nuid": "2376350e-4aa4-464a-b200-298515763d1f",
     "showTitle": false,
     "tableResultSettingsMap": {},
     "title": ""
    }
   },
   "source": [
    "##### Stages for 'title' Feature"
   ]
  },
  {
   "cell_type": "code",
   "execution_count": 0,
   "metadata": {
    "application/vnd.databricks.v1+cell": {
     "cellMetadata": {
      "byteLimit": 2048000,
      "rowLimit": 10000
     },
     "inputWidgets": {},
     "nuid": "0046ad98-1da4-46ac-972c-527140c13d67",
     "showTitle": false,
     "tableResultSettingsMap": {},
     "title": ""
    }
   },
   "outputs": [],
   "source": [
    "##### Stages for 'title' Feature\n",
    "\n",
    "# Tokenizer for 'title'\n",
    "title_tokenizer = Tokenizer(inputCol=\"title\", outputCol=\"title_words\")\n",
    "\n",
    "# StopWordsRemover for 'title_words'\n",
    "title_stopwords_remover = StopWordsRemover(inputCol=\"title_words\", outputCol=\"filtered_title_words\")\n",
    "\n",
    "# HashingTF for 'filtered_title_words'\n",
    "# Titles are usually shorter, so you might use fewer features, or the same as text.\n",
    "title_hashing_tf = HashingTF(\n",
    "    inputCol=\"filtered_title_words\",\n",
    "    outputCol=\"title_tf_features\",\n",
    "    numFeatures=10000  \n",
    ")\n",
    "\n",
    "# IDF for 'title_tf_features'\n",
    "title_idf = IDF(inputCol=\"title_tf_features\", outputCol=\"title_tfidf_features\")"
   ]
  },
  {
   "cell_type": "markdown",
   "metadata": {
    "application/vnd.databricks.v1+cell": {
     "cellMetadata": {},
     "inputWidgets": {},
     "nuid": "635867a7-8119-4cde-b8b8-97cebc64dabf",
     "showTitle": false,
     "tableResultSettingsMap": {},
     "title": ""
    }
   },
   "source": [
    "#####  Assemble all generated features into a single feature vector \n"
   ]
  },
  {
   "cell_type": "code",
   "execution_count": 0,
   "metadata": {
    "application/vnd.databricks.v1+cell": {
     "cellMetadata": {
      "byteLimit": 2048000,
      "rowLimit": 10000
     },
     "inputWidgets": {},
     "nuid": "77fbea31-42f1-4a34-9dcc-8c4e1e484590",
     "showTitle": false,
     "tableResultSettingsMap": {},
     "title": ""
    }
   },
   "outputs": [],
   "source": [
    "feature_assembler = VectorAssembler(\n",
    "    inputCols=[\n",
    "        \"text_tfidf_features\",\n",
    "        \"title_tfidf_features\",\n",
    "        \"location_vec\",\n",
    "        \"news_source_vec\"\n",
    "    ],\n",
    "    outputCol=\"features\"\n",
    ")"
   ]
  },
  {
   "cell_type": "markdown",
   "metadata": {
    "application/vnd.databricks.v1+cell": {
     "cellMetadata": {},
     "inputWidgets": {},
     "nuid": "4862b0ec-4fd9-4835-b8b6-c53f9e2799f0",
     "showTitle": false,
     "tableResultSettingsMap": {},
     "title": ""
    }
   },
   "source": [
    "**Model with location, news source, title, text**"
   ]
  },
  {
   "cell_type": "code",
   "execution_count": 0,
   "metadata": {
    "application/vnd.databricks.v1+cell": {
     "cellMetadata": {
      "byteLimit": 2048000,
      "rowLimit": 10000
     },
     "inputWidgets": {},
     "nuid": "0b9e09a5-653e-48fa-b07c-7335b88bc06f",
     "showTitle": false,
     "tableResultSettingsMap": {},
     "title": ""
    }
   },
   "outputs": [],
   "source": [
    "nb_estimator_all_features = NaiveBayes(\n",
    "    labelCol=\"label\",\n",
    "    featuresCol=\"features\",\n",
    "    modelType=\"multinomial\" \n",
    ")"
   ]
  },
  {
   "cell_type": "code",
   "execution_count": 0,
   "metadata": {
    "application/vnd.databricks.v1+cell": {
     "cellMetadata": {
      "byteLimit": 2048000,
      "rowLimit": 10000
     },
     "inputWidgets": {},
     "nuid": "2461588a-27ae-4c2c-bc69-e6f472440bca",
     "showTitle": false,
     "tableResultSettingsMap": {},
     "title": ""
    }
   },
   "outputs": [],
   "source": [
    "model_nb_all_features = Pipeline(stages=[\n",
    "    # Categorical feature processing\n",
    "    indexer_location,\n",
    "    indexer_news_source,\n",
    "    encoder_categorical,\n",
    "    # Text (main body) processing\n",
    "    text_tokenizer,\n",
    "    text_stopwords_remover,\n",
    "    text_hashing_tf,\n",
    "    text_idf,\n",
    "    # Title processing\n",
    "    title_tokenizer,\n",
    "    title_stopwords_remover,\n",
    "    title_hashing_tf,\n",
    "    title_idf,\n",
    "    # Assemble all features\n",
    "    feature_assembler,\n",
    "    # Add the Naive Bayes model estimator\n",
    "    nb_estimator_all_features \n",
    "])"
   ]
  },
  {
   "cell_type": "code",
   "execution_count": 0,
   "metadata": {
    "application/vnd.databricks.v1+cell": {
     "cellMetadata": {
      "byteLimit": 2048000,
      "rowLimit": 10000
     },
     "inputWidgets": {},
     "nuid": "2c70f08d-ad11-4eba-bb34-062b43938e56",
     "showTitle": false,
     "tableResultSettingsMap": {},
     "title": ""
    }
   },
   "outputs": [],
   "source": [
    "# Fitting the model\n",
    "model_nb_fitted_all_features = model_nb_all_features.fit(train_data)"
   ]
  },
  {
   "cell_type": "code",
   "execution_count": 0,
   "metadata": {
    "application/vnd.databricks.v1+cell": {
     "cellMetadata": {
      "byteLimit": 2048000,
      "rowLimit": 10000
     },
     "inputWidgets": {},
     "nuid": "c8f014de-9b58-40bb-ae94-f475a3ac8d3d",
     "showTitle": false,
     "tableResultSettingsMap": {},
     "title": ""
    }
   },
   "outputs": [],
   "source": [
    "# Making predictions on test data \n",
    "predictions_model_nb_fitted_all_features = model_nb_fitted_all_features.transform(test_data)"
   ]
  },
  {
   "cell_type": "code",
   "execution_count": 0,
   "metadata": {
    "application/vnd.databricks.v1+cell": {
     "cellMetadata": {
      "byteLimit": 2048000,
      "rowLimit": 10000
     },
     "inputWidgets": {},
     "nuid": "007f0df2-2603-4ba6-a92a-15f01dbbfad5",
     "showTitle": false,
     "tableResultSettingsMap": {},
     "title": ""
    }
   },
   "outputs": [
    {
     "output_type": "stream",
     "name": "stdout",
     "output_type": "stream",
     "text": [
      "\nSample of predictions (showing original label, text, and prediction details):\n+--------------------------------------------------+-----+-----------------------------------------+-----------------------------+----------+\n|                                              text|label|                            rawPrediction|                  probability|prediction|\n+--------------------------------------------------+-----+-----------------------------------------+-----------------------------+----------+\n|george soros funded obama approved domestic ter...|    0| [-3363.3579644299307,-3664.536122912614]|[1.0,1.5848483104081608E-131]|       0.0|\n|we re thinking it s having the opposite effect ...|    0| [-1753.771759683352,-1875.7431396655722]|  [1.0,1.067831489224507E-53]|       0.0|\n|sanctioned domestic terrorists taking direction...|    0|  [-7212.811887630382,-7649.156250140638]| [1.0,3.148119084979175E-190]|       0.0|\n|disney has officially begun to push a gay agend...|    0|  [-9474.127147755613,-10209.72334767384]|             [1.0,3.425E-320]|       0.0|\n|it s just cleaner that way you know keeping any...|    0|[-1016.6789657861586,-1109.3744360315636]|  [1.0,5.531829360061495E-41]|       0.0|\n|this is insane obama uses a gas guzzling plane ...|    0|  [-5410.253209112669,-5583.872321192225]| [1.0,3.9644018570859995E-76]|       0.0|\n|why is the nfl ignoring this situation are they...|    0|  [-6310.266857682601,-6764.485400006333]| [1.0,5.437427641895274E-198]|       0.0|\n|don t worry the us government will rely on the ...|    0|  [-5224.076335795675,-5392.221864556672]|  [1.0,9.447669719446204E-74]|       0.0|\n|the spoiled brats protesting on colleges campus...|    0|[-1737.0659372511868,-1904.5021057377755]| [1.0,1.9204188282738096E-73]|       0.0|\n|the big question this year for the white house ...|    0|[-18712.306305447564,-19758.128327455353]|                    [1.0,0.0]|       0.0|\n+--------------------------------------------------+-----+-----------------------------------------+-----------------------------+----------+\nonly showing top 10 rows\n\n"
     ]
    }
   ],
   "source": [
    "print(\"\\nSample of predictions (showing original label, text, and prediction details):\")\n",
    "predictions_model_nb_fitted_all_features.select(\"text\", \"label\", \"rawPrediction\", \"probability\", \"prediction\").show(10, truncate=50)"
   ]
  },
  {
   "cell_type": "code",
   "execution_count": 0,
   "metadata": {
    "application/vnd.databricks.v1+cell": {
     "cellMetadata": {
      "byteLimit": 2048000,
      "rowLimit": 10000
     },
     "inputWidgets": {},
     "nuid": "24fe8c89-894c-405e-9770-73f0fe27d6dc",
     "showTitle": false,
     "tableResultSettingsMap": {},
     "title": ""
    }
   },
   "outputs": [
    {
     "output_type": "stream",
     "name": "stdout",
     "output_type": "stream",
     "text": [
      "\nEvaluating model performance for 'Fake vs. True' classification...\nAccuracy = 0.9441\nF1 Score = 0.9441\nWeighted Precision = 0.9445\nWeighted Recall = 0.9441\nArea Under ROC (AUC ROC) = 0.5385\nArea Under Precision-Recall Curve (AUC PR) = 0.5146\n"
     ]
    }
   ],
   "source": [
    "print(\"\\nEvaluating model performance for 'Fake vs. True' classification...\")\n",
    "\n",
    "# --- Metrics using MulticlassClassificationEvaluator ---\n",
    "# Accuracy\n",
    "accuracy_evaluator = MulticlassClassificationEvaluator(labelCol=\"label\", predictionCol=\"prediction\", metricName=\"accuracy\")\n",
    "accuracy = accuracy_evaluator.evaluate(predictions_model_nb_fitted_all_features)\n",
    "print(f\"Accuracy = {accuracy:.4f}\")\n",
    "\n",
    "# F1-Score\n",
    "f1_evaluator = MulticlassClassificationEvaluator(labelCol=\"label\", predictionCol=\"prediction\", metricName=\"f1\")\n",
    "f1_score = f1_evaluator.evaluate(predictions_model_nb_fitted_all_features)\n",
    "print(f\"F1 Score = {f1_score:.4f}\")\n",
    "\n",
    "# Weighted Precision\n",
    "precision_evaluator = MulticlassClassificationEvaluator(labelCol=\"label\", predictionCol=\"prediction\", metricName=\"weightedPrecision\")\n",
    "weighted_precision = precision_evaluator.evaluate(predictions_model_nb_fitted_all_features)\n",
    "print(f\"Weighted Precision = {weighted_precision:.4f}\")\n",
    "\n",
    "# Weighted Recall\n",
    "recall_evaluator = MulticlassClassificationEvaluator(labelCol=\"label\", predictionCol=\"prediction\", metricName=\"weightedRecall\")\n",
    "weighted_recall = recall_evaluator.evaluate(predictions_model_nb_fitted_all_features)\n",
    "print(f\"Weighted Recall = {weighted_recall:.4f}\")\n",
    "\n",
    "# --- Metrics using BinaryClassificationEvaluator (Specific to Binary) ---\n",
    "# This evaluator expects a raw prediction or probability column that indicates the score for the \"positive\" class.\n",
    "# By default, it uses 'rawPrediction'\n",
    "\n",
    "# Area Under ROC Curve (AUC ROC)\n",
    "# AUC ROC measures the ability of the classifier to distinguish between classes.\n",
    "# A value closer to 1 is better. 0.5 is random guessing.\n",
    "roc_auc_evaluator = BinaryClassificationEvaluator(labelCol=\"label\", rawPredictionCol=\"rawPrediction\", metricName=\"areaUnderROC\")\n",
    "auc_roc = roc_auc_evaluator.evaluate(predictions_model_nb_fitted_all_features)\n",
    "print(f\"Area Under ROC (AUC ROC) = {auc_roc:.4f}\")\n",
    "\n",
    "# Area Under Precision-Recall Curve (AUC PR)\n",
    "# AUC PR is often more informative for imbalanced datasets.\n",
    "pr_auc_evaluator = BinaryClassificationEvaluator(labelCol=\"label\", rawPredictionCol=\"rawPrediction\", metricName=\"areaUnderPR\")\n",
    "auc_pr = pr_auc_evaluator.evaluate(predictions_model_nb_fitted_all_features)\n",
    "print(f\"Area Under Precision-Recall Curve (AUC PR) = {auc_pr:.4f}\")"
   ]
  },
  {
   "cell_type": "markdown",
   "metadata": {
    "application/vnd.databricks.v1+cell": {
     "cellMetadata": {},
     "inputWidgets": {},
     "nuid": "b609896a-1588-452a-9258-116d5624c62b",
     "showTitle": false,
     "tableResultSettingsMap": {},
     "title": ""
    }
   },
   "source": [
    "Face value the Naive Bayes model has a high F1 score but is not able to capture complex relationships needed to truly separate the classes across a range of confidence levels as indicated by the very low AUC."
   ]
  },
  {
   "cell_type": "code",
   "execution_count": 0,
   "metadata": {
    "application/vnd.databricks.v1+cell": {
     "cellMetadata": {
      "byteLimit": 2048000,
      "rowLimit": 10000
     },
     "inputWidgets": {},
     "nuid": "c387db9a-9edd-4598-92ca-db2cda8dbf99",
     "showTitle": false,
     "tableResultSettingsMap": {},
     "title": ""
    }
   },
   "outputs": [
    {
     "output_type": "stream",
     "name": "stdout",
     "output_type": "stream",
     "text": [
      "Label distribution in predictions_df (from test data):\n+-----+-----+\n|label|count|\n+-----+-----+\n|    0| 4558|\n|    1| 4251|\n+-----+-----+\n\n"
     ]
    }
   ],
   "source": [
    "print(\"Label distribution in predictions_df (from test data):\")\n",
    "predictions_model_nb_fitted_all_features.groupBy(\"label\").count().show()\n",
    "# Also check on your original train_data\n",
    "# train_data.groupBy(\"label\").count().show()"
   ]
  },
  {
   "cell_type": "code",
   "execution_count": 0,
   "metadata": {
    "application/vnd.databricks.v1+cell": {
     "cellMetadata": {
      "byteLimit": 2048000,
      "rowLimit": 10000
     },
     "inputWidgets": {},
     "nuid": "a356b90b-7964-4648-8bba-4a6e026edd90",
     "showTitle": false,
     "tableResultSettingsMap": {},
     "title": ""
    }
   },
   "outputs": [
    {
     "output_type": "stream",
     "name": "stdout",
     "output_type": "stream",
     "text": [
      "Confusion Matrix:\n+-----+----------+-----+\n|label|prediction|count|\n+-----+----------+-----+\n|    0|       0.0| 4375|\n|    0|       1.0|  183|\n|    1|       0.0|  309|\n|    1|       1.0| 3942|\n+-----+----------+-----+\n\n"
     ]
    }
   ],
   "source": [
    "print(\"Confusion Matrix:\")\n",
    "predictions_model_nb_fitted_all_features.groupBy(\"label\", \"prediction\").count().show()"
   ]
  },
  {
   "cell_type": "code",
   "execution_count": 0,
   "metadata": {
    "application/vnd.databricks.v1+cell": {
     "cellMetadata": {
      "byteLimit": 2048000,
      "rowLimit": 10000
     },
     "inputWidgets": {},
     "nuid": "f99a5ff1-9809-4a7b-979c-f1f7a4876c62",
     "showTitle": false,
     "tableResultSettingsMap": {},
     "title": ""
    }
   },
   "outputs": [
    {
     "output_type": "stream",
     "name": "stdout",
     "output_type": "stream",
     "text": [
      "\nEvaluating model performance for Binary Classification...\n\n--- Threshold-based Metrics (Accuracy, F1, Precision, Recall) ---\nAccuracy = 0.9441\nF1 Score = 0.9441\nWeighted Precision = 0.9445\nWeighted Recall = 0.9441\n\n--- Ranking-based Metrics (AUC ROC, AUC PR) ---\nArea Under ROC (AUC ROC) = 0.5385\nArea Under Precision-Recall Curve (AUC PR) = 0.5146\n\nEvaluation complete.\n\nReturned metrics dictionary:\n{'accuracy': 0.9441480304234305, 'f1_score': 0.9441086668695291, 'weighted_precision': 0.9444570675679288, 'weighted_recall': 0.9441480304234307, 'auc_roc': 0.5384963752689014, 'auc_pr': 0.5146140093461739}\n"
     ]
    }
   ],
   "source": [
    "# Confirm function is returning the same results\n",
    "\n",
    "stored_metrics_model_nb_fitted_all_features = evaluate_binary_classification_model(predictions_model_nb_fitted_all_features)\n",
    "print(\"\\nReturned metrics dictionary:\")\n",
    "print(stored_metrics_nb_all_features)"
   ]
  },
  {
   "cell_type": "code",
   "execution_count": 0,
   "metadata": {
    "application/vnd.databricks.v1+cell": {
     "cellMetadata": {
      "byteLimit": 2048000,
      "rowLimit": 10000
     },
     "inputWidgets": {},
     "nuid": "122bba70-385e-45bb-9e3b-1d86e0c8db9e",
     "showTitle": false,
     "tableResultSettingsMap": {},
     "title": ""
    }
   },
   "outputs": [
    {
     "output_type": "stream",
     "name": "stdout",
     "output_type": "stream",
     "text": [
      "** Naive Bayes model with all features saved.\n"
     ]
    }
   ],
   "source": [
    "#### Save the model \n",
    "model_nb_fitted_all_features.write().overwrite().save(\"dbfs:/dbfs/FileStore/fake_news_detection/models\")\n",
    "print(\"** Naive Bayes model with all features saved.\")"
   ]
  },
  {
   "cell_type": "markdown",
   "metadata": {
    "application/vnd.databricks.v1+cell": {
     "cellMetadata": {
      "byteLimit": 2048000,
      "rowLimit": 10000
     },
     "inputWidgets": {},
     "nuid": "5a78bb06-801f-4fc0-8ed9-12aed4ac1097",
     "showTitle": false,
     "tableResultSettingsMap": {},
     "title": ""
    }
   },
   "source": [
    "### Model with 'text' only "
   ]
  },
  {
   "cell_type": "code",
   "execution_count": 0,
   "metadata": {
    "application/vnd.databricks.v1+cell": {
     "cellMetadata": {
      "byteLimit": 2048000,
      "rowLimit": 10000
     },
     "inputWidgets": {},
     "nuid": "d427ab9d-37d8-4513-beb9-c4bdc08111f5",
     "showTitle": false,
     "tableResultSettingsMap": {},
     "title": ""
    }
   },
   "outputs": [],
   "source": [
    "nb_estimator_text_only = NaiveBayes(\n",
    "    labelCol=\"label\",\n",
    "    featuresCol=\"features_text_only\",\n",
    "    modelType=\"multinomial\" \n",
    ")\n",
    "\n",
    "feature_assembler_text_only = VectorAssembler(\n",
    "    inputCols=[\n",
    "        \"text_tfidf_features\",\n",
    "    ],\n",
    "    outputCol=\"features_text_only\" # input to nb_model_text_only\n",
    ")\n",
    "\n",
    "model_nb_text_only = Pipeline(stages=[\n",
    "    # Text (main body) processing\n",
    "    text_tokenizer,\n",
    "    text_stopwords_remover,\n",
    "    text_hashing_tf,\n",
    "    text_idf,\n",
    "    # Assemble all features\n",
    "    feature_assembler_text_only,\n",
    "    # Add the Naive Bayes model estimator\n",
    "    nb_model_text_only\n",
    "])\n",
    "model_nb_fitted_text_only = model_nb_text_only.fit(train_data)\n"
   ]
  },
  {
   "cell_type": "code",
   "execution_count": 0,
   "metadata": {
    "application/vnd.databricks.v1+cell": {
     "cellMetadata": {
      "byteLimit": 2048000,
      "rowLimit": 10000
     },
     "inputWidgets": {},
     "nuid": "b6ec7ce0-31d7-4539-86ee-a744fb25b51a",
     "showTitle": false,
     "tableResultSettingsMap": {},
     "title": ""
    }
   },
   "outputs": [],
   "source": [
    "# Making predictions on test data \n",
    "predictions_model_nb_fitted_text_only = model_nb_fitted_text_only.transform(test_data)"
   ]
  },
  {
   "cell_type": "code",
   "execution_count": 0,
   "metadata": {
    "application/vnd.databricks.v1+cell": {
     "cellMetadata": {
      "byteLimit": 2048000,
      "rowLimit": 10000
     },
     "inputWidgets": {},
     "nuid": "f91c813a-31ab-444b-88a6-02ddab579808",
     "showTitle": false,
     "tableResultSettingsMap": {},
     "title": ""
    }
   },
   "outputs": [
    {
     "output_type": "stream",
     "name": "stdout",
     "output_type": "stream",
     "text": [
      "Label distribution in predictions_df (from test data):\n+-----+-----+\n|label|count|\n+-----+-----+\n|    0| 4558|\n|    1| 4251|\n+-----+-----+\n\n"
     ]
    }
   ],
   "source": [
    "print(\"Label distribution in predictions_df (from test data):\")\n",
    "predictions_model_nb_fitted_text_only.groupBy(\"label\").count().show()\n"
   ]
  },
  {
   "cell_type": "code",
   "execution_count": 0,
   "metadata": {
    "application/vnd.databricks.v1+cell": {
     "cellMetadata": {
      "byteLimit": 2048000,
      "rowLimit": 10000
     },
     "inputWidgets": {},
     "nuid": "1d780d26-694a-4d78-a5d1-c29c88b275c5",
     "showTitle": false,
     "tableResultSettingsMap": {},
     "title": ""
    }
   },
   "outputs": [
    {
     "output_type": "stream",
     "name": "stdout",
     "output_type": "stream",
     "text": [
      "\nEvaluating model performance for Binary Classification...\n\n--- Threshold-based Metrics (Accuracy, F1, Precision, Recall) ---\nAccuracy = 0.9300\nF1 Score = 0.9299\nWeighted Precision = 0.9304\nWeighted Recall = 0.9300\n\n--- Ranking-based Metrics (AUC ROC, AUC PR) ---\nArea Under ROC (AUC ROC) = 0.5236\nArea Under Precision-Recall Curve (AUC PR) = 0.5006\n\nEvaluation complete.\n"
     ]
    }
   ],
   "source": [
    "stored_metrics_model_nb_fitted_text_only  = evaluate_binary_classification_model(predictions_model_nb_fitted_text_only)"
   ]
  },
  {
   "cell_type": "code",
   "execution_count": 0,
   "metadata": {
    "application/vnd.databricks.v1+cell": {
     "cellMetadata": {
      "byteLimit": 2048000,
      "rowLimit": 10000
     },
     "inputWidgets": {},
     "nuid": "c257cdb2-5a72-41a5-9cae-1c06bf0dae45",
     "showTitle": false,
     "tableResultSettingsMap": {},
     "title": ""
    }
   },
   "outputs": [
    {
     "output_type": "stream",
     "name": "stdout",
     "output_type": "stream",
     "text": [
      "** Naive Bayes model with only text feature saved.\n"
     ]
    }
   ],
   "source": [
    "#### Save the model \n",
    "model_nb_text_only.write().overwrite().save(\"dbfs:/dbfs/FileStore/fake_news_detection/models\")\n",
    "print(\"** Naive Bayes model with only text feature saved.\")"
   ]
  },
  {
   "cell_type": "markdown",
   "metadata": {
    "application/vnd.databricks.v1+cell": {
     "cellMetadata": {},
     "inputWidgets": {},
     "nuid": "ee920176-bf16-41c8-acfc-b9e8eb60eae9",
     "showTitle": false,
     "tableResultSettingsMap": {},
     "title": ""
    }
   },
   "source": [
    "## RF Model"
   ]
  },
  {
   "cell_type": "code",
   "execution_count": 0,
   "metadata": {
    "application/vnd.databricks.v1+cell": {
     "cellMetadata": {
      "byteLimit": 2048000,
      "rowLimit": 10000
     },
     "inputWidgets": {},
     "nuid": "0a28ad6d-d892-4b60-ab64-51f7e994b165",
     "showTitle": false,
     "tableResultSettingsMap": {},
     "title": ""
    }
   },
   "outputs": [
    {
     "output_type": "stream",
     "name": "stdout",
     "output_type": "stream",
     "text": [
      "Fitting RandomForest pipeline...\nFitting complete.\nMaking predictions with RandomForest model...\nPredictions complete.\nEvaluating RandomForest model...\n\nEvaluating model performance for Binary Classification...\n\n--- Threshold-based Metrics (Accuracy, F1, Precision, Recall) ---\nAccuracy = 0.8189\nF1 Score = 0.8175\nWeighted Precision = 0.8249\nWeighted Recall = 0.8189\n\n--- Ranking-based Metrics (AUC ROC, AUC PR) ---\nArea Under ROC (AUC ROC) = 0.9151\nArea Under Precision-Recall Curve (AUC PR) = 0.9036\n\nEvaluation complete.\nRandomForest Model Metrics: {'accuracy': 0.8189351799296174, 'f1_score': 0.8175157676670333, 'weighted_precision': 0.8248851766246852, 'weighted_recall': 0.8189351799296174, 'auc_roc': 0.9151394210318731, 'auc_pr': 0.9036273682911267}\n"
     ]
    }
   ],
   "source": [
    "rf_estimator_text_only = RandomForestClassifier(labelCol=\"label\", featuresCol=\"features_text_only\", numTrees=10, maxDepth=4, seed=42)\n",
    "\n",
    "feature_assembler_text_only = VectorAssembler(\n",
    "    inputCols=[\n",
    "        \"text_tfidf_features\",\n",
    "    ],\n",
    "    outputCol=\"features_text_only\" # input to rf_model_text_only\n",
    ")\n",
    "\n",
    "model_rf_text_only = Pipeline(stages=[\n",
    "    # Text (main body) processing\n",
    "    text_tokenizer,\n",
    "    text_stopwords_remover,\n",
    "    text_hashing_tf,\n",
    "    text_idf,\n",
    "    # Assemble all features\n",
    "    feature_assembler_text_only,\n",
    "    # Add the Naive Bayes model estimator\n",
    "    rf_estimator_text_only\n",
    "])\n",
    "\n",
    "print(\"Fitting RandomForest pipeline...\")\n",
    "model_rf_fitted_text_only = model_rf_text_only.fit(train_data)\n",
    "print(\"Fitting complete.\")\n",
    "\n",
    "print(\"Making predictions with RandomForest model...\")\n",
    "predictions_model_rf_fitted_text_only = model_rf_fitted_text_only.transform(test_data)\n",
    "print(\"Predictions complete.\")\n",
    "\n",
    "print(\"Evaluating RandomForest model...\")\n",
    "stored_metrics_model_rf_fitted_text_only = evaluate_binary_classification_model(predictions_model_rf_fitted_text_only )\n",
    "print(\"RandomForest Model Metrics:\", stored_metrics_model_rf_fitted_text_only)\n"
   ]
  },
  {
   "cell_type": "code",
   "execution_count": 0,
   "metadata": {
    "application/vnd.databricks.v1+cell": {
     "cellMetadata": {
      "byteLimit": 2048000,
      "rowLimit": 10000
     },
     "inputWidgets": {},
     "nuid": "b46cb532-4403-487e-8436-823f1468d4c5",
     "showTitle": false,
     "tableResultSettingsMap": {},
     "title": ""
    }
   },
   "outputs": [
    {
     "output_type": "stream",
     "name": "stdout",
     "output_type": "stream",
     "text": [
      "** Random Forest model saved.\n"
     ]
    }
   ],
   "source": [
    "#### Save the model \n",
    "model_rf_text_only.write().overwrite().save(\"dbfs:/dbfs/FileStore/fake_news_detection/models\")\n",
    "print(\"** Random Forest model saved.\")"
   ]
  },
  {
   "cell_type": "markdown",
   "metadata": {
    "application/vnd.databricks.v1+cell": {
     "cellMetadata": {},
     "inputWidgets": {},
     "nuid": "409bec2d-5b64-4385-94b7-b87d5a722a9b",
     "showTitle": false,
     "tableResultSettingsMap": {},
     "title": ""
    }
   },
   "source": [
    "## Compare model metrics"
   ]
  },
  {
   "cell_type": "code",
   "execution_count": 0,
   "metadata": {
    "application/vnd.databricks.v1+cell": {
     "cellMetadata": {
      "byteLimit": 2048000,
      "rowLimit": 10000
     },
     "inputWidgets": {},
     "nuid": "72d55e61-2e19-4e53-9e12-eefd8aaad6a1",
     "showTitle": false,
     "tableResultSettingsMap": {},
     "title": ""
    }
   },
   "outputs": [],
   "source": [
    "from pyspark.sql.functions import udf\n",
    "from pyspark.ml.linalg import VectorUDT\n",
    "from pyspark.sql.types import DoubleType\n",
    "\n",
    "# Define UDF to extract probability of class 1 (index 1 in vector)\n",
    "def get_prob1(v):\n",
    "    return float(v[1])\n",
    "\n",
    "extract_prob_udf = udf(get_prob1, DoubleType())\n",
    "\n",
    "# Apply UDF to both models' predictions\n",
    "rf_points = predictions_model_rf_fitted_text_only.select(\"label\", extract_prob_udf(\"probability\").alias(\"prob1\")).toPandas()\n",
    "nb_points_text_only = predictions_model_nb_fitted_text_only.select(\"label\", extract_prob_udf(\"probability\").alias(\"prob1\")).toPandas()\n",
    "nb_points_all_features = predictions_model_nb_fitted_all_features.select(\"label\", extract_prob_udf(\"probability\").alias(\"prob1\")).toPandas()"
   ]
  },
  {
   "cell_type": "code",
   "execution_count": 0,
   "metadata": {
    "application/vnd.databricks.v1+cell": {
     "cellMetadata": {
      "byteLimit": 2048000,
      "rowLimit": 10000
     },
     "inputWidgets": {},
     "nuid": "5ba3414e-7d73-4434-b6a1-4f875103fd51",
     "showTitle": false,
     "tableResultSettingsMap": {},
     "title": ""
    }
   },
   "outputs": [
    {
     "output_type": "display_data",
     "data": {
      "image/png": "[encoded data removed]"
     },
     "metadata": {
      "application/vnd.databricks.v1+output": {
       "addedWidgets": {},
       "arguments": {},
       "data": "data:image/png;base64,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\n",
       "datasetInfos": [],
       "metadata": {},
       "removedWidgets": [],
       "type": "image"
      }
     },
     "output_type": "display_data"
    }
   ],
   "source": [
    "# Random Forest\n",
    "fpr_rf, tpr_rf, _ = roc_curve(rf_points[\"label\"], rf_points[\"prob1\"])\n",
    "auc_rf_score = auc(fpr_rf, tpr_rf)\n",
    "\n",
    "# Naive Bayes with all features \n",
    "fpr_nb_all_features, tpr_nb_all_features, _ = roc_curve(nb_points_all_features[\"label\"], nb_points_all_features[\"prob1\"])\n",
    "auc_nb_score_all_features = auc(fpr_nb_all_features, tpr_nb_all_features)\n",
    "\n",
    "# Naive Bayes with only text\n",
    "fpr_nb_text_only, tpr_nb_text_only, _ = roc_curve(nb_points_text_only[\"label\"], nb_points_text_only[\"prob1\"])\n",
    "auc_nb_score_text_only = auc(fpr_nb_text_only, tpr_nb_text_only)\n",
    "\n",
    "# Plot\n",
    "plt.figure(figsize=(8, 6))\n",
    "plt.plot(fpr_rf, tpr_rf, label=f\"Random Forest (AUC = {auc_rf_score:.2f})\")\n",
    "plt.plot(fpr_nb_all_features, tpr_nb_all_features, label=f\"Naive Bayes All (AUC = {auc_nb_score_all_features:.2f})\")\n",
    "plt.plot(fpr_nb_text_only, tpr_nb_text_only, label=f\"Naive Bayes Text (AUC = {auc_nb_score_text_only:.2f})\")\n",
    "plt.plot([0, 1], [0, 1], \"k--\", label=\"Random Guessing\")\n",
    "plt.xlabel(\"False Positive Rate\")\n",
    "plt.ylabel(\"True Positive Rate\")\n",
    "plt.title(\"ROC Curve\")\n",
    "plt.legend(loc=\"lower right\")\n",
    "plt.grid(True)\n",
    "plt.xlim([0.0, 1.0]) # Ensure x-axis is from 0 to 1\n",
    "plt.ylim([0.0, 1.05]) # Ensure y-axis is from 0 to 1 (or slightly above for legend)\n",
    "plt.show()\n",
    "\n",
    "plt.show()"
   ]
  },
  {
   "cell_type": "code",
   "execution_count": 0,
   "metadata": {
    "application/vnd.databricks.v1+cell": {
     "cellMetadata": {
      "byteLimit": 2048000,
      "rowLimit": 10000
     },
     "inputWidgets": {},
     "nuid": "be5efae3-2c4d-4abb-8878-57ebeffe6e24",
     "showTitle": false,
     "tableResultSettingsMap": {},
     "title": ""
    }
   },
   "outputs": [
    {
     "output_type": "stream",
     "name": "stdout",
     "output_type": "stream",
     "text": [
      "\n--- Model Performance Comparison ---\n"
     ]
    },
    {
     "output_type": "display_data",
     "data": {
      "text/html": [
       "<style scoped>\n",
       "  .table-result-container {\n",
       "    max-height: 300px;\n",
       "    overflow: auto;\n",
       "  }\n",
       "  table, th, td {\n",
       "    border: 1px solid black;\n",
       "    border-collapse: collapse;\n",
       "  }\n",
       "  th, td {\n",
       "    padding: 5px;\n",
       "  }\n",
       "  th {\n",
       "    text-align: left;\n",
       "  }\n",
       "</style><div class='table-result-container'><table class='table-result'><thead style='background-color: white'><tr><th>Model Name</th><th>accuracy</th><th>f1_score</th><th>weighted_precision</th><th>weighted_recall</th><th>auc_roc</th><th>auc_pr</th></tr></thead><tbody><tr><td>Naive Bayes (All Features)</td><td>0.9441480304234305</td><td>0.9441086668695291</td><td>0.9444570675679288</td><td>0.9441480304234307</td><td>0.5384954720924142</td><td>0.5146167362933181</td></tr><tr><td>Naive Bayes (Text Only)</td><td>0.9299579975025543</td><td>0.929894297349866</td><td>0.9303941342346536</td><td>0.9299579975025543</td><td>0.5236077173179395</td><td>0.500583593727722</td></tr><tr><td>Random Forest (Text Only)</td><td>0.8189351799296174</td><td>0.8175157676670333</td><td>0.8248851766246852</td><td>0.8189351799296174</td><td>0.9151394210318731</td><td>0.9036273682911267</td></tr></tbody></table></div>"
      ]
     },
     "metadata": {
      "application/vnd.databricks.v1+output": {
       "addedWidgets": {},
       "aggData": [],
       "aggError": "",
       "aggOverflow": false,
       "aggSchema": [],
       "aggSeriesLimitReached": false,
       "aggType": "",
       "arguments": {},
       "columnCustomDisplayInfos": {},
       "data": [
        [
         "Naive Bayes (All Features)",
         0.9441480304234305,
         0.9441086668695291,
         0.9444570675679288,
         0.9441480304234307,
         0.5384954720924142,
         0.5146167362933181
        ],
        [
         "Naive Bayes (Text Only)",
         0.9299579975025543,
         0.929894297349866,
         0.9303941342346536,
         0.9299579975025543,
         0.5236077173179395,
         0.500583593727722
        ],
        [
         "Random Forest (Text Only)",
         0.8189351799296174,
         0.8175157676670333,
         0.8248851766246852,
         0.8189351799296174,
         0.9151394210318731,
         0.9036273682911267
        ]
       ],
       "datasetInfos": [],
       "dbfsResultPath": null,
       "isJsonSchema": true,
       "metadata": {},
       "overflow": false,
       "plotOptions": {
        "customPlotOptions": {},
        "displayType": "table",
        "pivotAggregation": null,
        "pivotColumns": null,
        "xColumns": null,
        "yColumns": null
       },
       "removedWidgets": [],
       "schema": [
        {
         "metadata": "{}",
         "name": "Model Name",
         "type": "\"string\""
        },
        {
         "metadata": "{}",
         "name": "accuracy",
         "type": "\"double\""
        },
        {
         "metadata": "{}",
         "name": "f1_score",
         "type": "\"double\""
        },
        {
         "metadata": "{}",
         "name": "weighted_precision",
         "type": "\"double\""
        },
        {
         "metadata": "{}",
         "name": "weighted_recall",
         "type": "\"double\""
        },
        {
         "metadata": "{}",
         "name": "auc_roc",
         "type": "\"double\""
        },
        {
         "metadata": "{}",
         "name": "auc_pr",
         "type": "\"double\""
        }
       ],
       "type": "table"
      }
     },
     "output_type": "display_data"
    }
   ],
   "source": [
    "# List of your metrics dictionaries\n",
    "all_model_metrics = [\n",
    "stored_metrics_model_nb_fitted_all_features,\n",
    "stored_metrics_model_nb_fitted_text_only,\n",
    "stored_metrics_model_rf_fitted_text_only\n",
    "]\n",
    "\n",
    "model_names = [\n",
    "\"Naive Bayes (All Features)\",\n",
    "\"Naive Bayes (Text Only)\",\n",
    "\"Random Forest (Text Only)\"\n",
    "]\n",
    "\n",
    "comparison_table = compare_model_metrics(all_model_metrics, model_names)\n",
    "\n",
    "display(comparison_table) "
   ]
  },
  {
   "cell_type": "code",
   "execution_count": 0,
   "metadata": {
    "application/vnd.databricks.v1+cell": {
     "cellMetadata": {},
     "inputWidgets": {},
     "nuid": "8c5c5670-2c7b-41a1-aa5a-b2f3c303f759",
     "showTitle": false,
     "tableResultSettingsMap": {},
     "title": ""
    }
   },
   "outputs": [],
   "source": []
  }
 ],
 "metadata": {
  "application/vnd.databricks.v1+notebook": {
   "computePreferences": null,
   "dashboards": [],
   "environmentMetadata": {
    "base_environment": "",
    "environment_version": "1"
   },
   "inputWidgetPreferences": null,
   "language": "python",
   "notebookMetadata": {
    "pythonIndentUnit": 4
   },
   "notebookName": "02_Modelling",
   "widgets": {}
  }
 },
 "nbformat": 4,
 "nbformat_minor": 0
}