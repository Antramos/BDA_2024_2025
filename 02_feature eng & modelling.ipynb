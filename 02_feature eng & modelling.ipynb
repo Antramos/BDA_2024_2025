{
 "cells": [
  {
   "cell_type": "markdown",
   "metadata": {
    "application/vnd.databricks.v1+cell": {
     "cellMetadata": {},
     "inputWidgets": {},
     "nuid": "7e635356-ad60-428d-937e-9a5eb96d8cb5",
     "showTitle": false,
     "tableResultSettingsMap": {},
     "title": ""
    }
   },
   "source": [
    "## Setup and Imports\n",
    "\n",
    "First, let's set up our Spark environment and import the necessary libraries."
   ]
  },
  {
   "cell_type": "code",
   "execution_count": 0,
   "metadata": {
    "application/vnd.databricks.v1+cell": {
     "cellMetadata": {
      "byteLimit": 2048000,
      "rowLimit": 10000
     },
     "inputWidgets": {},
     "nuid": "7a88606d-214c-4e4c-90f3-e10373f97e98",
     "showTitle": false,
     "tableResultSettingsMap": {},
     "title": ""
    }
   },
   "outputs": [
    {
     "output_type": "stream",
     "name": "stdout",
     "output_type": "stream",
     "text": [
      "Requirement already satisfied: matplotlib in /databricks/python3/lib/python3.9/site-packages (3.5.1)\r\nRequirement already satisfied: pyparsing>=2.2.1 in /databricks/python3/lib/python3.9/site-packages (from matplotlib) (3.0.4)\r\nRequirement already satisfied: packaging>=20.0 in /databricks/python3/lib/python3.9/site-packages (from matplotlib) (21.3)\r\nRequirement already satisfied: numpy>=1.17 in /databricks/python3/lib/python3.9/site-packages (from matplotlib) (1.21.5)\r\nRequirement already satisfied: cycler>=0.10 in /databricks/python3/lib/python3.9/site-packages (from matplotlib) (0.11.0)\r\nRequirement already satisfied: kiwisolver>=1.0.1 in /databricks/python3/lib/python3.9/site-packages (from matplotlib) (1.3.2)\r\nRequirement already satisfied: pillow>=6.2.0 in /databricks/python3/lib/python3.9/site-packages (from matplotlib) (9.0.1)\r\nRequirement already satisfied: python-dateutil>=2.7 in /databricks/python3/lib/python3.9/site-packages (from matplotlib) (2.8.2)\r\nRequirement already satisfied: fonttools>=4.22.0 in /databricks/python3/lib/python3.9/site-packages (from matplotlib) (4.25.0)\r\nRequirement already satisfied: six>=1.5 in /databricks/python3/lib/python3.9/site-packages (from python-dateutil>=2.7->matplotlib) (1.16.0)\r\n\u001B[33mWARNING: You are using pip version 21.2.4; however, version 25.1.1 is available.\r\nYou should consider upgrading via the '/local_disk0/.ephemeral_nfs/envs/pythonEnv-2f8c94d1-a34b-4ec7-9b1b-b4fc2730208f/bin/python -m pip install --upgrade pip' command.\u001B[0m\r\n"
     ]
    }
   ],
   "source": [
    "!pip install matplotlib\n",
    "\n",
    "from pyspark.ml.feature import StringIndexer, OneHotEncoder, VectorAssembler\n",
    "from pyspark.ml.feature import Tokenizer, StopWordsRemover, HashingTF, IDF\n",
    "from pyspark.ml import Pipeline\n",
    "from pyspark.ml.classification import NaiveBayes \n",
    "from pyspark.sql.functions import col, when, count, lit\n",
    "from pyspark.ml.evaluation import MulticlassClassificationEvaluator, BinaryClassificationEvaluator\n",
    "from pyspark.ml.classification import RandomForestClassifier\n",
    "\n",
    "from pyspark.sql import DataFrame\n",
    "from pyspark.sql.functions import col, udf\n",
    "from pyspark.sql.types import DoubleType\n",
    "import matplotlib.pyplot as plt\n"
   ]
  },
  {
   "cell_type": "markdown",
   "metadata": {
    "application/vnd.databricks.v1+cell": {
     "cellMetadata": {},
     "inputWidgets": {},
     "nuid": "f69f7b92-0396-4973-b40c-90fca37f11e8",
     "showTitle": false,
     "tableResultSettingsMap": {},
     "title": ""
    }
   },
   "source": [
    "## Custom function"
   ]
  },
  {
   "cell_type": "markdown",
   "metadata": {
    "application/vnd.databricks.v1+cell": {
     "cellMetadata": {},
     "inputWidgets": {},
     "nuid": "bd86d748-961e-4dc6-9e54-b8d644148bdb",
     "showTitle": false,
     "tableResultSettingsMap": {},
     "title": ""
    }
   },
   "source": [
    "#### Model Evalution"
   ]
  },
  {
   "cell_type": "code",
   "execution_count": 0,
   "metadata": {
    "application/vnd.databricks.v1+cell": {
     "cellMetadata": {
      "byteLimit": 2048000,
      "rowLimit": 10000
     },
     "inputWidgets": {},
     "nuid": "c7a107fd-bd11-4601-9e5e-3ae04e5d28b5",
     "showTitle": false,
     "tableResultSettingsMap": {},
     "title": ""
    }
   },
   "outputs": [],
   "source": [
    "def plot_score_distributions(\n",
    "    predictions_df: DataFrame,\n",
    "    label_col: str = \"label\",\n",
    "    probability_col: str = \"probability\", # Assumes this is a vector like [prob_class_0, prob_class_1]\n",
    "    positive_class_index: int = 1,      # Index of the positive class's probability in the vector\n",
    "    positive_label_value = 1.0,         # The actual value in label_col for the positive class\n",
    "    negative_label_value = 0.0          # The actual value in label_col for the negative class\n",
    "):\n",
    "    \"\"\"\n",
    "    Plots the distribution of predicted scores (probabilities of the positive class)\n",
    "    for the actual positive and negative classes.\n",
    "\n",
    "    Args:\n",
    "        predictions_df (DataFrame): DataFrame containing true labels and predicted probabilities.\n",
    "                                    Must contain label_col and probability_col.\n",
    "        label_col (str): Name of the true label column.\n",
    "        probability_col (str): Name of the column containing probability vectors\n",
    "                               (e.g., [prob_class_0, prob_class_1] from NaiveBayes).\n",
    "        positive_class_index (int): Index in the probability_col vector that corresponds\n",
    "                                    to the probability of the positive class.\n",
    "        positive_label_value: The value in label_col representing the positive class.\n",
    "        negative_label_value: The value in label_col representing the negative class.\n",
    "    \"\"\"\n",
    "    print(f\"Plotting score distributions. Positive class label: {positive_label_value}, Negative class label: {negative_label_value}\")\n",
    "    print(f\"Extracting score for positive class from index {positive_class_index} of '{probability_col}'.\")\n",
    "\n",
    "    try:\n",
    "        # UDF to extract the probability of the positive class\n",
    "        extract_positive_prob_udf = udf(lambda prob_vector: float(prob_vector[positive_class_index]) if prob_vector else None, DoubleType())\n",
    "\n",
    "        temp_score_col = \"_positive_score_temp\"\n",
    "        df_with_scores = predictions_df.withColumn(temp_score_col, extract_positive_prob_udf(col(probability_col)))\n",
    "\n",
    "        # Collect scores for the positive class\n",
    "        positive_scores = df_with_scores.filter(col(label_col) == positive_label_value) \\\n",
    "                                        .select(temp_score_col).rdd.flatMap(lambda row: row).collect()\n",
    "        \n",
    "        # Collect scores for the negative class\n",
    "        negative_scores = df_with_scores.filter(col(label_col) == negative_label_value) \\\n",
    "                                        .select(temp_score_col).rdd.flatMap(lambda row: row).collect()\n",
    "        \n",
    "        # Remove None values that might result if original probability vector was null\n",
    "        positive_scores = [s for s in positive_scores if s is not None]\n",
    "        negative_scores = [s for s in negative_scores if s is not None]\n",
    "\n",
    "        if not positive_scores and not negative_scores:\n",
    "            print(\"No scores found to plot for either class.\")\n",
    "            return\n",
    "        if not positive_scores:\n",
    "            print(f\"No scores found for the positive class (label={positive_label_value}). Plotting only negative class scores.\")\n",
    "        if not negative_scores:\n",
    "            print(f\"No scores found for the negative class (label={negative_label_value}). Plotting only positive class scores.\")\n",
    "\n",
    "        # Plotting using matplotlib\n",
    "        import matplotlib.pyplot as plt\n",
    "        \n",
    "        plt.figure(figsize=(10, 6))\n",
    "        \n",
    "        if positive_scores:\n",
    "            plt.hist(positive_scores, bins=50, alpha=0.7, label=f'Actual Positive Class (Label={positive_label_value}) Scores', color='green')\n",
    "        if negative_scores:\n",
    "            plt.hist(negative_scores, bins=50, alpha=0.7, label=f'Actual Negative Class (Label={negative_label_value}) Scores', color='red')\n",
    "        \n",
    "        plt.title('Distribution of Predicted Scores for Positive Class by Actual Class')\n",
    "        plt.xlabel(f'Predicted Probability of Positive Class (Label={positive_label_value})')\n",
    "        plt.ylabel('Frequency')\n",
    "        plt.legend(loc='upper center')\n",
    "        plt.grid(True, linestyle='--', alpha=0.7)\n",
    "        plt.show() # Display the plot\n",
    "        print(\"Score distribution plot generated. Check your plotting output.\")\n",
    "\n",
    "    except ImportError:\n",
    "        print(\"Matplotlib is not installed. Please install it to plot ('pip install matplotlib').\")\n",
    "    except Exception as e:\n",
    "        print(f\"An error occurred while generating the score distribution plot: {e}\")\n",
    "        print(\"Ensure your DataFrame and column names are correct, and the probability column is a vector type.\")\n",
    "\n",
    "# --- Example Usage (Conceptual - adapt to your actual DataFrame and column names) ---\n",
    "# Assuming 'predictions_df' is available from your model:\n",
    "# predictions_df = pipeline_nb_fitted.transform(test_data)\n",
    "\n",
    "# Define which label value is \"fake\" (positive) and \"true\" (negative)\n",
    "# For example, if 'fake' is label 1 and 'true' is label 0,\n",
    "# and your NaiveBayes probability vector is [prob_of_label_0, prob_of_label_1]\n",
    "\n",
    "# plot_score_distributions(\n",
    "#     predictions_df,\n",
    "#     label_col=\"label\",\n",
    "#     probability_col=\"probability\",  # Column containing [prob_class_0, prob_class_1]\n",
    "#     positive_class_index=1,       # Index for P(label=1) in the probability vector\n",
    "#     positive_label_value=1.0,       # Value representing the \"fake\" class in 'label' column\n",
    "#     negative_label_value=0.0        # Value representing the \"true\" class in 'label' column\n",
    "# )\n"
   ]
  },
  {
   "cell_type": "code",
   "execution_count": 0,
   "metadata": {
    "application/vnd.databricks.v1+cell": {
     "cellMetadata": {
      "byteLimit": 2048000,
      "rowLimit": 10000
     },
     "inputWidgets": {},
     "nuid": "006392ff-599c-432d-b2b1-511c2ffdcb5c",
     "showTitle": false,
     "tableResultSettingsMap": {},
     "title": ""
    }
   },
   "outputs": [],
   "source": [
    "from pyspark.ml.evaluation import MulticlassClassificationEvaluator, BinaryClassificationEvaluator\n",
    "from pyspark.sql import DataFrame # For type hinting\n",
    "\n",
    "def evaluate_binary_classification_model(\n",
    "    predictions_df: DataFrame,\n",
    "    label_col: str = \"label\",\n",
    "    prediction_col: str = \"prediction\",\n",
    "    raw_prediction_col: str = \"rawPrediction\"\n",
    "):\n",
    "    \"\"\"\n",
    "    Evaluates a binary classification model and prints common metrics.\n",
    "\n",
    "    Args:\n",
    "        predictions_df (DataFrame): DataFrame containing true labels and model predictions.\n",
    "                                    Expected to have columns specified by label_col,\n",
    "                                    prediction_col, and raw_prediction_col.\n",
    "        label_col (str): Name of the true label column.\n",
    "        prediction_col (str): Name of the column with the model's final hard predictions.\n",
    "        raw_prediction_col (str): Name of the column with raw prediction scores,\n",
    "                                  typically used for AUC ROC and AUC PR.\n",
    "    Returns:\n",
    "        dict: A dictionary containing the calculated metrics.\n",
    "    \"\"\"\n",
    "    print(\"\\nEvaluating model performance for Binary Classification...\")\n",
    "\n",
    "    metrics = {}\n",
    "\n",
    "    # --- Metrics using MulticlassClassificationEvaluator (still valid for binary cases) ---\n",
    "    print(\"\\n--- Threshold-based Metrics (Accuracy, F1, Precision, Recall) ---\")\n",
    "    # Accuracy\n",
    "    accuracy_evaluator = MulticlassClassificationEvaluator(\n",
    "        labelCol=label_col,\n",
    "        predictionCol=prediction_col,\n",
    "        metricName=\"accuracy\"\n",
    "    )\n",
    "    accuracy = accuracy_evaluator.evaluate(predictions_df)\n",
    "    metrics[\"accuracy\"] = accuracy\n",
    "    print(f\"Accuracy = {accuracy:.4f}\")\n",
    "\n",
    "    # F1-Score\n",
    "    f1_evaluator = MulticlassClassificationEvaluator(\n",
    "        labelCol=label_col,\n",
    "        predictionCol=prediction_col,\n",
    "        metricName=\"f1\"\n",
    "    )\n",
    "    f1_score = f1_evaluator.evaluate(predictions_df)\n",
    "    metrics[\"f1_score\"] = f1_score\n",
    "    print(f\"F1 Score = {f1_score:.4f}\")\n",
    "\n",
    "    # Weighted Precision\n",
    "    precision_evaluator = MulticlassClassificationEvaluator(\n",
    "        labelCol=label_col,\n",
    "        predictionCol=prediction_col,\n",
    "        metricName=\"weightedPrecision\"\n",
    "    )\n",
    "    weighted_precision = precision_evaluator.evaluate(predictions_df)\n",
    "    metrics[\"weighted_precision\"] = weighted_precision\n",
    "    print(f\"Weighted Precision = {weighted_precision:.4f}\")\n",
    "\n",
    "    # Weighted Recall\n",
    "    recall_evaluator = MulticlassClassificationEvaluator(\n",
    "        labelCol=label_col,\n",
    "        predictionCol=prediction_col,\n",
    "        metricName=\"weightedRecall\"\n",
    "    )\n",
    "    weighted_recall = recall_evaluator.evaluate(predictions_df)\n",
    "    metrics[\"weighted_recall\"] = weighted_recall\n",
    "    print(f\"Weighted Recall = {weighted_recall:.4f}\")\n",
    "\n",
    "    # --- Metrics using BinaryClassificationEvaluator (Specific to Binary) ---\n",
    "    print(\"\\n--- Ranking-based Metrics (AUC ROC, AUC PR) ---\")\n",
    "    # Area Under ROC Curve (AUC ROC)\n",
    "    try:\n",
    "        roc_auc_evaluator = BinaryClassificationEvaluator(\n",
    "            labelCol=label_col,\n",
    "            rawPredictionCol=raw_prediction_col, # Uses raw scores or probabilities\n",
    "            metricName=\"areaUnderROC\"\n",
    "        )\n",
    "        auc_roc = roc_auc_evaluator.evaluate(predictions_df)\n",
    "        metrics[\"auc_roc\"] = auc_roc\n",
    "        print(f\"Area Under ROC (AUC ROC) = {auc_roc:.4f}\")\n",
    "    except Exception as e:\n",
    "        print(f\"Could not calculate AUC ROC. Error: {e}\")\n",
    "        print(f\"Ensure '{raw_prediction_col}' column exists and is in the correct format (double or vector for label 1 probability).\")\n",
    "        metrics[\"auc_roc\"] = None\n",
    "\n",
    "    # Area Under Precision-Recall Curve (AUC PR)\n",
    "    try:\n",
    "        pr_auc_evaluator = BinaryClassificationEvaluator(\n",
    "            labelCol=label_col,\n",
    "            rawPredictionCol=raw_prediction_col, # Uses raw scores or probabilities\n",
    "            metricName=\"areaUnderPR\"\n",
    "        )\n",
    "        auc_pr = pr_auc_evaluator.evaluate(predictions_df)\n",
    "        metrics[\"auc_pr\"] = auc_pr\n",
    "        print(f\"Area Under Precision-Recall Curve (AUC PR) = {auc_pr:.4f}\")\n",
    "    except Exception as e:\n",
    "        print(f\"Could not calculate AUC PR. Error: {e}\")\n",
    "        print(f\"Ensure '{raw_prediction_col}' column exists and is in the correct format.\")\n",
    "        metrics[\"auc_pr\"] = None\n",
    "        \n",
    "    print(\"\\nEvaluation complete.\")\n",
    "    return metrics"
   ]
  },
  {
   "cell_type": "markdown",
   "metadata": {
    "application/vnd.databricks.v1+cell": {
     "cellMetadata": {},
     "inputWidgets": {},
     "nuid": "62730d1e-0aab-441b-970c-a66c2e8b9159",
     "showTitle": false,
     "tableResultSettingsMap": {},
     "title": ""
    }
   },
   "source": [
    "## Data processing functions"
   ]
  },
  {
   "cell_type": "markdown",
   "metadata": {
    "application/vnd.databricks.v1+cell": {
     "cellMetadata": {},
     "inputWidgets": {},
     "nuid": "1949f4e4-38e7-49b8-b749-e61090584862",
     "showTitle": false,
     "tableResultSettingsMap": {},
     "title": ""
    }
   },
   "source": [
    "#### Tokenize text"
   ]
  },
  {
   "cell_type": "code",
   "execution_count": 0,
   "metadata": {
    "application/vnd.databricks.v1+cell": {
     "cellMetadata": {
      "byteLimit": 2048000,
      "rowLimit": 10000
     },
     "inputWidgets": {},
     "nuid": "2079aa61-a9a6-405c-bb03-89d7e50064bb",
     "showTitle": false,
     "tableResultSettingsMap": {},
     "title": ""
    }
   },
   "outputs": [],
   "source": [
    "def tokenize_text(df, text_column=\"text\", output_column=\"tokens\"):\n",
    "    \"\"\"\n",
    "    Tokenize text into words.\n",
    "    \n",
    "    Args:\n",
    "        df: DataFrame with text column\n",
    "        text_column (str): Name of the text column\n",
    "        output_column (str): Name of the output column for tokens\n",
    "        \n",
    "    Returns:\n",
    "        DataFrame: DataFrame with tokenized text\n",
    "    \"\"\"\n",
    "    print(\"Tokenizing text...\")\n",
    "    \n",
    "    # Create a tokenizer\n",
    "    tokenizer = Tokenizer(inputCol=text_column, outputCol=output_column)\n",
    "    \n",
    "    # Apply tokenization\n",
    "    tokenized_df = tokenizer.transform(df)\n",
    "    \n",
    "    return tokenized_df\n"
   ]
  },
  {
   "cell_type": "markdown",
   "metadata": {
    "application/vnd.databricks.v1+cell": {
     "cellMetadata": {},
     "inputWidgets": {},
     "nuid": "f5ebb944-5619-491f-805f-9b8bff67f202",
     "showTitle": false,
     "tableResultSettingsMap": {},
     "title": ""
    }
   },
   "source": [
    "#### Remove stopwords"
   ]
  },
  {
   "cell_type": "code",
   "execution_count": 0,
   "metadata": {
    "application/vnd.databricks.v1+cell": {
     "cellMetadata": {
      "byteLimit": 2048000,
      "rowLimit": 10000
     },
     "inputWidgets": {},
     "nuid": "b9375bc8-d27f-49ed-a10a-2ed3bc5978a3",
     "showTitle": false,
     "tableResultSettingsMap": {},
     "title": ""
    }
   },
   "outputs": [],
   "source": [
    "def remove_stopwords(df, tokens_column=\"tokens\", output_column=\"filtered_tokens\"):\n",
    "    \"\"\"\n",
    "    Remove stopwords from tokenized text.\n",
    "    \n",
    "    Args:\n",
    "        df: DataFrame with tokens column\n",
    "        tokens_column (str): Name of the tokens column\n",
    "        output_column (str): Name of the output column for filtered tokens\n",
    "        \n",
    "    Returns:\n",
    "        DataFrame: DataFrame with stopwords removed\n",
    "    \"\"\"\n",
    "    print(\"Removing stopwords...\")\n",
    "    \n",
    "    # Create a stopwords remover\n",
    "    remover = StopWordsRemover(inputCol=tokens_column, outputCol=output_column)\n",
    "    \n",
    "    # Apply stopwords removal\n",
    "    filtered_df = remover.transform(df)\n",
    "    \n",
    "    return filtered_df"
   ]
  },
  {
   "cell_type": "markdown",
   "metadata": {
    "application/vnd.databricks.v1+cell": {
     "cellMetadata": {},
     "inputWidgets": {},
     "nuid": "050b504c-19a5-4054-aedd-8d62c259b151",
     "showTitle": false,
     "tableResultSettingsMap": {},
     "title": ""
    }
   },
   "source": [
    "## Get data from Parquet"
   ]
  },
  {
   "cell_type": "code",
   "execution_count": 0,
   "metadata": {
    "application/vnd.databricks.v1+cell": {
     "cellMetadata": {
      "byteLimit": 2048000,
      "rowLimit": 10000
     },
     "inputWidgets": {},
     "nuid": "23c6749a-753b-4826-89d5-b08bd13910de",
     "showTitle": false,
     "tableResultSettingsMap": {},
     "title": ""
    }
   },
   "outputs": [],
   "source": [
    "df = spark.read.parquet(\"/dbfs/FileStore/fake_news_detection/data/processed/combined_news.parquet\")"
   ]
  },
  {
   "cell_type": "code",
   "execution_count": 0,
   "metadata": {
    "application/vnd.databricks.v1+cell": {
     "cellMetadata": {
      "byteLimit": 2048000,
      "rowLimit": 10000
     },
     "inputWidgets": {},
     "nuid": "b1692447-9943-45c1-b6a2-0e5b5f5b4a6d",
     "showTitle": false,
     "tableResultSettingsMap": {},
     "title": ""
    }
   },
   "outputs": [
    {
     "output_type": "stream",
     "name": "stdout",
     "output_type": "stream",
     "text": [
      "Out[77]: ['title', 'text', 'location', 'news_source', 'label']"
     ]
    }
   ],
   "source": [
    "df.columns"
   ]
  },
  {
   "cell_type": "code",
   "execution_count": 0,
   "metadata": {
    "application/vnd.databricks.v1+cell": {
     "cellMetadata": {
      "byteLimit": 2048000,
      "rowLimit": 10000
     },
     "inputWidgets": {},
     "nuid": "d67a5871-bd32-4fdf-8f12-b999f85b9132",
     "showTitle": false,
     "tableResultSettingsMap": {},
     "title": ""
    }
   },
   "outputs": [],
   "source": [
    "# impute unknown location and source if null\n",
    "from pyspark.sql.functions import col, when\n",
    "\n",
    "df = df.withColumn(\"location\", \\\n",
    "          when(col(\"location\").isNull(), \"Unknown_Location\") \\\n",
    "               .otherwise(col(\"location\"))) \\\n",
    "          .withColumn(\"news_source\", \\\n",
    "               when(col(\"news_source\").isNull(), \"Unknown_Source\") \\\n",
    "          .otherwise(col(\"news_source\")))"
   ]
  },
  {
   "cell_type": "code",
   "execution_count": 0,
   "metadata": {
    "application/vnd.databricks.v1+cell": {
     "cellMetadata": {
      "byteLimit": 2048000,
      "rowLimit": 10000
     },
     "inputWidgets": {},
     "nuid": "afd5a7a4-98cb-40d9-b208-38043ecaef88",
     "showTitle": false,
     "tableResultSettingsMap": {},
     "title": ""
    }
   },
   "outputs": [
    {
     "output_type": "display_data",
     "data": {
      "text/html": [
       "<style scoped>\n",
       "  .table-result-container {\n",
       "    max-height: 300px;\n",
       "    overflow: auto;\n",
       "  }\n",
       "  table, th, td {\n",
       "    border: 1px solid black;\n",
       "    border-collapse: collapse;\n",
       "  }\n",
       "  th, td {\n",
       "    padding: 5px;\n",
       "  }\n",
       "  th {\n",
       "    text-align: left;\n",
       "  }\n",
       "</style><div class='table-result-container'><table class='table-result'><thead style='background-color: white'><tr><th>title</th><th>text</th><th>location</th><th>news_source</th><th>label</th></tr></thead><tbody><tr><td>abc news emails show hillary s top aide arranged special seating at state dinner for top clinton donors video</td><td>this woman should be in a jail cell not sitting around laughing and opening pickle jars on the jimmy fallon show judicial watch s release this week of 725 pages of state department emails involving hillary clinton aide huma abedin demonstrates the obama administration considers a large percentage of the emails sent through clinton s private server too sensitive for congress or the american public to read of the 725 pages more than 250 pages were 100 percent redacted many with page denied stamped in bold judicial watch said the new cache includes previously unreleased email exchanges in which former abedin provided influential clinton foundation donors special expedited access to the secretary of state judicial watch added that in many instances the preferential treatment provided to donors was at the specific request of clinton foundation executive douglas band the abedin emails reveal that the longtime clinton aide apparently served as a conduit between clinton foundation donors and hillary clinton while clinton served as secretary of state in more than a dozen email exchanges abedin provided expedited direct access to clinton for donors who had contributed from 25 000 to 10 million to the clinton foundation judicial watch said in a statement announcing the release wndwatch #crookedhillary scandal #9 999 and counting</td><td>Unknown_Location</td><td>Unknown_Source</td><td>0</td></tr><tr><td>black men for bernie founder campaigns in swing states for trump bill and hillary did major damage to our communities last time in white house video</td><td>apparently using thug michael ferguson s mom as a prop at black functions was not enough to be granted the black vote black men for bernie founder bruce carter s mission to restore black communities didn t end when vermont senator bernie sanders lost to hillary clinton in the democratic primary he opposed hillary clinton and the democratic establishment then because he knew that they didn t represent the minority communities he engaged in politics to fight for after the leak of internal dnc emails carter is convinced that the democratic party rigged the primary against his candidate and that hillary clinton s democratic party has no intention of changing the policies that led to the destruction of the communities he s working to improve bruce carter still believes that hillary clinton is the poster child for the kind of cronyism corruption and evil that the bernie revolution was built to overthrow he doesn t believe hillary clinton when she labels donald trump and his supporters as racists because he knows she falsely labeled her opponents in the primary as sexist bernie bros carter s preparing to take the experience knowledge and contacts his group built during the primary to campaign against hillary clinton and for donald trump and other republicans in battleground states across the country bruce carter and black men for bernie are at war with the democratic establishment whom he says pander for votes but haven t delivered meaningful results to minority communities for decades carter became politically active to support bernie sanders who taught him how the establishment s only real constituency was the donor class when he paired that knowledge with what he knew about the decline in the black and minority neighborhoods he loves he realized democratic politicians and the media had been lying bernie inspired us to disrupt the status quo because it only works for the elites and not regular people who are struggling carter told breitbart news if black communities vote for hillary clinton and democrats in november nothing will change because democrats will continue to believe they don t have to do anything to earn our votes carter became one of the most prominent and recognizable supporters of the sanders campaign by traveling the country in a tour bus and fleet of vehicles wrapped with the black men for bernie logo and a picture of sanders being arrested during the civil rights movement his online videos received millions of views and featured celebrities like mark ruffalo and ice cream makers ben and jerry this guy knows what he s doing when it comes to rallying the troops to get behind his candidate watch carter organizing supporters for bernie before hillary cheated him out of the chance to become the democrat party candidate carter told breitbart news that his greatest awakening of how democrats exploit minority voters came when he learned from the washington post that the democratic party spends less than 2 percent of its campaign resources with minority owned companies even though they get better than 90 percent of the black vote it is a practice that carter calls political slavery now black men for bernie are rebranding and again planning to tour the country with an emphasis on battleground states carter says he s going to organize black and minority communities to vote against hillary clinton and the democratic establishment donald trump is a business man and a real estate mogul who could provide knowledge and resources to transform urban communities through the development of minority owned businesses carter said with this tour we re going to show mr trump and republicans that the black and minority communities are ready to work with anyone willing to work with us to build opportunities in businesses employment and housing we don t want welfare we need opportunity carter had a lot of ideas when asked about what trump could do to help him win black votes away from the democrats when donald trump tells black people what do you have to lose by voting for me he s getting close to a message that will work but it s not quite there yet carter explained we re going to go back to these communities in florida ohio pennsylvania michigan and across the country to lead people to the facts about the clintons and democrats failures with our struggling communities carter said for carter and the black men for bernie they can t unlearn what they discovered about hillary during the primary we know that hillary clinton is for hillary clinton and the rich donors of the clinton foundation carter said we know that bill and hillary did major damage to our communities the last time they were in the white house we know they will lie about their opponents by unfairly labeling them sexists and racists and radicals donald trump isn t a typical politician and he isn t beholden to the same old political powers carter continued we want to earn our seat at the table in his administration and i think he and the republicans are smart enough to realize that when we deliver them a historic number of minority votes they better do a better job than the democrats have done or they re never going to get an opportunity like this again for entire story breitbart news</td><td>Unknown_Location</td><td>Unknown_Source</td><td>0</td></tr><tr><td>mn why did police stand down grotesque video shows male hillary supporter punching elderly trump supporter several times other trump supporters spit on assaulted and robbed</td><td>republican presidential nominee donald trump was in minneapolis friday night for a fundraiser held at the city s convention city that was besieged outside by violent liberal protesters trump supporters attending the rally were punched spit on and robbed while trump s secret service motorcade was blocked by protesters who jumped on one of the vehicles update protests at donald trump event turn unruly late police no arrests minor damage https t co t6ft3a7dk1 pic twitter com rbjlbzk024 star tribune @startribune august 20 2016now this the trump supporters said the police stood back at they were assaulted robbed and spit on no arrests were made pj media reported a week ago in minneapolis republican donors attending a trump fundraiser were assaulted robbed and spat upon by a violent leftist mob as they were leaving the event attendees say that even though there was a strong law enforcement presence at the convention center downtown where the fundraiser was held they were not afforded any police protection when coming to and leaving the event and even more incredibly there were no arrests many people who attended the event told fox 9 that police seemed to back down from intervening but the minneapolis police department insists there was no stand down order gp</td><td>Unknown_Location</td><td>Unknown_Source</td><td>0</td></tr><tr><td>actor tim allen hillary isn t capable of being funny bill clinton creepily checked out his wife when they met video</td><td>megyn what about tim allen you re one of the few conservatives in hollywood you re out of the closet as a conservative who do you like for president megyn what about hillary clinton tim allen all my staff we asked the girl writers the females the women they said it s about time so one of us said if it was sarah palin would it still be about time tim allen did she hillary actually bark like a dog did i actually see that she doesn t have a skill set for jokes she s just not her husband who i ve met and is actually kind of a neat guy although he was eyeballing my wife the entire time we were talking i think this guy he really was and he kept looking at me but he kept looking at her heh heh how you doing it s nice talking to ya i really love your show</td><td>Unknown_Location</td><td>Unknown_Source</td><td>0</td></tr><tr><td>hill arious video hillary takes break from seizures coughing fits 3 naps a day to slam trump and alt right</td><td>this video brilliantly dispels every one of hillary s false claims and throws them right back in her face absolutely brilliant</td><td>Unknown_Location</td><td>Unknown_Source</td><td>0</td></tr><tr><td>eric trump says political correctness motivated his dad to run renaming of christmas tree forcing firemen to remove american flag from trucks</td><td>millennial propaganda tool for the democrat party buzzfeed news publication attempted to do a hit piece on eric trump they claim that when eric was giving his list of reasons his father chose to run for office which included the insanity of the political correctness we see today that he incorrectly stated the white house christmas tree is called a holiday tree but did he really misspeak buzzfeed never addressed the core of eric trump s comments which were really about the ruin of our nation over political correctness instead buzzfeed chose to dissect one small part of what eric trump said about the white house christmas tree which as it turns out was actually mostly accurate the white house christmas tree was renamed the holiday tree in the 1990 s republican house speaker denny hastert changed the name back to christmas tree in 2005 this is the garbage young americans are reading every day in their social media newsfeed it s one of the primary reasons we see so many young people walking around in a stupor with bernie sanders or hillary bumper stickers on their prius from buzzfeed eric trump listing off reasons his father is running for president said in an interview this week that one of the motivations was the renaming of the white house christmas tree to holiday tree the tree placed on the white house lawn during the holiday season is still called the national christmas tree he opens up the paper each morning and sees our nation s leaders giving a hundred billion dollars to iran or he opens the paper and some new school district has just eliminated the ability for its students to say the pledge of allegiance or some fire department in some town is ordered by the mayor to no longer fly the american flag on the back of a fire truck trump told james robison in an interview posted this week buzzfeed never questioned the validity of the ransom money our president covertly paid to iran they never questioned whether or not schools and local governments are attempting to eliminate the pledge of allegiance so as not to offend immigrants or refugees it s funny how they never suggested the story about the firemen being forced to remove the american flag from the back of their trucks was not 100 accurate nope just the accuracy of the christmas tree comment or he sees the tree on the white house lawn has been renamed holiday tree instead of christmas tree continued trump i could go on and on for hours those are the very things that made my father run and those are the very things he cares about chain emails that began when president obama took office falsely claimed that tree had been renamed a tree on capitol hill was briefly called a holiday tree in the 1990s but the name was changed in 2005 at the direction of then speaker dennis hastert watch eric trump s awesome speech at the rnc where he talks about why his dad is running and why he s the most qualified man in america to step in and assume the office of president of the united states</td><td>Unknown_Location</td><td>Unknown_Source</td><td>0</td></tr><tr><td>offending the globalists teen kicked out of un building for wearing bill clinton rape shirt video</td><td>freedom of speech is not a universally accepted right which is just one more reason the us has no business funding the globalist un and their activities when you re visiting the un building in nyc it might be a good idea not to offend the globalists or anyone in a leadership role with the globalists https youtu be yvlrss1h4g8the bill clinton rape shirt can be purchased at infowars at this link we are in no way affiliated or benefitting from the sale of this t shirt we just thought you might like to know where you can pick one up and spread the truth about the sexual predator husband hillary has enabled for decades</td><td>Unknown_Location</td><td>Unknown_Source</td><td>0</td></tr><tr><td>cnn cancels popular dr drew show after he tells viewers he s gravely concerned about hillary s health video</td><td>another stunning cover up for #unfit hillary by her most committed media cheerleader one week ago board certified medicine specialist tv personality and cnn employee dr drew pinsky broke the mold of conformity when he said that he is gravely concerned about presidential candidate hillary clinton s health pointing out that treatment she is receiving could be the result of her bizarre behaviors appearing on kabc s mcintyre in the morning pinsky said he and his colleague dr robert huizenga became gravely concerned not just about her health but her health care after analyzing what medical records on hillary had been released pinsky pointed out that after clinton fainted and fell in late 2012 she suffered from a transverse sinus thrombosis an exceedingly rare clot that virtually guarantees somebody has something wrong with their coagulation system what s wrong with her coagulation system has that been evaluated asked dr drew pinsky described the situation as bizarre and said that hillary s medical condition was dangerous and concerning dr drew also went on to add that it was a sign of brain damage when hillary had to wear prism glasses after her fall just as stunning as pinsky s assessment which promptly went viral and led to the immediate takedown of the original interview webpage by kabc am radio was that it came from an employee of hln which is part of the pro clinton cnn network as such it is probably not surprising that earlier today just one week later cnn executive vice president ken jautz announced thursday that dr drew and i have mutually agreed to air the final episode of his show on september 22 zero hedge</td><td>Unknown_Location</td><td>Unknown_Source</td><td>0</td></tr><tr><td>#crookedhillary uses twitter to accuse trump of being a racist forgets to mention 20k in donations from kkk in 2016 video</td><td>hillary clinton is bending over backwards to convince american voters that donald trump is a racist because a white supremacist and a kkk member said they plan to vote for him who eulogized kkk leader mentor and close friend robert c byrd and about the 20 000 donation she accepted from the kkk just this year here s a tweet from the woman who refuses to speak to reporters after being caught in yet another scandal this time its been revealed that hillary and her grifter and serial rapist husband have been selling our nation for favors through their pay to play slush fund the clinton foundation criminal piggy bank oh yeah about that tweet it s not a coincidence that white supremacists proudly support trump pic twitter com 3ox4i1gskr hillary clinton @hillaryclinton august 25 2016hillary clinton s presidential campaign has received more than 20 000 in donations contributed by members of the ku klux klan a prominent member of the hate group said monday mr quigg the leader of the klan s california chapter announced last month that he had abandoned supporting republican presidential front runner donald trump in lieu of backing his likely democratic opponent the klansman claims that members have raised more than 20 000 for mrs clinton and have donated it anonymously to her campaign clinton campaign spokesman josh schwerin disputed the grand dragon s claim and said the former secretary of state has rejected the group s endorsement washington timeswatch hillary s praise for kkk leader senator robert c byrd</td><td>Unknown_Location</td><td>Unknown_Source</td><td>0</td></tr><tr><td>when #blacklivesmatter golf take priority over our vets 76 yr old vet kills himself in va parking lot after er allegedly denied appointment with doctor for mental problems</td><td>there aren t too many stories that are more shameful or disturbing than this one what has been done to fix the horrible quality of care our veterans have been receiving during obama s eight years in office what would the va look like today if obama spent as much time trying to fix this broken health care system for our veterans as he spent trying to improve his golf swing or organizing with black lives matter terrorists if anyone thinks hillary would do a better job with our vets and their health care they only need to do is look at benghazi to see how much she cares about members of our us military hillary continues to brag about her failed efforts to inflict a similar government run health care system on every american a veteran took his own life in the parking lot of a va hospital in long island new york over the weekend after he was allegedly denied an appointment with an er doctor for his mental problems peter kaisen 76 of islip was pronounced dead from a self inflicted gunshot wound outside building 92 at the northport veterans affairs medical center on sunday according to a note posted on a funeral home s website kaisen was married had children and grandchildren the suffolk county police department has confirmed that kaisen had been a patient at the va hospital but said nothing about a possible motive behind the suicide however two hospital employees talking anonymously to the new york times which broke the story revealed that kaisen had been frustrated that he could not see a doctor in the emergency room where he went to seek help related to his mental health one of the sources told the paper that the 76 year old veteran shot himself inside his car after being denied service in the er the source wondered why kaisen had not been sent to the hospital s mental health center or put in contact with a psychologist by phone someone dropped the ball the unnamed hospital staffer told the times they should not have turned him away the va medical system which serves nine million servicemen has been under scrutiny since 2014 when it was revealed in a scathing report from the inspector general s office that about 1 700 veterans at a phoenix hospital faced chronic wait times and were at risk of being lost or forgotten the va later confirmed that at least 35 veterans died while awaiting treatment in phoenix va officials in phoenix were also accused of falsifying records to cover up the long wait times for medical appointments entire story daily mail</td><td>Unknown_Location</td><td>Unknown_Source</td><td>0</td></tr></tbody></table></div>"
      ]
     },
     "metadata": {
      "application/vnd.databricks.v1+output": {
       "addedWidgets": {},
       "aggData": [],
       "aggError": "",
       "aggOverflow": false,
       "aggSchema": [],
       "aggSeriesLimitReached": false,
       "aggType": "",
       "arguments": {},
       "columnCustomDisplayInfos": {},
       "data": [
        [
         "abc news emails show hillary s top aide arranged special seating at state dinner for top clinton donors video",
         "this woman should be in a jail cell not sitting around laughing and opening pickle jars on the jimmy fallon show judicial watch s release this week of 725 pages of state department emails involving hillary clinton aide huma abedin demonstrates the obama administration considers a large percentage of the emails sent through clinton s private server too sensitive for congress or the american public to read of the 725 pages more than 250 pages were 100 percent redacted many with page denied stamped in bold judicial watch said the new cache includes previously unreleased email exchanges in which former abedin provided influential clinton foundation donors special expedited access to the secretary of state judicial watch added that in many instances the preferential treatment provided to donors was at the specific request of clinton foundation executive douglas band the abedin emails reveal that the longtime clinton aide apparently served as a conduit between clinton foundation donors and hillary clinton while clinton served as secretary of state in more than a dozen email exchanges abedin provided expedited direct access to clinton for donors who had contributed from 25 000 to 10 million to the clinton foundation judicial watch said in a statement announcing the release wndwatch #crookedhillary scandal #9 999 and counting",
         "Unknown_Location",
         "Unknown_Source",
         0
        ],
        [
         "black men for bernie founder campaigns in swing states for trump bill and hillary did major damage to our communities last time in white house video",
         "apparently using thug michael ferguson s mom as a prop at black functions was not enough to be granted the black vote black men for bernie founder bruce carter s mission to restore black communities didn t end when vermont senator bernie sanders lost to hillary clinton in the democratic primary he opposed hillary clinton and the democratic establishment then because he knew that they didn t represent the minority communities he engaged in politics to fight for after the leak of internal dnc emails carter is convinced that the democratic party rigged the primary against his candidate and that hillary clinton s democratic party has no intention of changing the policies that led to the destruction of the communities he s working to improve bruce carter still believes that hillary clinton is the poster child for the kind of cronyism corruption and evil that the bernie revolution was built to overthrow he doesn t believe hillary clinton when she labels donald trump and his supporters as racists because he knows she falsely labeled her opponents in the primary as sexist bernie bros carter s preparing to take the experience knowledge and contacts his group built during the primary to campaign against hillary clinton and for donald trump and other republicans in battleground states across the country bruce carter and black men for bernie are at war with the democratic establishment whom he says pander for votes but haven t delivered meaningful results to minority communities for decades carter became politically active to support bernie sanders who taught him how the establishment s only real constituency was the donor class when he paired that knowledge with what he knew about the decline in the black and minority neighborhoods he loves he realized democratic politicians and the media had been lying bernie inspired us to disrupt the status quo because it only works for the elites and not regular people who are struggling carter told breitbart news if black communities vote for hillary clinton and democrats in november nothing will change because democrats will continue to believe they don t have to do anything to earn our votes carter became one of the most prominent and recognizable supporters of the sanders campaign by traveling the country in a tour bus and fleet of vehicles wrapped with the black men for bernie logo and a picture of sanders being arrested during the civil rights movement his online videos received millions of views and featured celebrities like mark ruffalo and ice cream makers ben and jerry this guy knows what he s doing when it comes to rallying the troops to get behind his candidate watch carter organizing supporters for bernie before hillary cheated him out of the chance to become the democrat party candidate carter told breitbart news that his greatest awakening of how democrats exploit minority voters came when he learned from the washington post that the democratic party spends less than 2 percent of its campaign resources with minority owned companies even though they get better than 90 percent of the black vote it is a practice that carter calls political slavery now black men for bernie are rebranding and again planning to tour the country with an emphasis on battleground states carter says he s going to organize black and minority communities to vote against hillary clinton and the democratic establishment donald trump is a business man and a real estate mogul who could provide knowledge and resources to transform urban communities through the development of minority owned businesses carter said with this tour we re going to show mr trump and republicans that the black and minority communities are ready to work with anyone willing to work with us to build opportunities in businesses employment and housing we don t want welfare we need opportunity carter had a lot of ideas when asked about what trump could do to help him win black votes away from the democrats when donald trump tells black people what do you have to lose by voting for me he s getting close to a message that will work but it s not quite there yet carter explained we re going to go back to these communities in florida ohio pennsylvania michigan and across the country to lead people to the facts about the clintons and democrats failures with our struggling communities carter said for carter and the black men for bernie they can t unlearn what they discovered about hillary during the primary we know that hillary clinton is for hillary clinton and the rich donors of the clinton foundation carter said we know that bill and hillary did major damage to our communities the last time they were in the white house we know they will lie about their opponents by unfairly labeling them sexists and racists and radicals donald trump isn t a typical politician and he isn t beholden to the same old political powers carter continued we want to earn our seat at the table in his administration and i think he and the republicans are smart enough to realize that when we deliver them a historic number of minority votes they better do a better job than the democrats have done or they re never going to get an opportunity like this again for entire story breitbart news",
         "Unknown_Location",
         "Unknown_Source",
         0
        ],
        [
         "mn why did police stand down grotesque video shows male hillary supporter punching elderly trump supporter several times other trump supporters spit on assaulted and robbed",
         "republican presidential nominee donald trump was in minneapolis friday night for a fundraiser held at the city s convention city that was besieged outside by violent liberal protesters trump supporters attending the rally were punched spit on and robbed while trump s secret service motorcade was blocked by protesters who jumped on one of the vehicles update protests at donald trump event turn unruly late police no arrests minor damage https t co t6ft3a7dk1 pic twitter com rbjlbzk024 star tribune @startribune august 20 2016now this the trump supporters said the police stood back at they were assaulted robbed and spit on no arrests were made pj media reported a week ago in minneapolis republican donors attending a trump fundraiser were assaulted robbed and spat upon by a violent leftist mob as they were leaving the event attendees say that even though there was a strong law enforcement presence at the convention center downtown where the fundraiser was held they were not afforded any police protection when coming to and leaving the event and even more incredibly there were no arrests many people who attended the event told fox 9 that police seemed to back down from intervening but the minneapolis police department insists there was no stand down order gp",
         "Unknown_Location",
         "Unknown_Source",
         0
        ],
        [
         "actor tim allen hillary isn t capable of being funny bill clinton creepily checked out his wife when they met video",
         "megyn what about tim allen you re one of the few conservatives in hollywood you re out of the closet as a conservative who do you like for president megyn what about hillary clinton tim allen all my staff we asked the girl writers the females the women they said it s about time so one of us said if it was sarah palin would it still be about time tim allen did she hillary actually bark like a dog did i actually see that she doesn t have a skill set for jokes she s just not her husband who i ve met and is actually kind of a neat guy although he was eyeballing my wife the entire time we were talking i think this guy he really was and he kept looking at me but he kept looking at her heh heh how you doing it s nice talking to ya i really love your show",
         "Unknown_Location",
         "Unknown_Source",
         0
        ],
        [
         "hill arious video hillary takes break from seizures coughing fits 3 naps a day to slam trump and alt right",
         "this video brilliantly dispels every one of hillary s false claims and throws them right back in her face absolutely brilliant",
         "Unknown_Location",
         "Unknown_Source",
         0
        ],
        [
         "eric trump says political correctness motivated his dad to run renaming of christmas tree forcing firemen to remove american flag from trucks",
         "millennial propaganda tool for the democrat party buzzfeed news publication attempted to do a hit piece on eric trump they claim that when eric was giving his list of reasons his father chose to run for office which included the insanity of the political correctness we see today that he incorrectly stated the white house christmas tree is called a holiday tree but did he really misspeak buzzfeed never addressed the core of eric trump s comments which were really about the ruin of our nation over political correctness instead buzzfeed chose to dissect one small part of what eric trump said about the white house christmas tree which as it turns out was actually mostly accurate the white house christmas tree was renamed the holiday tree in the 1990 s republican house speaker denny hastert changed the name back to christmas tree in 2005 this is the garbage young americans are reading every day in their social media newsfeed it s one of the primary reasons we see so many young people walking around in a stupor with bernie sanders or hillary bumper stickers on their prius from buzzfeed eric trump listing off reasons his father is running for president said in an interview this week that one of the motivations was the renaming of the white house christmas tree to holiday tree the tree placed on the white house lawn during the holiday season is still called the national christmas tree he opens up the paper each morning and sees our nation s leaders giving a hundred billion dollars to iran or he opens the paper and some new school district has just eliminated the ability for its students to say the pledge of allegiance or some fire department in some town is ordered by the mayor to no longer fly the american flag on the back of a fire truck trump told james robison in an interview posted this week buzzfeed never questioned the validity of the ransom money our president covertly paid to iran they never questioned whether or not schools and local governments are attempting to eliminate the pledge of allegiance so as not to offend immigrants or refugees it s funny how they never suggested the story about the firemen being forced to remove the american flag from the back of their trucks was not 100 accurate nope just the accuracy of the christmas tree comment or he sees the tree on the white house lawn has been renamed holiday tree instead of christmas tree continued trump i could go on and on for hours those are the very things that made my father run and those are the very things he cares about chain emails that began when president obama took office falsely claimed that tree had been renamed a tree on capitol hill was briefly called a holiday tree in the 1990s but the name was changed in 2005 at the direction of then speaker dennis hastert watch eric trump s awesome speech at the rnc where he talks about why his dad is running and why he s the most qualified man in america to step in and assume the office of president of the united states",
         "Unknown_Location",
         "Unknown_Source",
         0
        ],
        [
         "offending the globalists teen kicked out of un building for wearing bill clinton rape shirt video",
         "freedom of speech is not a universally accepted right which is just one more reason the us has no business funding the globalist un and their activities when you re visiting the un building in nyc it might be a good idea not to offend the globalists or anyone in a leadership role with the globalists https youtu be yvlrss1h4g8the bill clinton rape shirt can be purchased at infowars at this link we are in no way affiliated or benefitting from the sale of this t shirt we just thought you might like to know where you can pick one up and spread the truth about the sexual predator husband hillary has enabled for decades",
         "Unknown_Location",
         "Unknown_Source",
         0
        ],
        [
         "cnn cancels popular dr drew show after he tells viewers he s gravely concerned about hillary s health video",
         "another stunning cover up for #unfit hillary by her most committed media cheerleader one week ago board certified medicine specialist tv personality and cnn employee dr drew pinsky broke the mold of conformity when he said that he is gravely concerned about presidential candidate hillary clinton s health pointing out that treatment she is receiving could be the result of her bizarre behaviors appearing on kabc s mcintyre in the morning pinsky said he and his colleague dr robert huizenga became gravely concerned not just about her health but her health care after analyzing what medical records on hillary had been released pinsky pointed out that after clinton fainted and fell in late 2012 she suffered from a transverse sinus thrombosis an exceedingly rare clot that virtually guarantees somebody has something wrong with their coagulation system what s wrong with her coagulation system has that been evaluated asked dr drew pinsky described the situation as bizarre and said that hillary s medical condition was dangerous and concerning dr drew also went on to add that it was a sign of brain damage when hillary had to wear prism glasses after her fall just as stunning as pinsky s assessment which promptly went viral and led to the immediate takedown of the original interview webpage by kabc am radio was that it came from an employee of hln which is part of the pro clinton cnn network as such it is probably not surprising that earlier today just one week later cnn executive vice president ken jautz announced thursday that dr drew and i have mutually agreed to air the final episode of his show on september 22 zero hedge",
         "Unknown_Location",
         "Unknown_Source",
         0
        ],
        [
         "#crookedhillary uses twitter to accuse trump of being a racist forgets to mention 20k in donations from kkk in 2016 video",
         "hillary clinton is bending over backwards to convince american voters that donald trump is a racist because a white supremacist and a kkk member said they plan to vote for him who eulogized kkk leader mentor and close friend robert c byrd and about the 20 000 donation she accepted from the kkk just this year here s a tweet from the woman who refuses to speak to reporters after being caught in yet another scandal this time its been revealed that hillary and her grifter and serial rapist husband have been selling our nation for favors through their pay to play slush fund the clinton foundation criminal piggy bank oh yeah about that tweet it s not a coincidence that white supremacists proudly support trump pic twitter com 3ox4i1gskr hillary clinton @hillaryclinton august 25 2016hillary clinton s presidential campaign has received more than 20 000 in donations contributed by members of the ku klux klan a prominent member of the hate group said monday mr quigg the leader of the klan s california chapter announced last month that he had abandoned supporting republican presidential front runner donald trump in lieu of backing his likely democratic opponent the klansman claims that members have raised more than 20 000 for mrs clinton and have donated it anonymously to her campaign clinton campaign spokesman josh schwerin disputed the grand dragon s claim and said the former secretary of state has rejected the group s endorsement washington timeswatch hillary s praise for kkk leader senator robert c byrd",
         "Unknown_Location",
         "Unknown_Source",
         0
        ],
        [
         "when #blacklivesmatter golf take priority over our vets 76 yr old vet kills himself in va parking lot after er allegedly denied appointment with doctor for mental problems",
         "there aren t too many stories that are more shameful or disturbing than this one what has been done to fix the horrible quality of care our veterans have been receiving during obama s eight years in office what would the va look like today if obama spent as much time trying to fix this broken health care system for our veterans as he spent trying to improve his golf swing or organizing with black lives matter terrorists if anyone thinks hillary would do a better job with our vets and their health care they only need to do is look at benghazi to see how much she cares about members of our us military hillary continues to brag about her failed efforts to inflict a similar government run health care system on every american a veteran took his own life in the parking lot of a va hospital in long island new york over the weekend after he was allegedly denied an appointment with an er doctor for his mental problems peter kaisen 76 of islip was pronounced dead from a self inflicted gunshot wound outside building 92 at the northport veterans affairs medical center on sunday according to a note posted on a funeral home s website kaisen was married had children and grandchildren the suffolk county police department has confirmed that kaisen had been a patient at the va hospital but said nothing about a possible motive behind the suicide however two hospital employees talking anonymously to the new york times which broke the story revealed that kaisen had been frustrated that he could not see a doctor in the emergency room where he went to seek help related to his mental health one of the sources told the paper that the 76 year old veteran shot himself inside his car after being denied service in the er the source wondered why kaisen had not been sent to the hospital s mental health center or put in contact with a psychologist by phone someone dropped the ball the unnamed hospital staffer told the times they should not have turned him away the va medical system which serves nine million servicemen has been under scrutiny since 2014 when it was revealed in a scathing report from the inspector general s office that about 1 700 veterans at a phoenix hospital faced chronic wait times and were at risk of being lost or forgotten the va later confirmed that at least 35 veterans died while awaiting treatment in phoenix va officials in phoenix were also accused of falsifying records to cover up the long wait times for medical appointments entire story daily mail",
         "Unknown_Location",
         "Unknown_Source",
         0
        ]
       ],
       "datasetInfos": [],
       "dbfsResultPath": null,
       "isJsonSchema": true,
       "metadata": {},
       "overflow": false,
       "plotOptions": {
        "customPlotOptions": {},
        "displayType": "table",
        "pivotAggregation": null,
        "pivotColumns": null,
        "xColumns": null,
        "yColumns": null
       },
       "removedWidgets": [],
       "schema": [
        {
         "metadata": "{}",
         "name": "title",
         "type": "\"string\""
        },
        {
         "metadata": "{}",
         "name": "text",
         "type": "\"string\""
        },
        {
         "metadata": "{}",
         "name": "location",
         "type": "\"string\""
        },
        {
         "metadata": "{}",
         "name": "news_source",
         "type": "\"string\""
        },
        {
         "metadata": "{}",
         "name": "label",
         "type": "\"integer\""
        }
       ],
       "type": "table"
      }
     },
     "output_type": "display_data"
    }
   ],
   "source": [
    "display(df.limit(10))"
   ]
  },
  {
   "cell_type": "code",
   "execution_count": 0,
   "metadata": {
    "application/vnd.databricks.v1+cell": {
     "cellMetadata": {
      "byteLimit": 2048000,
      "rowLimit": 10000
     },
     "inputWidgets": {},
     "nuid": "88ac7c0f-54cd-40a6-8f78-828f560113f7",
     "showTitle": false,
     "tableResultSettingsMap": {},
     "title": ""
    }
   },
   "outputs": [
    {
     "output_type": "stream",
     "name": "stdout",
     "output_type": "stream",
     "text": [
      "Number of records by label:\n+-----+-----+\n|label|count|\n+-----+-----+\n|    0|23489|\n|    1|21417|\n+-----+-----+\n\nOut[80]: DataFrame[label: int, count: bigint]"
     ]
    }
   ],
   "source": [
    "df_label = df.groupBy(\"label\").count()\n",
    "print(\"Number of records by label:\")\n",
    "df_label.show()\n",
    "df_label.unpersist()"
   ]
  },
  {
   "cell_type": "code",
   "execution_count": 0,
   "metadata": {
    "application/vnd.databricks.v1+cell": {
     "cellMetadata": {
      "byteLimit": 2048000,
      "rowLimit": 10000
     },
     "inputWidgets": {},
     "nuid": "23d2bfef-d2f7-4c78-a6ed-af81fa2a9a17",
     "showTitle": false,
     "tableResultSettingsMap": {},
     "title": ""
    }
   },
   "outputs": [
    {
     "output_type": "stream",
     "name": "stdout",
     "output_type": "stream",
     "text": [
      "+--------------------+--------------------+----------------+--------------+-----+\n|               title|                text|        location|   news_source|label|\n+--------------------+--------------------+----------------+--------------+-----+\n|abc news emails s...|this woman should...|Unknown_Location|Unknown_Source|    0|\n|black men for ber...|apparently using ...|Unknown_Location|Unknown_Source|    0|\n|mn why did police...|republican presid...|Unknown_Location|Unknown_Source|    0|\n|actor tim allen h...|megyn what about ...|Unknown_Location|Unknown_Source|    0|\n|hill arious video...|this video brilli...|Unknown_Location|Unknown_Source|    0|\n|eric trump says p...|millennial propag...|Unknown_Location|Unknown_Source|    0|\n|offending the glo...|freedom of speech...|Unknown_Location|Unknown_Source|    0|\n|cnn cancels popul...|another stunning ...|Unknown_Location|Unknown_Source|    0|\n|#crookedhillary u...|hillary clinton i...|Unknown_Location|Unknown_Source|    0|\n|when #blacklivesm...|there aren t too ...|Unknown_Location|Unknown_Source|    0|\n|unrecognizable af...|someone should fi...|Unknown_Location|Unknown_Source|    0|\n|incoming freshmen...|wow the universit...|Unknown_Location|Unknown_Source|    0|\n|trumpocrats speak...|unless the democr...|Unknown_Location|Unknown_Source|    0|\n|watch harry reid ...|harry reid s disr...|Unknown_Location|Unknown_Source|    0|\n|why did hillary u...|what a role model...|Unknown_Location|Unknown_Source|    0|\n|taxpayer funded c...|when the majority...|Unknown_Location|Unknown_Source|    0|\n|comrades in liber...|university of mic...|Unknown_Location|Unknown_Source|    0|\n|don t expect gove...|after obama was e...|Unknown_Location|Unknown_Source|    0|\n|hollywood libs ra...|the democratic pr...|Unknown_Location|Unknown_Source|    0|\n|hillary worker fr...|this video proves...|Unknown_Location|Unknown_Source|    0|\n+--------------------+--------------------+----------------+--------------+-----+\nonly showing top 20 rows\n\n"
     ]
    }
   ],
   "source": [
    "df.show()"
   ]
  },
  {
   "cell_type": "markdown",
   "metadata": {
    "application/vnd.databricks.v1+cell": {
     "cellMetadata": {},
     "inputWidgets": {},
     "nuid": "8bbdc4e8-bafd-4ac5-8797-69f10ee9d36b",
     "showTitle": false,
     "tableResultSettingsMap": {},
     "title": ""
    }
   },
   "source": [
    "## Split data for training"
   ]
  },
  {
   "cell_type": "code",
   "execution_count": 0,
   "metadata": {
    "application/vnd.databricks.v1+cell": {
     "cellMetadata": {
      "byteLimit": 2048000,
      "rowLimit": 10000
     },
     "inputWidgets": {},
     "nuid": "5f26df3d-d9a9-4629-8c13-9584831da44e",
     "showTitle": false,
     "tableResultSettingsMap": {},
     "title": ""
    }
   },
   "outputs": [],
   "source": [
    "train_data, test_data = df.randomSplit([0.8, 0.2], seed=42)"
   ]
  },
  {
   "cell_type": "markdown",
   "metadata": {
    "application/vnd.databricks.v1+cell": {
     "cellMetadata": {},
     "inputWidgets": {},
     "nuid": "62315313-a430-4787-82e4-9f2957a254b1",
     "showTitle": false,
     "tableResultSettingsMap": {},
     "title": ""
    }
   },
   "source": [
    "## Impute nulls"
   ]
  },
  {
   "cell_type": "code",
   "execution_count": 0,
   "metadata": {
    "application/vnd.databricks.v1+cell": {
     "cellMetadata": {
      "byteLimit": 2048000,
      "rowLimit": 10000
     },
     "inputWidgets": {},
     "nuid": "76701264-29ba-4b16-9b05-a99695951f32",
     "showTitle": false,
     "tableResultSettingsMap": {},
     "title": ""
    }
   },
   "outputs": [
    {
     "output_type": "stream",
     "name": "stdout",
     "output_type": "stream",
     "text": [
      "Original train_data schema:\nroot\n |-- title: string (nullable = true)\n |-- text: string (nullable = true)\n |-- location: string (nullable = true)\n |-- news_source: string (nullable = true)\n |-- label: integer (nullable = true)\n\nOriginal train_data null text count:\n+--------------------+----+----------------+--------------+-----+\n|               title|text|        location|   news_source|label|\n+--------------------+----+----------------+--------------+-----+\n|                    |null|Unknown_Location|Unknown_Source|    0|\n|                    |null|Unknown_Location|Unknown_Source|    0|\n|ex gop congressma...|null|Unknown_Location|Unknown_Source|    0|\n|watch democratic ...|null|Unknown_Location|Unknown_Source|    0|\n+--------------------+----+----------------+--------------+-----+\n\nImputing nulls in 'text' and 'title' columns for train_data...\nImputing nulls in 'text' and 'title' columns for test_data...\n"
     ]
    }
   ],
   "source": [
    "# Handle Nulls by imputing with empty strings\n",
    "\n",
    "print(\"Original train_data schema:\")\n",
    "train_data.printSchema()\n",
    "print(\"Original train_data null text count:\")\n",
    "train_data.filter(col(\"text\").isNull()).show()\n",
    "\n",
    "\n",
    "print(\"Imputing nulls in 'text' and 'title' columns for train_data...\")\n",
    "train_data = train_data.na.fill({\n",
    "    \"text\": \"\",  \n",
    "    \"title\": \"\"  \n",
    "})\n",
    "\n",
    "print(\"Imputing nulls in 'text' and 'title' columns for test_data...\")\n",
    "test_data = test_data.na.fill({\n",
    "    \"text\": \"\",\n",
    "    \"title\": \"\"\n",
    "})\n"
   ]
  },
  {
   "cell_type": "code",
   "execution_count": 0,
   "metadata": {
    "application/vnd.databricks.v1+cell": {
     "cellMetadata": {
      "byteLimit": 2048000,
      "rowLimit": 10000
     },
     "inputWidgets": {},
     "nuid": "61bbecc8-8278-452e-816a-b3fb3c91b5d7",
     "showTitle": false,
     "tableResultSettingsMap": {},
     "title": ""
    }
   },
   "outputs": [
    {
     "output_type": "stream",
     "name": "stdout",
     "output_type": "stream",
     "text": [
      "Null counts in train_data:\n+---------------+----------------+\n|null_text_train|null_title_train|\n+---------------+----------------+\n|              0|               0|\n+---------------+----------------+\n\nNull counts in test_data:\n+--------------+---------------+\n|null_text_test|null_title_test|\n+--------------+---------------+\n|             0|              0|\n+--------------+---------------+\n\n"
     ]
    }
   ],
   "source": [
    "print(\"Null counts in train_data:\")\n",
    "train_data.select(\n",
    "    count(when(col(\"text\").isNull(), \"text\")).alias(\"null_text_train\"),\n",
    "    count(when(col(\"title\").isNull(), \"title\")).alias(\"null_title_train\")\n",
    ").show()\n",
    "\n",
    "print(\"Null counts in test_data:\")\n",
    "test_data.select(\n",
    "    count(when(col(\"text\").isNull(), \"text\")).alias(\"null_text_test\"),\n",
    "    count(when(col(\"title\").isNull(), \"title\")).alias(\"null_title_test\")\n",
    ").show()"
   ]
  },
  {
   "cell_type": "markdown",
   "metadata": {
    "application/vnd.databricks.v1+cell": {
     "cellMetadata": {},
     "inputWidgets": {},
     "nuid": "7f2dd4ca-9507-445c-a87a-110138594873",
     "showTitle": false,
     "tableResultSettingsMap": {},
     "title": ""
    }
   },
   "source": [
    "## TF-IDF Model "
   ]
  },
  {
   "cell_type": "markdown",
   "metadata": {
    "application/vnd.databricks.v1+cell": {
     "cellMetadata": {},
     "inputWidgets": {},
     "nuid": "069dadf9-88f5-4a63-8c5e-e23337ef8ffb",
     "showTitle": false,
     "tableResultSettingsMap": {},
     "title": ""
    }
   },
   "source": [
    "### Model with location, news_source, text, title"
   ]
  },
  {
   "cell_type": "markdown",
   "metadata": {
    "application/vnd.databricks.v1+cell": {
     "cellMetadata": {},
     "inputWidgets": {},
     "nuid": "e9a8865b-dee9-4de7-9d64-23b975175328",
     "showTitle": false,
     "tableResultSettingsMap": {},
     "title": ""
    }
   },
   "source": [
    "##### Stages for Categorical Features ('location', 'news_source')"
   ]
  },
  {
   "cell_type": "code",
   "execution_count": 0,
   "metadata": {
    "application/vnd.databricks.v1+cell": {
     "cellMetadata": {
      "byteLimit": 2048000,
      "rowLimit": 10000
     },
     "inputWidgets": {},
     "nuid": "59ba1f64-03f4-4fdf-ae09-3d3b00c01a31",
     "showTitle": false,
     "tableResultSettingsMap": {},
     "title": ""
    }
   },
   "outputs": [],
   "source": [
    "indexer_location = StringIndexer(\n",
    "    inputCol=\"location\",\n",
    "    outputCol=\"location_index\",\n",
    "    handleInvalid=\"keep\",  # to handle unseen labels in test data\n",
    "    stringOrderType=\"frequencyDesc\"\n",
    ")\n",
    "\n",
    "# StringIndexer for 'news_source'\n",
    "indexer_news_source = StringIndexer(\n",
    "    inputCol=\"news_source\",\n",
    "    outputCol=\"news_source_index\",\n",
    "    handleInvalid=\"keep\",\n",
    "    stringOrderType=\"frequencyDesc\"\n",
    ")\n",
    "\n",
    "# OneHotEncoder for the indexed categorical columns\n",
    "# Takes the output of both StringIndexers\n",
    "encoder_categorical = OneHotEncoder(\n",
    "    inputCols=[\"location_index\", \"news_source_index\"],\n",
    "    outputCols=[\"location_vec\", \"news_source_vec\"],\n",
    "    dropLast=False  \n",
    ")"
   ]
  },
  {
   "cell_type": "markdown",
   "metadata": {
    "application/vnd.databricks.v1+cell": {
     "cellMetadata": {},
     "inputWidgets": {},
     "nuid": "3b014d73-4195-4837-b946-1bc98b1cffe2",
     "showTitle": false,
     "tableResultSettingsMap": {},
     "title": ""
    }
   },
   "source": [
    "##### Stages for 'text' Feature"
   ]
  },
  {
   "cell_type": "code",
   "execution_count": 0,
   "metadata": {
    "application/vnd.databricks.v1+cell": {
     "cellMetadata": {
      "byteLimit": 2048000,
      "rowLimit": 10000
     },
     "inputWidgets": {},
     "nuid": "25807530-967e-4233-900b-235f892b2431",
     "showTitle": false,
     "tableResultSettingsMap": {},
     "title": ""
    }
   },
   "outputs": [],
   "source": [
    "# Tokenizer for 'text'\n",
    "text_tokenizer = Tokenizer(inputCol=\"text\", outputCol=\"text_words\")\n",
    "\n",
    "# StopWordsRemover for 'text_words'\n",
    "text_stopwords_remover = StopWordsRemover(inputCol=\"text_words\", outputCol=\"filtered_text_words\")\n",
    "\n",
    "# HashingTF for 'filtered_text_words'\n",
    "text_hashing_tf = HashingTF(\n",
    "    inputCol=\"filtered_text_words\",\n",
    "    outputCol=\"text_tf_features\",\n",
    "    numFeatures=20000  # Number of features for the main text\n",
    ")\n",
    "\n",
    "# IDF for 'text_tf_features'\n",
    "text_idf = IDF(inputCol=\"text_tf_features\", outputCol=\"text_tfidf_features\")"
   ]
  },
  {
   "cell_type": "markdown",
   "metadata": {
    "application/vnd.databricks.v1+cell": {
     "cellMetadata": {
      "byteLimit": 2048000,
      "rowLimit": 10000
     },
     "inputWidgets": {},
     "nuid": "2376350e-4aa4-464a-b200-298515763d1f",
     "showTitle": false,
     "tableResultSettingsMap": {},
     "title": ""
    }
   },
   "source": [
    "##### Stages for 'title' Feature"
   ]
  },
  {
   "cell_type": "code",
   "execution_count": 0,
   "metadata": {
    "application/vnd.databricks.v1+cell": {
     "cellMetadata": {
      "byteLimit": 2048000,
      "rowLimit": 10000
     },
     "inputWidgets": {},
     "nuid": "0046ad98-1da4-46ac-972c-527140c13d67",
     "showTitle": false,
     "tableResultSettingsMap": {},
     "title": ""
    }
   },
   "outputs": [],
   "source": [
    "##### Stages for 'title' Feature\n",
    "\n",
    "# Tokenizer for 'title'\n",
    "title_tokenizer = Tokenizer(inputCol=\"title\", outputCol=\"title_words\")\n",
    "\n",
    "# StopWordsRemover for 'title_words'\n",
    "title_stopwords_remover = StopWordsRemover(inputCol=\"title_words\", outputCol=\"filtered_title_words\")\n",
    "\n",
    "# HashingTF for 'filtered_title_words'\n",
    "# Titles are usually shorter, so you might use fewer features, or the same as text.\n",
    "title_hashing_tf = HashingTF(\n",
    "    inputCol=\"filtered_title_words\",\n",
    "    outputCol=\"title_tf_features\",\n",
    "    numFeatures=10000  \n",
    ")\n",
    "\n",
    "# IDF for 'title_tf_features'\n",
    "title_idf = IDF(inputCol=\"title_tf_features\", outputCol=\"title_tfidf_features\")"
   ]
  },
  {
   "cell_type": "markdown",
   "metadata": {
    "application/vnd.databricks.v1+cell": {
     "cellMetadata": {},
     "inputWidgets": {},
     "nuid": "635867a7-8119-4cde-b8b8-97cebc64dabf",
     "showTitle": false,
     "tableResultSettingsMap": {},
     "title": ""
    }
   },
   "source": [
    "#####  Assemble all generated features into a single feature vector \n"
   ]
  },
  {
   "cell_type": "code",
   "execution_count": 0,
   "metadata": {
    "application/vnd.databricks.v1+cell": {
     "cellMetadata": {
      "byteLimit": 2048000,
      "rowLimit": 10000
     },
     "inputWidgets": {},
     "nuid": "77fbea31-42f1-4a34-9dcc-8c4e1e484590",
     "showTitle": false,
     "tableResultSettingsMap": {},
     "title": ""
    }
   },
   "outputs": [],
   "source": [
    "feature_assembler = VectorAssembler(\n",
    "    inputCols=[\n",
    "        \"text_tfidf_features\",\n",
    "        \"title_tfidf_features\",\n",
    "        \"location_vec\",\n",
    "        \"news_source_vec\"\n",
    "    ],\n",
    "    outputCol=\"features\"\n",
    ")"
   ]
  },
  {
   "cell_type": "markdown",
   "metadata": {
    "application/vnd.databricks.v1+cell": {
     "cellMetadata": {},
     "inputWidgets": {},
     "nuid": "4862b0ec-4fd9-4835-b8b6-c53f9e2799f0",
     "showTitle": false,
     "tableResultSettingsMap": {},
     "title": ""
    }
   },
   "source": [
    "**Model with location, news source, title, text**"
   ]
  },
  {
   "cell_type": "code",
   "execution_count": 0,
   "metadata": {
    "application/vnd.databricks.v1+cell": {
     "cellMetadata": {
      "byteLimit": 2048000,
      "rowLimit": 10000
     },
     "inputWidgets": {},
     "nuid": "0b9e09a5-653e-48fa-b07c-7335b88bc06f",
     "showTitle": false,
     "tableResultSettingsMap": {},
     "title": ""
    }
   },
   "outputs": [],
   "source": [
    "nb_model = NaiveBayes(\n",
    "    labelCol=\"label\",\n",
    "    featuresCol=\"features\",\n",
    "    modelType=\"multinomial\" \n",
    ")"
   ]
  },
  {
   "cell_type": "code",
   "execution_count": 0,
   "metadata": {
    "application/vnd.databricks.v1+cell": {
     "cellMetadata": {
      "byteLimit": 2048000,
      "rowLimit": 10000
     },
     "inputWidgets": {},
     "nuid": "2461588a-27ae-4c2c-bc69-e6f472440bca",
     "showTitle": false,
     "tableResultSettingsMap": {},
     "title": ""
    }
   },
   "outputs": [],
   "source": [
    "pipeline = Pipeline(stages=[\n",
    "    # Categorical feature processing\n",
    "    indexer_location,\n",
    "    indexer_news_source,\n",
    "    encoder_categorical,\n",
    "    # Text (main body) processing\n",
    "    text_tokenizer,\n",
    "    text_stopwords_remover,\n",
    "    text_hashing_tf,\n",
    "    text_idf,\n",
    "    # Title processing\n",
    "    title_tokenizer,\n",
    "    title_stopwords_remover,\n",
    "    title_hashing_tf,\n",
    "    title_idf,\n",
    "    # Assemble all features\n",
    "    feature_assembler,\n",
    "    # Add the Naive Bayes model estimator\n",
    "    nb_model \n",
    "])"
   ]
  },
  {
   "cell_type": "code",
   "execution_count": 0,
   "metadata": {
    "application/vnd.databricks.v1+cell": {
     "cellMetadata": {
      "byteLimit": 2048000,
      "rowLimit": 10000
     },
     "inputWidgets": {},
     "nuid": "2c70f08d-ad11-4eba-bb34-062b43938e56",
     "showTitle": false,
     "tableResultSettingsMap": {},
     "title": ""
    }
   },
   "outputs": [],
   "source": [
    "# Fitting the model\n",
    "pipeline_nb_fitted_all_features = pipeline.fit(train_data)"
   ]
  },
  {
   "cell_type": "code",
   "execution_count": 0,
   "metadata": {
    "application/vnd.databricks.v1+cell": {
     "cellMetadata": {
      "byteLimit": 2048000,
      "rowLimit": 10000
     },
     "inputWidgets": {},
     "nuid": "c8f014de-9b58-40bb-ae94-f475a3ac8d3d",
     "showTitle": false,
     "tableResultSettingsMap": {},
     "title": ""
    }
   },
   "outputs": [],
   "source": [
    "# Making predictions on test data \n",
    "predictions_df_nb_all_features = pipeline_nb_fitted_all_features.transform(test_data)"
   ]
  },
  {
   "cell_type": "code",
   "execution_count": 0,
   "metadata": {
    "application/vnd.databricks.v1+cell": {
     "cellMetadata": {
      "byteLimit": 2048000,
      "rowLimit": 10000
     },
     "inputWidgets": {},
     "nuid": "007f0df2-2603-4ba6-a92a-15f01dbbfad5",
     "showTitle": false,
     "tableResultSettingsMap": {},
     "title": ""
    }
   },
   "outputs": [
    {
     "output_type": "stream",
     "name": "stdout",
     "output_type": "stream",
     "text": [
      "\nSample of predictions (showing original label, text, and prediction details):\n+--------------------------------------------------+-----+-----------------------------------------+-----------------------------+----------+\n|                                              text|label|                            rawPrediction|                  probability|prediction|\n+--------------------------------------------------+-----+-----------------------------------------+-----------------------------+----------+\n|george soros funded obama approved domestic ter...|    0| [-3363.3579644299307,-3664.536122912614]|[1.0,1.5848483104081608E-131]|       0.0|\n|we re thinking it s having the opposite effect ...|    0| [-1753.771759683352,-1875.7431396655722]|  [1.0,1.067831489224507E-53]|       0.0|\n|sanctioned domestic terrorists taking direction...|    0|  [-7212.811887630382,-7649.156250140638]| [1.0,3.148119084979175E-190]|       0.0|\n|disney has officially begun to push a gay agend...|    0|  [-9474.127147755613,-10209.72334767384]|             [1.0,3.425E-320]|       0.0|\n|it s just cleaner that way you know keeping any...|    0|[-1016.6789657861586,-1109.3744360315636]|  [1.0,5.531829360061495E-41]|       0.0|\n|this is insane obama uses a gas guzzling plane ...|    0|  [-5410.253209112669,-5583.872321192225]| [1.0,3.9644018570859995E-76]|       0.0|\n|why is the nfl ignoring this situation are they...|    0|  [-6310.266857682601,-6764.485400006333]| [1.0,5.437427641895274E-198]|       0.0|\n|don t worry the us government will rely on the ...|    0|  [-5224.076335795675,-5392.221864556672]|  [1.0,9.447669719446204E-74]|       0.0|\n|the spoiled brats protesting on colleges campus...|    0|[-1737.0659372511868,-1904.5021057377755]| [1.0,1.9204188282738096E-73]|       0.0|\n|the big question this year for the white house ...|    0|[-18712.306305447564,-19758.128327455353]|                    [1.0,0.0]|       0.0|\n+--------------------------------------------------+-----+-----------------------------------------+-----------------------------+----------+\nonly showing top 10 rows\n\n"
     ]
    }
   ],
   "source": [
    "print(\"\\nSample of predictions (showing original label, text, and prediction details):\")\n",
    "predictions_df_nb_all_features.select(\"text\", \"label\", \"rawPrediction\", \"probability\", \"prediction\").show(10, truncate=50)"
   ]
  },
  {
   "cell_type": "code",
   "execution_count": 0,
   "metadata": {
    "application/vnd.databricks.v1+cell": {
     "cellMetadata": {
      "byteLimit": 2048000,
      "rowLimit": 10000
     },
     "inputWidgets": {},
     "nuid": "24fe8c89-894c-405e-9770-73f0fe27d6dc",
     "showTitle": false,
     "tableResultSettingsMap": {},
     "title": ""
    }
   },
   "outputs": [
    {
     "output_type": "stream",
     "name": "stdout",
     "output_type": "stream",
     "text": [
      "\nEvaluating model performance for 'Fake vs. True' classification...\nAccuracy = 0.9441\nF1 Score = 0.9441\nWeighted Precision = 0.9445\nWeighted Recall = 0.9441\nArea Under ROC (AUC ROC) = 0.5385\nArea Under Precision-Recall Curve (AUC PR) = 0.5146\n"
     ]
    }
   ],
   "source": [
    "print(\"\\nEvaluating model performance for 'Fake vs. True' classification...\")\n",
    "\n",
    "# --- Metrics using MulticlassClassificationEvaluator ---\n",
    "# Accuracy\n",
    "accuracy_evaluator = MulticlassClassificationEvaluator(labelCol=\"label\", predictionCol=\"prediction\", metricName=\"accuracy\")\n",
    "accuracy = accuracy_evaluator.evaluate(predictions_df_nb_all_features)\n",
    "print(f\"Accuracy = {accuracy:.4f}\")\n",
    "\n",
    "# F1-Score\n",
    "f1_evaluator = MulticlassClassificationEvaluator(labelCol=\"label\", predictionCol=\"prediction\", metricName=\"f1\")\n",
    "f1_score = f1_evaluator.evaluate(predictions_df_nb_all_features)\n",
    "print(f\"F1 Score = {f1_score:.4f}\")\n",
    "\n",
    "# Weighted Precision\n",
    "precision_evaluator = MulticlassClassificationEvaluator(labelCol=\"label\", predictionCol=\"prediction\", metricName=\"weightedPrecision\")\n",
    "weighted_precision = precision_evaluator.evaluate(predictions_df_nb_all_features)\n",
    "print(f\"Weighted Precision = {weighted_precision:.4f}\")\n",
    "\n",
    "# Weighted Recall\n",
    "recall_evaluator = MulticlassClassificationEvaluator(labelCol=\"label\", predictionCol=\"prediction\", metricName=\"weightedRecall\")\n",
    "weighted_recall = recall_evaluator.evaluate(predictions_df_nb_all_features)\n",
    "print(f\"Weighted Recall = {weighted_recall:.4f}\")\n",
    "\n",
    "# --- Metrics using BinaryClassificationEvaluator (Specific to Binary) ---\n",
    "# This evaluator expects a raw prediction or probability column that indicates the score for the \"positive\" class.\n",
    "# By default, it uses 'rawPrediction'\n",
    "\n",
    "# Area Under ROC Curve (AUC ROC)\n",
    "# AUC ROC measures the ability of the classifier to distinguish between classes.\n",
    "# A value closer to 1 is better. 0.5 is random guessing.\n",
    "roc_auc_evaluator = BinaryClassificationEvaluator(labelCol=\"label\", rawPredictionCol=\"rawPrediction\", metricName=\"areaUnderROC\")\n",
    "auc_roc = roc_auc_evaluator.evaluate(predictions_df_nb_all_features)\n",
    "print(f\"Area Under ROC (AUC ROC) = {auc_roc:.4f}\")\n",
    "\n",
    "# Area Under Precision-Recall Curve (AUC PR)\n",
    "# AUC PR is often more informative for imbalanced datasets.\n",
    "pr_auc_evaluator = BinaryClassificationEvaluator(labelCol=\"label\", rawPredictionCol=\"rawPrediction\", metricName=\"areaUnderPR\")\n",
    "auc_pr = pr_auc_evaluator.evaluate(predictions_df_nb_all_features)\n",
    "print(f\"Area Under Precision-Recall Curve (AUC PR) = {auc_pr:.4f}\")"
   ]
  },
  {
   "cell_type": "markdown",
   "metadata": {
    "application/vnd.databricks.v1+cell": {
     "cellMetadata": {},
     "inputWidgets": {},
     "nuid": "b609896a-1588-452a-9258-116d5624c62b",
     "showTitle": false,
     "tableResultSettingsMap": {},
     "title": ""
    }
   },
   "source": [
    "Face value the Naive Bayes model has a high F1 score but is not able to capture complex relationships needed to truly separate the classes across a range of confidence levels as indicated by the very low AUC."
   ]
  },
  {
   "cell_type": "code",
   "execution_count": 0,
   "metadata": {
    "application/vnd.databricks.v1+cell": {
     "cellMetadata": {
      "byteLimit": 2048000,
      "rowLimit": 10000
     },
     "inputWidgets": {},
     "nuid": "c387db9a-9edd-4598-92ca-db2cda8dbf99",
     "showTitle": false,
     "tableResultSettingsMap": {},
     "title": ""
    }
   },
   "outputs": [
    {
     "output_type": "stream",
     "name": "stdout",
     "output_type": "stream",
     "text": [
      "Label distribution in predictions_df (from test data):\n+-----+-----+\n|label|count|\n+-----+-----+\n|    0| 4558|\n|    1| 4251|\n+-----+-----+\n\n"
     ]
    }
   ],
   "source": [
    "print(\"Label distribution in predictions_df (from test data):\")\n",
    "predictions_df_nb_all_features.groupBy(\"label\").count().show()\n",
    "# Also check on your original train_data\n",
    "# train_data.groupBy(\"label\").count().show()"
   ]
  },
  {
   "cell_type": "code",
   "execution_count": 0,
   "metadata": {
    "application/vnd.databricks.v1+cell": {
     "cellMetadata": {
      "byteLimit": 2048000,
      "rowLimit": 10000
     },
     "inputWidgets": {},
     "nuid": "a356b90b-7964-4648-8bba-4a6e026edd90",
     "showTitle": false,
     "tableResultSettingsMap": {},
     "title": ""
    }
   },
   "outputs": [
    {
     "output_type": "stream",
     "name": "stdout",
     "output_type": "stream",
     "text": [
      "Confusion Matrix:\n+-----+----------+-----+\n|label|prediction|count|\n+-----+----------+-----+\n|    0|       0.0| 4375|\n|    0|       1.0|  183|\n|    1|       0.0|  309|\n|    1|       1.0| 3942|\n+-----+----------+-----+\n\n"
     ]
    }
   ],
   "source": [
    "print(\"Confusion Matrix:\")\n",
    "predictions_df_nb_all_features.groupBy(\"label\", \"prediction\").count().show()"
   ]
  },
  {
   "cell_type": "code",
   "execution_count": 0,
   "metadata": {
    "application/vnd.databricks.v1+cell": {
     "cellMetadata": {
      "byteLimit": 2048000,
      "rowLimit": 10000
     },
     "inputWidgets": {},
     "nuid": "f99a5ff1-9809-4a7b-979c-f1f7a4876c62",
     "showTitle": false,
     "tableResultSettingsMap": {},
     "title": ""
    }
   },
   "outputs": [
    {
     "output_type": "stream",
     "name": "stdout",
     "output_type": "stream",
     "text": [
      "\nEvaluating model performance for Binary Classification...\n\n--- Threshold-based Metrics (Accuracy, F1, Precision, Recall) ---\nAccuracy = 0.9441\nF1 Score = 0.9441\nWeighted Precision = 0.9445\nWeighted Recall = 0.9441\n\n--- Ranking-based Metrics (AUC ROC, AUC PR) ---\nArea Under ROC (AUC ROC) = 0.5385\nArea Under Precision-Recall Curve (AUC PR) = 0.5146\n\nEvaluation complete.\n\nReturned metrics dictionary:\n{'accuracy': 0.9441480304234305, 'f1_score': 0.9441086668695291, 'weighted_precision': 0.9444570675679288, 'weighted_recall': 0.9441480304234307, 'auc_roc': 0.5384963752689014, 'auc_pr': 0.5146140093461739}\n"
     ]
    }
   ],
   "source": [
    "# Confirm function is returning the same results\n",
    "\n",
    "stored_metrics_nb_all_features = evaluate_binary_classification_model(predictions_df_nb_all_features)\n",
    "print(\"\\nReturned metrics dictionary:\")\n",
    "print(stored_metrics_nb_all_features)"
   ]
  },
  {
   "cell_type": "code",
   "execution_count": 0,
   "metadata": {
    "application/vnd.databricks.v1+cell": {
     "cellMetadata": {},
     "inputWidgets": {},
     "nuid": "51219071-626c-4054-8c54-64cab062b390",
     "showTitle": false,
     "tableResultSettingsMap": {},
     "title": ""
    }
   },
   "outputs": [],
   "source": [
    "# --- Example Usage (Conceptual - adapt to your actual DataFrame and column names) ---\n",
    "# Assuming 'predictions_df' is available from your model:\n",
    "# predictions_df = pipeline_nb_fitted.transform(test_data)\n",
    "\n",
    "# Define which label value is \"fake\" (positive) and \"true\" (negative)\n",
    "# For example, if 'fake' is label 1 and 'true' is label 0,\n",
    "# and your NaiveBayes probability vector is [prob_of_label_0, prob_of_label_1]\n",
    "\n",
    "# plot_score_distributions(\n",
    "#     predictions_df,\n",
    "#     label_col=\"label\",\n",
    "#     probability_col=\"probability\",  # Column containing [prob_class_0, prob_class_1]\n",
    "#     positive_class_index=1,       # Index for P(label=1) in the probability vector\n",
    "#     positive_label_value=1.0,       # Value representing the \"fake\" class in 'label' column\n",
    "#     negative_label_value=0.0        # Value representing the \"true\" class in 'label' column\n",
    "# )"
   ]
  },
  {
   "cell_type": "code",
   "execution_count": 0,
   "metadata": {
    "application/vnd.databricks.v1+cell": {
     "cellMetadata": {
      "byteLimit": 2048000,
      "rowLimit": 10000
     },
     "inputWidgets": {},
     "nuid": "229b53cf-1890-45f8-82de-8bdc77f26be8",
     "showTitle": false,
     "tableResultSettingsMap": {},
     "title": ""
    }
   },
   "outputs": [
    {
     "output_type": "stream",
     "name": "stdout",
     "output_type": "stream",
     "text": [
      "Plotting score distributions. Positive class label: 0.0, Negative class label: 1.0\nExtracting score for positive class from index 0 of 'probability'.\n"
     ]
    },
    {
     "output_type": "display_data",
     "data": {
      "image/png": "[encoded data removed]"
     },
     "metadata": {
      "application/vnd.databricks.v1+output": {
       "addedWidgets": {},
       "arguments": {},
       "data": "data:image/png;base64,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\n",
       "datasetInfos": [],
       "metadata": {},
       "removedWidgets": [],
       "type": "image"
      }
     },
     "output_type": "display_data"
    },
    {
     "output_type": "stream",
     "name": "stdout",
     "output_type": "stream",
     "text": [
      "Score distribution plot generated. Check your plotting output.\n"
     ]
    }
   ],
   "source": [
    "\n",
    "plot_score_distributions(\n",
    "    predictions_df_nb_all_features,\n",
    "    label_col=\"label\",\n",
    "    probability_col=\"probability\",  # Column containing [prob_class_0, prob_class_1]\n",
    "    positive_class_index=0,         # Index for P(label=0) in the probability vector\n",
    "    positive_label_value=0.0,       # Value representing the \"fake\" class in 'label' column\n",
    "    negative_label_value=1.0        # Value representing the \"true\" class in 'label' column\n",
    ")"
   ]
  },
  {
   "cell_type": "markdown",
   "metadata": {
    "application/vnd.databricks.v1+cell": {
     "cellMetadata": {
      "byteLimit": 2048000,
      "rowLimit": 10000
     },
     "inputWidgets": {},
     "nuid": "5a78bb06-801f-4fc0-8ed9-12aed4ac1097",
     "showTitle": false,
     "tableResultSettingsMap": {},
     "title": ""
    }
   },
   "source": [
    "### Model with 'text' only "
   ]
  },
  {
   "cell_type": "code",
   "execution_count": 0,
   "metadata": {
    "application/vnd.databricks.v1+cell": {
     "cellMetadata": {
      "byteLimit": 2048000,
      "rowLimit": 10000
     },
     "inputWidgets": {},
     "nuid": "d427ab9d-37d8-4513-beb9-c4bdc08111f5",
     "showTitle": false,
     "tableResultSettingsMap": {},
     "title": ""
    }
   },
   "outputs": [],
   "source": [
    "nb_model_text_only = NaiveBayes(\n",
    "    labelCol=\"label\",\n",
    "    featuresCol=\"features_text_only\",\n",
    "    modelType=\"multinomial\" \n",
    ")\n",
    "\n",
    "feature_assembler_text_only = VectorAssembler(\n",
    "    inputCols=[\n",
    "        \"text_tfidf_features\",\n",
    "    ],\n",
    "    outputCol=\"features_text_only\" # input to nb_model_text_only\n",
    ")\n",
    "\n",
    "pipeline = Pipeline(stages=[\n",
    "    # Text (main body) processing\n",
    "    text_tokenizer,\n",
    "    text_stopwords_remover,\n",
    "    text_hashing_tf,\n",
    "    text_idf,\n",
    "    # Assemble all features\n",
    "    feature_assembler_text_only,\n",
    "    # Add the Naive Bayes model estimator\n",
    "    nb_model_text_only\n",
    "])\n",
    "pipeline_nb_fitted_text_only = pipeline.fit(train_data)\n"
   ]
  },
  {
   "cell_type": "code",
   "execution_count": 0,
   "metadata": {
    "application/vnd.databricks.v1+cell": {
     "cellMetadata": {
      "byteLimit": 2048000,
      "rowLimit": 10000
     },
     "inputWidgets": {},
     "nuid": "b6ec7ce0-31d7-4539-86ee-a744fb25b51a",
     "showTitle": false,
     "tableResultSettingsMap": {},
     "title": ""
    }
   },
   "outputs": [],
   "source": [
    "# Making predictions on test data \n",
    "predictions_df_text_only = pipeline_nb_fitted_text_only.transform(test_data)"
   ]
  },
  {
   "cell_type": "code",
   "execution_count": 0,
   "metadata": {
    "application/vnd.databricks.v1+cell": {
     "cellMetadata": {
      "byteLimit": 2048000,
      "rowLimit": 10000
     },
     "inputWidgets": {},
     "nuid": "f91c813a-31ab-444b-88a6-02ddab579808",
     "showTitle": false,
     "tableResultSettingsMap": {},
     "title": ""
    }
   },
   "outputs": [
    {
     "output_type": "stream",
     "name": "stdout",
     "output_type": "stream",
     "text": [
      "Label distribution in predictions_df (from test data):\n+-----+-----+\n|label|count|\n+-----+-----+\n|    0| 4558|\n|    1| 4251|\n+-----+-----+\n\n"
     ]
    }
   ],
   "source": [
    "print(\"Label distribution in predictions_df (from test data):\")\n",
    "predictions_df_text_only.groupBy(\"label\").count().show()\n"
   ]
  },
  {
   "cell_type": "code",
   "execution_count": 0,
   "metadata": {
    "application/vnd.databricks.v1+cell": {
     "cellMetadata": {
      "byteLimit": 2048000,
      "rowLimit": 10000
     },
     "inputWidgets": {},
     "nuid": "1d780d26-694a-4d78-a5d1-c29c88b275c5",
     "showTitle": false,
     "tableResultSettingsMap": {},
     "title": ""
    }
   },
   "outputs": [
    {
     "output_type": "stream",
     "name": "stdout",
     "output_type": "stream",
     "text": [
      "\nEvaluating model performance for Binary Classification...\n\n--- Threshold-based Metrics (Accuracy, F1, Precision, Recall) ---\nAccuracy = 0.9300\nF1 Score = 0.9299\nWeighted Precision = 0.9304\nWeighted Recall = 0.9300\n\n--- Ranking-based Metrics (AUC ROC, AUC PR) ---\nArea Under ROC (AUC ROC) = 0.5236\nArea Under Precision-Recall Curve (AUC PR) = 0.5006\n\nEvaluation complete.\n"
     ]
    }
   ],
   "source": [
    "stored_metrics_nb_text_only  = evaluate_binary_classification_model(predictions_df_text_only)"
   ]
  },
  {
   "cell_type": "markdown",
   "metadata": {
    "application/vnd.databricks.v1+cell": {
     "cellMetadata": {},
     "inputWidgets": {},
     "nuid": "ee920176-bf16-41c8-acfc-b9e8eb60eae9",
     "showTitle": false,
     "tableResultSettingsMap": {},
     "title": ""
    }
   },
   "source": [
    "## RF Model"
   ]
  },
  {
   "cell_type": "code",
   "execution_count": 0,
   "metadata": {
    "application/vnd.databricks.v1+cell": {
     "cellMetadata": {},
     "inputWidgets": {},
     "nuid": "0a28ad6d-d892-4b60-ab64-51f7e994b165",
     "showTitle": false,
     "tableResultSettingsMap": {},
     "title": ""
    }
   },
   "outputs": [],
   "source": [
    "\n",
    "rf = RandomForestClassifier(labelCol=\"label\", featuresCol=\"features\", numTrees=10, maxDepth=4)\n",
    "\n",
    "rf_model_text_only = NaiveBayes(\n",
    "    labelCol=\"label\",\n",
    "    featuresCol=\"features_text_only\",\n",
    "    modelType=\"multinomial\" \n",
    ")\n",
    "\n",
    "feature_assembler_text_only = VectorAssembler(\n",
    "    inputCols=[\n",
    "        \"text_tfidf_features\",\n",
    "    ],\n",
    "    outputCol=\"features_text_only\" # input to rf_model_text_only\n",
    ")\n",
    "\n",
    "pipeline = Pipeline(stages=[\n",
    "    # Text (main body) processing\n",
    "    text_tokenizer,\n",
    "    text_stopwords_remover,\n",
    "    text_hashing_tf,\n",
    "    text_idf,\n",
    "    # Assemble all features\n",
    "    feature_assembler_text_only,\n",
    "    # Add the Naive Bayes model estimator\n",
    "    nb_model_text_only\n",
    "])\n",
    "pipeline_rf_fitted_text_only = pipeline.fit(train_data)\n",
    "\n",
    "# Making predictions on test data \n",
    "predictions_df_rf_text_only = pipeline_rf_fitted_text_only.transform(test_data)"
   ]
  }
 ],
 "metadata": {
  "application/vnd.databricks.v1+notebook": {
   "computePreferences": null,
   "dashboards": [],
   "environmentMetadata": {
    "base_environment": "",
    "environment_version": "1"
   },
   "inputWidgetPreferences": null,
   "language": "python",
   "notebookMetadata": {
    "pythonIndentUnit": 4
   },
   "notebookName": "02_feature eng & modelling",
   "widgets": {}
  }
 },
 "nbformat": 4,
 "nbformat_minor": 0
}