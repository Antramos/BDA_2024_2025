{
 "cells": [
  {
   "cell_type": "code",
   "execution_count": 0,
   "metadata": {
    "application/vnd.databricks.v1+cell": {
     "cellMetadata": {
      "byteLimit": 2048000,
      "rowLimit": 10000
     },
     "inputWidgets": {},
     "nuid": "01358e38-c893-4eb8-b812-298935fd1aba",
     "showTitle": false,
     "tableResultSettingsMap": {},
     "title": ""
    }
   },
   "outputs": [],
   "source": [
    "# Databricks Part 2 – Simulated Streaming with Model"
   ]
  },
  {
   "cell_type": "code",
   "execution_count": 0,
   "metadata": {
    "application/vnd.databricks.v1+cell": {
     "cellMetadata": {
      "byteLimit": 2048000,
      "rowLimit": 10000
     },
     "inputWidgets": {},
     "nuid": "932e9902-6b63-497f-a193-57c0f5b8fdfd",
     "showTitle": false,
     "tableResultSettingsMap": {},
     "title": ""
    }
   },
   "outputs": [
    {
     "output_type": "stream",
     "name": "stdout",
     "output_type": "stream",
     "text": [
      "** Model loaded.\n"
     ]
    }
   ],
   "source": [
    "#### Load the saved model\n",
    "from pyspark.ml.pipeline import PipelineModel\n",
    "\n",
    "model = PipelineModel.load(\"/dbfs/FileStore/models/fake_news_best_model\")\n",
    "print(\"** Model loaded.\")"
   ]
  },
  {
   "cell_type": "code",
   "execution_count": 0,
   "metadata": {
    "application/vnd.databricks.v1+cell": {
     "cellMetadata": {
      "byteLimit": 2048000,
      "rowLimit": 10000
     },
     "inputWidgets": {},
     "nuid": "97f1317d-1247-4281-a323-a75c0f51edc1",
     "showTitle": false,
     "tableResultSettingsMap": {},
     "title": ""
    }
   },
   "outputs": [
    {
     "output_type": "stream",
     "name": "stdout",
     "output_type": "stream",
     "text": [
      "<class 'pyspark.ml.pipeline.PipelineModel'>\n"
     ]
    }
   ],
   "source": [
    "print(type(model))"
   ]
  },
  {
   "cell_type": "code",
   "execution_count": 0,
   "metadata": {
    "application/vnd.databricks.v1+cell": {
     "cellMetadata": {
      "byteLimit": 2048000,
      "rowLimit": 10000
     },
     "inputWidgets": {},
     "nuid": "48f34245-260a-47f4-8dc8-4e31bf10d869",
     "showTitle": false,
     "tableResultSettingsMap": {},
     "title": ""
    }
   },
   "outputs": [
    {
     "output_type": "display_data",
     "data": {
      "text/html": [
       "<style scoped>\n",
       "  .table-result-container {\n",
       "    max-height: 300px;\n",
       "    overflow: auto;\n",
       "  }\n",
       "  table, th, td {\n",
       "    border: 1px solid black;\n",
       "    border-collapse: collapse;\n",
       "  }\n",
       "  th, td {\n",
       "    padding: 5px;\n",
       "  }\n",
       "  th {\n",
       "    text-align: left;\n",
       "  }\n",
       "</style><div class='table-result-container'><table class='table-result'><thead style='background-color: white'><tr><th>text</th></tr></thead><tbody><tr><td>Government confirms economic growth for next quarter.</td></tr><tr><td>BREAKING: Aliens have landed in Times Square!</td></tr><tr><td>Study shows coffee reduces risk of heart disease.</td></tr><tr><td>President announces new education reform policy.</td></tr><tr><td>Scientists discover cure for common cold in backyard.</td></tr><tr><td>NASA finds water on Mars, possible signs of life.</td></tr><tr><td>Click here to win a free iPhone in 5 minutes!</td></tr><tr><td>World leaders meet to discuss climate change solutions.</td></tr><tr><td>This one weird trick will make you rich overnight!</td></tr><tr><td>Experts warn about fake news spreading on social media.</td></tr></tbody></table></div>"
      ]
     },
     "metadata": {
      "application/vnd.databricks.v1+output": {
       "addedWidgets": {},
       "aggData": [],
       "aggError": "",
       "aggOverflow": false,
       "aggSchema": [],
       "aggSeriesLimitReached": false,
       "aggType": "",
       "arguments": {},
       "columnCustomDisplayInfos": {},
       "data": [
        [
         "Government confirms economic growth for next quarter."
        ],
        [
         "BREAKING: Aliens have landed in Times Square!"
        ],
        [
         "Study shows coffee reduces risk of heart disease."
        ],
        [
         "President announces new education reform policy."
        ],
        [
         "Scientists discover cure for common cold in backyard."
        ],
        [
         "NASA finds water on Mars, possible signs of life."
        ],
        [
         "Click here to win a free iPhone in 5 minutes!"
        ],
        [
         "World leaders meet to discuss climate change solutions."
        ],
        [
         "This one weird trick will make you rich overnight!"
        ],
        [
         "Experts warn about fake news spreading on social media."
        ]
       ],
       "datasetInfos": [],
       "dbfsResultPath": null,
       "isJsonSchema": true,
       "metadata": {},
       "overflow": false,
       "plotOptions": {
        "customPlotOptions": {},
        "displayType": "table",
        "pivotAggregation": null,
        "pivotColumns": null,
        "xColumns": null,
        "yColumns": null
       },
       "removedWidgets": [],
       "schema": [
        {
         "metadata": "{}",
         "name": "text",
         "type": "\"string\""
        }
       ],
       "type": "table"
      }
     },
     "output_type": "display_data"
    }
   ],
   "source": [
    "#### Load the streaming data (new messages)\n",
    "df_stream = spark.read.csv(\"/FileStore/tables/stream1.csv\", header=True, inferSchema=True).na.drop()\n",
    "display(df_stream)"
   ]
  },
  {
   "cell_type": "code",
   "execution_count": 0,
   "metadata": {
    "application/vnd.databricks.v1+cell": {
     "cellMetadata": {
      "byteLimit": 2048000,
      "rowLimit": 10000
     },
     "inputWidgets": {},
     "nuid": "0fc0035b-2484-4acf-9f84-3ad622464e21",
     "showTitle": false,
     "tableResultSettingsMap": {},
     "title": ""
    }
   },
   "outputs": [
    {
     "output_type": "display_data",
     "data": {
      "text/html": [
       "<style scoped>\n",
       "  .table-result-container {\n",
       "    max-height: 300px;\n",
       "    overflow: auto;\n",
       "  }\n",
       "  table, th, td {\n",
       "    border: 1px solid black;\n",
       "    border-collapse: collapse;\n",
       "  }\n",
       "  th, td {\n",
       "    padding: 5px;\n",
       "  }\n",
       "  th {\n",
       "    text-align: left;\n",
       "  }\n",
       "</style><div class='table-result-container'><table class='table-result'><thead style='background-color: white'><tr><th>text</th><th>prediction</th><th>timestamp</th></tr></thead><tbody><tr><td>Government confirms economic growth for next quarter.</td><td>0.0</td><td>2025-05-26T21:04:56.717+0000</td></tr><tr><td>BREAKING: Aliens have landed in Times Square!</td><td>0.0</td><td>2025-05-26T21:04:56.717+0000</td></tr><tr><td>Study shows coffee reduces risk of heart disease.</td><td>0.0</td><td>2025-05-26T21:04:56.717+0000</td></tr><tr><td>President announces new education reform policy.</td><td>0.0</td><td>2025-05-26T21:04:56.717+0000</td></tr><tr><td>Scientists discover cure for common cold in backyard.</td><td>0.0</td><td>2025-05-26T21:04:56.717+0000</td></tr><tr><td>NASA finds water on Mars, possible signs of life.</td><td>0.0</td><td>2025-05-26T21:04:56.717+0000</td></tr><tr><td>Click here to win a free iPhone in 5 minutes!</td><td>0.0</td><td>2025-05-26T21:04:56.717+0000</td></tr><tr><td>World leaders meet to discuss climate change solutions.</td><td>0.0</td><td>2025-05-26T21:04:56.717+0000</td></tr><tr><td>This one weird trick will make you rich overnight!</td><td>0.0</td><td>2025-05-26T21:04:56.717+0000</td></tr><tr><td>Experts warn about fake news spreading on social media.</td><td>0.0</td><td>2025-05-26T21:04:56.717+0000</td></tr></tbody></table></div>"
      ]
     },
     "metadata": {
      "application/vnd.databricks.v1+output": {
       "addedWidgets": {},
       "aggData": [],
       "aggError": "",
       "aggOverflow": false,
       "aggSchema": [],
       "aggSeriesLimitReached": false,
       "aggType": "",
       "arguments": {},
       "columnCustomDisplayInfos": {},
       "data": [
        [
         "Government confirms economic growth for next quarter.",
         0.0,
         "2025-05-26T21:04:56.717+0000"
        ],
        [
         "BREAKING: Aliens have landed in Times Square!",
         0.0,
         "2025-05-26T21:04:56.717+0000"
        ],
        [
         "Study shows coffee reduces risk of heart disease.",
         0.0,
         "2025-05-26T21:04:56.717+0000"
        ],
        [
         "President announces new education reform policy.",
         0.0,
         "2025-05-26T21:04:56.717+0000"
        ],
        [
         "Scientists discover cure for common cold in backyard.",
         0.0,
         "2025-05-26T21:04:56.717+0000"
        ],
        [
         "NASA finds water on Mars, possible signs of life.",
         0.0,
         "2025-05-26T21:04:56.717+0000"
        ],
        [
         "Click here to win a free iPhone in 5 minutes!",
         0.0,
         "2025-05-26T21:04:56.717+0000"
        ],
        [
         "World leaders meet to discuss climate change solutions.",
         0.0,
         "2025-05-26T21:04:56.717+0000"
        ],
        [
         "This one weird trick will make you rich overnight!",
         0.0,
         "2025-05-26T21:04:56.717+0000"
        ],
        [
         "Experts warn about fake news spreading on social media.",
         0.0,
         "2025-05-26T21:04:56.717+0000"
        ]
       ],
       "datasetInfos": [],
       "dbfsResultPath": null,
       "isJsonSchema": true,
       "metadata": {},
       "overflow": false,
       "plotOptions": {
        "customPlotOptions": {},
        "displayType": "table",
        "pivotAggregation": null,
        "pivotColumns": null,
        "xColumns": null,
        "yColumns": null
       },
       "removedWidgets": [],
       "schema": [
        {
         "metadata": "{}",
         "name": "text",
         "type": "\"string\""
        },
        {
         "metadata": "{\"ml_attr\":{\"type\":\"nominal\",\"num_vals\":2}}",
         "name": "prediction",
         "type": "\"double\""
        },
        {
         "metadata": "{}",
         "name": "timestamp",
         "type": "\"timestamp\""
        }
       ],
       "type": "table"
      }
     },
     "output_type": "display_data"
    }
   ],
   "source": [
    "#### Apply the model\n",
    "from pyspark.sql.functions import current_timestamp\n",
    "\n",
    "predictions = model.transform(df_stream).withColumn(\"timestamp\", current_timestamp())\n",
    "display(predictions.select(\"text\", \"prediction\", \"timestamp\"))"
   ]
  },
  {
   "cell_type": "code",
   "execution_count": 0,
   "metadata": {
    "application/vnd.databricks.v1+cell": {
     "cellMetadata": {
      "byteLimit": 2048000,
      "rowLimit": 10000
     },
     "inputWidgets": {},
     "nuid": "b6c4ce1d-de1a-470e-a5b2-f3a4d0944cc7",
     "showTitle": false,
     "tableResultSettingsMap": {},
     "title": ""
    }
   },
   "outputs": [],
   "source": [
    "#### Save predictions to persistent storage\n",
    "predictions.select(\"text\", \"prediction\", \"timestamp\") \\\n",
    "    .write.mode(\"append\").option(\"header\", True).csv(\"/FileStore/tables/stream_results\")"
   ]
  },
  {
   "cell_type": "code",
   "execution_count": 0,
   "metadata": {
    "application/vnd.databricks.v1+cell": {
     "cellMetadata": {
      "byteLimit": 2048000,
      "rowLimit": 10000
     },
     "inputWidgets": {},
     "nuid": "e691d57d-3075-4dd0-9402-5e1415e9f396",
     "showTitle": false,
     "tableResultSettingsMap": {},
     "title": ""
    }
   },
   "outputs": [
    {
     "output_type": "stream",
     "name": "stdout",
     "output_type": "stream",
     "text": [
      "+----------+-----+\n|prediction|total|\n+----------+-----+\n|       0.0|   10|\n+----------+-----+\n\n"
     ]
    }
   ],
   "source": [
    "#### Query predictions with Spark SQL\n",
    "predictions.createOrReplaceTempView(\"stream_results\")\n",
    "spark.sql(\"SELECT prediction, COUNT(*) as total FROM stream_results GROUP BY prediction\").show()"
   ]
  }
 ],
 "metadata": {
  "application/vnd.databricks.v1+notebook": {
   "computePreferences": null,
   "dashboards": [],
   "environmentMetadata": null,
   "inputWidgetPreferences": null,
   "language": "python",
   "notebookMetadata": {
    "pythonIndentUnit": 4
   },
   "notebookName": "databricks_step_by_step_part2",
   "widgets": {}
  }
 },
 "nbformat": 4,
 "nbformat_minor": 0
}