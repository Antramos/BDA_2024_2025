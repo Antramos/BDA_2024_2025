{
  "cells": [
    {
      "cell_type": "code",
      "execution_count": 1,
      "id": "7898b2c3",
      "metadata": {
        "id": "7898b2c3",
        "colab": {
          "base_uri": "https://localhost:8080/"
        },
        "outputId": "0da3dae1-cb2f-4ef5-a38c-b9f0d0335706"
      },
      "outputs": [
        {
          "output_type": "stream",
          "name": "stdout",
          "text": [
            "\u001b[31mERROR: Operation cancelled by user\u001b[0m\u001b[31m\n",
            "\u001b[0m"
          ]
        }
      ],
      "source": [
        "#### install java & pyspark - You just have to do it one time, so you can skip that\n",
        "\n",
        "!apt-get install openjdk-11-jdk-headless -qq > /dev/null\n",
        "!pip install pyspark -q"
      ]
    },
    {
      "cell_type": "code",
      "execution_count": 4,
      "id": "39e0eeed",
      "metadata": {
        "id": "39e0eeed"
      },
      "outputs": [],
      "source": [
        "#### environment setup\n",
        "\n",
        "import os\n",
        "os.environ[\"JAVA_HOME\"] = \"/usr/lib/jvm/java-11-openjdk-amd64\""
      ]
    },
    {
      "cell_type": "code",
      "execution_count": 5,
      "id": "1c90772c",
      "metadata": {
        "id": "1c90772c"
      },
      "outputs": [],
      "source": [
        "#### Spark Session Start\n",
        "\n",
        "from pyspark.sql import SparkSession\n",
        "spark = SparkSession.builder.appName(\"FakeNewsStreamingSim\").getOrCreate()"
      ]
    },
    {
      "cell_type": "code",
      "execution_count": 6,
      "id": "fb8c2096",
      "metadata": {
        "colab": {
          "base_uri": "https://localhost:8080/"
        },
        "id": "fb8c2096",
        "outputId": "2b2b258c-405d-40cc-892b-fb81239d11d2"
      },
      "outputs": [
        {
          "output_type": "stream",
          "name": "stdout",
          "text": [
            "Mounted at /content/drive\n"
          ]
        }
      ],
      "source": [
        "#### Mounting Google Drive (see phase 1 notebook)\n",
        "\n",
        "from google.colab import drive\n",
        "drive.mount('/content/drive')"
      ]
    },
    {
      "cell_type": "code",
      "execution_count": 7,
      "id": "551df3d5",
      "metadata": {
        "colab": {
          "base_uri": "https://localhost:8080/"
        },
        "id": "551df3d5",
        "outputId": "7e2af593-ad2f-4f6d-b90f-bb3b4b18f982"
      },
      "outputs": [
        {
          "output_type": "stream",
          "name": "stdout",
          "text": [
            "Model: /content/drive/MyDrive/fake_news_project/best_model\n",
            "Simulated stream: /content/drive/MyDrive/fake_news_project/stream1.csv\n"
          ]
        }
      ],
      "source": [
        "#### setting paths\n",
        "\n",
        "project_path = \"/content/drive/MyDrive/fake_news_project\"\n",
        "model_path = f\"{project_path}/best_model\" ## Here is where is the model created on phase 1\n",
        "stream_file = f\"{project_path}/stream1.csv\" ## csv used for streaming simulation\n",
        "print(\"Model:\", model_path)\n",
        "print(\"Simulated stream:\", stream_file)"
      ]
    },
    {
      "cell_type": "code",
      "execution_count": 8,
      "id": "e5e41b27",
      "metadata": {
        "colab": {
          "base_uri": "https://localhost:8080/"
        },
        "id": "e5e41b27",
        "outputId": "05cd778f-9064-48c1-a949-c00af8345912"
      },
      "outputs": [
        {
          "output_type": "stream",
          "name": "stdout",
          "text": [
            "Model succesfully loaded!\n"
          ]
        }
      ],
      "source": [
        "#### Load trained and tested (phase 1) model\n",
        "\n",
        "from pyspark.ml.pipeline import PipelineModel\n",
        "model = PipelineModel.load(model_path)\n",
        "print(\"Model succesfully loaded!\")"
      ]
    },
    {
      "cell_type": "code",
      "execution_count": 9,
      "id": "4786a145",
      "metadata": {
        "colab": {
          "base_uri": "https://localhost:8080/"
        },
        "id": "4786a145",
        "outputId": "be326b1f-4f3e-4800-b7e3-42de7ac69cc9"
      },
      "outputs": [
        {
          "output_type": "stream",
          "name": "stdout",
          "text": [
            "+--------------------+\n",
            "|                text|\n",
            "+--------------------+\n",
            "|Government confir...|\n",
            "|BREAKING: Aliens ...|\n",
            "|Study shows coffe...|\n",
            "|President announc...|\n",
            "|Scientists discov...|\n",
            "+--------------------+\n",
            "only showing top 5 rows\n",
            "\n"
          ]
        }
      ],
      "source": [
        "#### stream reading simulation (csv file with new messages)\n",
        "\n",
        "df_stream = spark.read.csv(stream_file, header=True, inferSchema=True).na.drop()\n",
        "df_stream.show(5)"
      ]
    },
    {
      "cell_type": "code",
      "execution_count": 10,
      "id": "9d47b9d1",
      "metadata": {
        "colab": {
          "base_uri": "https://localhost:8080/"
        },
        "id": "9d47b9d1",
        "outputId": "62f29b0f-8b37-4cf2-9579-795dc3e1145a"
      },
      "outputs": [
        {
          "output_type": "stream",
          "name": "stdout",
          "text": [
            "+--------------------+----------+\n",
            "|                text|prediction|\n",
            "+--------------------+----------+\n",
            "|Government confir...|       0.0|\n",
            "|BREAKING: Aliens ...|       0.0|\n",
            "|Study shows coffe...|       0.0|\n",
            "|President announc...|       0.0|\n",
            "|Scientists discov...|       0.0|\n",
            "|NASA finds water ...|       0.0|\n",
            "|Click here to win...|       0.0|\n",
            "|World leaders mee...|       0.0|\n",
            "|This one weird tr...|       0.0|\n",
            "|Experts warn abou...|       0.0|\n",
            "+--------------------+----------+\n",
            "\n"
          ]
        }
      ],
      "source": [
        "#### predicting new messages\n",
        "\n",
        "predictions = model.transform(df_stream)\n",
        "predictions.select(\"text\", \"prediction\").show(10)"
      ]
    },
    {
      "cell_type": "code",
      "execution_count": 11,
      "id": "9f9f9dd8",
      "metadata": {
        "colab": {
          "base_uri": "https://localhost:8080/"
        },
        "id": "9f9f9dd8",
        "outputId": "2150bb92-9f65-4938-9a34-be60a2155573"
      },
      "outputs": [
        {
          "output_type": "stream",
          "name": "stdout",
          "text": [
            "Saved results on: /content/drive/MyDrive/fake_news_project/stream_results.csv\n"
          ]
        }
      ],
      "source": [
        "#### saving results on a persistent file\n",
        "\n",
        "output_path = f\"{project_path}/stream_results.csv\"\n",
        "predictions.select(\"text\", \"prediction\").write.mode(\"overwrite\").option(\"header\", True).csv(output_path)\n",
        "print(f\"Saved results on: {output_path}\")"
      ]
    },
    {
      "cell_type": "code",
      "execution_count": 12,
      "id": "dc217c1a",
      "metadata": {
        "colab": {
          "base_uri": "https://localhost:8080/"
        },
        "id": "dc217c1a",
        "outputId": "ee83d660-375c-4931-a80d-a28f776343cd"
      },
      "outputs": [
        {
          "output_type": "stream",
          "name": "stdout",
          "text": [
            "+----------+-----+\n",
            "|prediction|total|\n",
            "+----------+-----+\n",
            "|       0.0|   10|\n",
            "+----------+-----+\n",
            "\n"
          ]
        }
      ],
      "source": [
        "#### Register as temporary table for SQL queries and execute one query\n",
        "\n",
        "predictions.createOrReplaceTempView(\"stream_results\")\n",
        "spark.sql(\"SELECT prediction, COUNT(*) as total FROM stream_results GROUP BY prediction\").show()"
      ]
    }
  ],
  "metadata": {
    "colab": {
      "provenance": []
    },
    "language_info": {
      "name": "python"
    },
    "kernelspec": {
      "name": "python3",
      "display_name": "Python 3"
    }
  },
  "nbformat": 4,
  "nbformat_minor": 5
}